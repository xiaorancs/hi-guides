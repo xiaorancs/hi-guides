{
 "cells": [
  {
   "cell_type": "code",
   "execution_count": 1,
   "metadata": {
    "collapsed": true
   },
   "outputs": [],
   "source": [
    "import pandas as pd\n",
    "import numpy as np\n",
    "import scipy as sp\n"
   ]
  },
  {
   "cell_type": "code",
   "execution_count": 2,
   "metadata": {
    "collapsed": true
   },
   "outputs": [],
   "source": [
    "MINTIME = 1471119058"
   ]
  },
  {
   "cell_type": "markdown",
   "metadata": {},
   "source": [
    "### actionTime最后几次的时间\n",
    "+ types = [2,3,4,5,6,7,8,9]\n",
    "\n"
   ]
  },
  {
   "cell_type": "code",
   "execution_count": 3,
   "metadata": {
    "collapsed": true
   },
   "outputs": [],
   "source": [
    "df_train_data = pd.read_csv('../data/train/orderFuture_train.csv')\n",
    "df_test_data = pd.read_csv('../data/test/orderFuture_test.csv')\n",
    "\n",
    "# 首先选择action信息\n",
    "df_train_action = pd.read_csv('../data/train/action_train.csv')\n",
    "df_test_action = pd.read_csv('../data/test/action_test.csv')\n"
   ]
  },
  {
   "cell_type": "code",
   "execution_count": 6,
   "metadata": {
    "collapsed": true
   },
   "outputs": [],
   "source": [
    "# 时间间隔特征，[avg,std,var,skew,kurt,min,max, last1, last2,last3,last4,last5]\n",
    "def getTypeKLast3Diff(df_train_action, Type):\n",
    "    '''参数：\n",
    "        df_train_action: 应用数据，可以是train和test\n",
    "        Type: actionType的值\n",
    "    \n",
    "    '''    \n",
    "    column = ['userid',\n",
    "              'type'+str(Type)+'Last1Time','type'+str(Type)+'Last2Time','type'+str(Type)+'Last3Time']\n",
    "\n",
    "    df_train_diffTime = pd.DataFrame(columns=column)\n",
    "\n",
    "    userlist = list(set(df_train_action['userid']))\n",
    "\n",
    "    k = 0\n",
    "    for user in userlist:\n",
    "        k+=1\n",
    "        if k%5000 == 0:\n",
    "            print(k)\n",
    "\n",
    "        df_users_t = df_train_action[df_train_action['userid'] == user]\n",
    "\n",
    "        # 选择type k 对应的数据\n",
    "        df_users_t = df_users_t[df_users_t['actionType'] == Type]\n",
    "\n",
    "        df_users_t = df_users_t.sort_values('actionTime')\n",
    "\n",
    "        row = [user]\n",
    "\n",
    "        # 注意要时间进行发转，统计的时候是到这统计的。\n",
    "        tmp_time = []\n",
    "        tmp_time.extend(df_users_t['actionTime'].values[-3:])\n",
    "        tmp_time.reverse()\n",
    "\n",
    "        # 用差值的平均数填充\n",
    "        if len(tmp_time) < 3:\n",
    "            tmp_time.extend([MINTIME for i in range(3-len(tmp_time))])\n",
    "\n",
    "        row.extend(tmp_time)\n",
    "\n",
    "        df_train_diffTime = df_train_diffTime.append(pd.DataFrame([row],columns=column),ignore_index=True)\n",
    "\n",
    "        \n",
    "    return df_train_diffTime\n",
    "\n"
   ]
  },
  {
   "cell_type": "code",
   "execution_count": null,
   "metadata": {
    "collapsed": false
   },
   "outputs": [
    {
     "name": "stdout",
     "output_type": "stream",
     "text": [
      "2\n",
      "5000\n",
      "10000\n",
      "15000\n",
      "20000\n",
      "25000\n",
      "30000\n",
      "35000\n",
      "40000\n",
      "3\n",
      "5000\n",
      "10000\n",
      "15000\n",
      "20000\n",
      "25000\n",
      "30000\n",
      "35000\n",
      "40000\n",
      "4\n",
      "5000\n",
      "10000\n",
      "15000\n",
      "20000\n",
      "25000\n",
      "30000\n",
      "35000\n",
      "40000\n",
      "5\n",
      "5000\n",
      "10000\n",
      "15000\n",
      "20000\n",
      "25000\n",
      "30000\n",
      "35000\n",
      "40000\n",
      "6\n",
      "5000\n",
      "10000\n",
      "15000\n",
      "20000\n",
      "25000\n",
      "30000\n",
      "35000\n",
      "40000\n",
      "7\n",
      "5000\n",
      "10000\n",
      "15000\n",
      "20000\n",
      "25000\n",
      "30000\n",
      "35000\n",
      "40000\n",
      "8\n",
      "5000\n",
      "10000\n",
      "15000\n",
      "20000\n",
      "25000\n",
      "30000\n",
      "35000\n"
     ]
    }
   ],
   "source": [
    "## train\n",
    "for Type in [2,3,4,5,6,7,8,9]:\n",
    "    print(Type)\n",
    "    df_train_diffTime = getTypeKLast3Diff(df_train_action,Type)\n",
    "    df_train_data = pd.merge(df_train_data,df_train_diffTime, how='left',on='userid')\n"
   ]
  },
  {
   "cell_type": "code",
   "execution_count": null,
   "metadata": {
    "collapsed": true
   },
   "outputs": [],
   "source": [
    "## test\n",
    "for Type in [2,3,4,5,6,7,8,9]:\n",
    "    print(Type)\n",
    "    df_test_diffTime = getTypeKLast3Diff(df_test_action,Type)\n",
    "    df_test_data = pd.merge(df_test_data,df_test_diffTime, how='left',on='userid')\n"
   ]
  },
  {
   "cell_type": "code",
   "execution_count": null,
   "metadata": {
    "collapsed": true
   },
   "outputs": [],
   "source": [
    "df_train_data.info()\n",
    "df_test_data.info()\n"
   ]
  },
  {
   "cell_type": "code",
   "execution_count": null,
   "metadata": {
    "collapsed": true
   },
   "outputs": [],
   "source": [
    "df_train_data.fillna(MINTIME,inplace=True)\n",
    "df_test_data.fillna(MINTIME,inplace=True)\n"
   ]
  },
  {
   "cell_type": "code",
   "execution_count": null,
   "metadata": {
    "collapsed": true
   },
   "outputs": [],
   "source": [
    "df_train_data.drop('orderType',axis=1,inplace=True)\n",
    "df_train_data.to_csv('../data/dataSet/df_train_10.csv',index=False,index_label=False)\n",
    "df_test_data.to_csv('../data/dataSet/df_test_10.csv',index=False,index_label=False)\n"
   ]
  },
  {
   "cell_type": "code",
   "execution_count": null,
   "metadata": {
    "collapsed": true
   },
   "outputs": [],
   "source": []
  }
 ],
 "metadata": {
  "kernelspec": {
   "display_name": "Python [conda root]",
   "language": "python",
   "name": "conda-root-py"
  },
  "language_info": {
   "codemirror_mode": {
    "name": "ipython",
    "version": 3
   },
   "file_extension": ".py",
   "mimetype": "text/x-python",
   "name": "python",
   "nbconvert_exporter": "python",
   "pygments_lexer": "ipython3",
   "version": "3.5.2"
  }
 },
 "nbformat": 4,
 "nbformat_minor": 1
}
