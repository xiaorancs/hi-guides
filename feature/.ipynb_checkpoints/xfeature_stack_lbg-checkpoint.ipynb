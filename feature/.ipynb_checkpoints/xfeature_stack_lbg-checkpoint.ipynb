{
 "cells": [
  {
   "cell_type": "code",
   "execution_count": 3,
   "metadata": {
    "collapsed": true
   },
   "outputs": [],
   "source": [
    "import pandas as pd\n",
    "import numpy as np\n",
    "import lightgbm as lgb\n"
   ]
  },
  {
   "cell_type": "code",
   "execution_count": 4,
   "metadata": {
    "collapsed": true
   },
   "outputs": [],
   "source": [
    "seed = 71\n",
    "\n",
    "np.random.seed(seed)\n",
    "valid_size = 0.2\n",
    "LOOP = 1\n",
    "ESR = 40\n",
    "#nround = 10\n",
    "\n"
   ]
  },
  {
   "cell_type": "code",
   "execution_count": 5,
   "metadata": {
    "collapsed": true
   },
   "outputs": [],
   "source": [
    "df_train = pd.read_csv('../data/train/orderFuture_train.csv')\n",
    "df_test = pd.read_csv('../data/test/orderFuture_test.csv')\n",
    "\n",
    "df_train_1 = pd.read_csv('../data/dataSet/df_train_1.csv')\n",
    "df_test_1 = pd.read_csv('../data/dataSet/df_test_1.csv')\n",
    "df_train = pd.merge(df_train,df_train_1,how='left',on='userid')\n",
    "df_test = pd.merge(df_test,df_test_1,how='left',on='userid')\n",
    "\n",
    "\n",
    "df_train_2 = pd.read_csv('../data/dataSet/df_train_2.csv')\n",
    "df_test_2 = pd.read_csv('../data/dataSet/df_test_2.csv')\n",
    "df_train = pd.merge(df_train,df_train_2,how='left',on='userid')\n",
    "df_test = pd.merge(df_test,df_test_2,how='left',on='userid')\n",
    "\n",
    "\n",
    "df_train_3 = pd.read_csv('../data/dataSet/df_train_3.csv')\n",
    "df_test_3 = pd.read_csv('../data/dataSet/df_test_3.csv')\n",
    "df_train = pd.merge(df_train,df_train_3,how='left',on='userid')\n",
    "df_test = pd.merge(df_test,df_test_3,how='left',on='userid')\n",
    "\n",
    "\n",
    "df_train_4 = pd.read_csv('../data/dataSet/df_train_4.csv')\n",
    "df_test_4 = pd.read_csv('../data/dataSet/df_test_4.csv')\n",
    "df_train = pd.merge(df_train,df_train_4,how='left',on='userid')\n",
    "df_test = pd.merge(df_test,df_test_4,how='left',on='userid')\n",
    "\n",
    "df_train_5 = pd.read_csv('../data/dataSet/df_train_5.csv')\n",
    "df_test_5 = pd.read_csv('../data/dataSet/df_test_5.csv')\n",
    "df_train = pd.merge(df_train,df_train_5,how='left',on='userid')\n",
    "df_test = pd.merge(df_test,df_test_5,how='left',on='userid')\n",
    "\n",
    "df_train_6 = pd.read_csv('../data/dataSet/df_train_6.csv')\n",
    "df_test_6 = pd.read_csv('../data/dataSet/df_test_6.csv')\n",
    "df_train = pd.merge(df_train,df_train_6,how='left',on='userid')\n",
    "df_test = pd.merge(df_test,df_test_6,how='left',on='userid')\n",
    "\n",
    "df_train_7 = pd.read_csv('../data/dataSet/df_train_7.csv')\n",
    "df_test_7 = pd.read_csv('../data/dataSet/df_test_7.csv')\n",
    "df_train = pd.merge(df_train,df_train_7,how='left',on='userid')\n",
    "df_test = pd.merge(df_test,df_test_7,how='left',on='userid')\n",
    "\n",
    "\n",
    "df_train_8 = pd.read_csv('../data/dataSet/df_train_8.csv')\n",
    "df_test_8 = pd.read_csv('../data/dataSet/df_test_8.csv')\n",
    "df_train = pd.merge(df_train,df_train_8,how='left',on='userid')\n",
    "df_test = pd.merge(df_test,df_test_8,how='left',on='userid')\n",
    "\n",
    "df_train_9 = pd.read_csv('../data/dataSet/df_train_9.csv')\n",
    "df_test_9 = pd.read_csv('../data/dataSet/df_test_9.csv')\n",
    "df_train = pd.merge(df_train,df_train_9,how='left',on='userid')\n",
    "df_test = pd.merge(df_test,df_test_9,how='left',on='userid')\n",
    "\n",
    "\n",
    "df_train_10 = pd.read_csv('../data/dataSet/df_train_10.csv')\n",
    "df_test_10 = pd.read_csv('../data/dataSet/df_test_10.csv')\n",
    "df_train = pd.merge(df_train,df_train_10,how='left',on='userid')\n",
    "df_test = pd.merge(df_test,df_test_10,how='left',on='userid')\n",
    "\n",
    "df_train_11 = pd.read_csv('../data/dataSet/df_train_11.csv')\n",
    "df_test_11 = pd.read_csv('../data/dataSet/df_test_11.csv')\n",
    "df_train = pd.merge(df_train,df_train_11,how='left',on='userid')\n",
    "df_test = pd.merge(df_test,df_test_11,how='left',on='userid')\n",
    "\n",
    "df_train_12 = pd.read_csv('../data/dataSet/df_train_12_top100.csv')\n",
    "df_test_12 = pd.read_csv('../data/dataSet/df_test_12_top100.csv')\n",
    "df_train = pd.merge(df_train,df_train_11,how='left',on='userid')\n",
    "df_test = pd.merge(df_test,df_test_11,how='left',on='userid')\n"
   ]
  },
  {
   "cell_type": "code",
   "execution_count": 6,
   "metadata": {
    "collapsed": false
   },
   "outputs": [
    {
     "data": {
      "text/plain": [
       "754"
      ]
     },
     "execution_count": 6,
     "metadata": {},
     "output_type": "execute_result"
    }
   ],
   "source": [
    "# 设置特征数据，去除id数据，不能进行预测\n",
    "features = df_test.columns[1:]\n",
    "\n",
    "label = 'orderType'\n",
    "\n",
    "len(features)\n"
   ]
  },
  {
   "cell_type": "code",
   "execution_count": 11,
   "metadata": {
    "collapsed": false
   },
   "outputs": [
    {
     "data": {
      "text/plain": [
       "LGBMClassifier(boosting_type='gbdt', colsample_bytree=1, feature_fraction=0.9,\n",
       "        feature_fraction_seed=1, learning_rate=0.1, max_bin=255,\n",
       "        max_depth=5, min_child_samples=10, min_child_weight=5,\n",
       "        min_split_gain=0, n_estimators=50, nthread=-1, num_leaves=108,\n",
       "        objective='binary', reg_alpha=0, reg_lambda=0, seed=0, silent=True,\n",
       "        subsample=1, subsample_for_bin=50000, subsample_freq=1)"
      ]
     },
     "execution_count": 11,
     "metadata": {},
     "output_type": "execute_result"
    }
   ],
   "source": [
    "gbm = lgb.LGBMClassifier(\n",
    "        learning_rate=0.1,\n",
    "        n_estimators=50,\n",
    "        max_depth=5,\n",
    "        objective= 'binary',\n",
    "        feature_fraction = 0.9,\n",
    "        feature_fraction_seed = 1,\n",
    "        num_leaves=108,\n",
    "        )\n",
    "gbm.fit(df_train[features],df_train[label],eval_metric='auc',verbose=5)\n"
   ]
  },
  {
   "cell_type": "code",
   "execution_count": 15,
   "metadata": {
    "collapsed": false
   },
   "outputs": [
    {
     "data": {
      "text/plain": [
       "array([[ 5,  5,  5, ..., 10,  5,  7],\n",
       "       [ 9,  9,  9, ...,  6,  6,  5],\n",
       "       [ 6,  6,  6, ..., 17,  4,  5],\n",
       "       ..., \n",
       "       [ 4, 11, 11, ...,  6,  6,  5],\n",
       "       [ 5, 12,  5, ..., 10,  0,  6],\n",
       "       [ 5,  5,  5, ...,  5,  0,  5]], dtype=int32)"
      ]
     },
     "execution_count": 15,
     "metadata": {},
     "output_type": "execute_result"
    }
   ],
   "source": [
    "gbm.apply(df_train[features])"
   ]
  },
  {
   "cell_type": "code",
   "execution_count": null,
   "metadata": {
    "collapsed": true
   },
   "outputs": [],
   "source": []
  },
  {
   "cell_type": "code",
   "execution_count": 16,
   "metadata": {
    "collapsed": true
   },
   "outputs": [],
   "source": [
    "column = ['stackfeature'+str(i) for i in range(50)]\n",
    "\n",
    "df_train_stack = pd.DataFrame(gbm.apply(df_train[features]),columns=column)\n",
    "df_test_stack = pd.DataFrame(gbm.apply(df_test[features]),columns=column)\n",
    "\n",
    "df_train_13 = pd.DataFrame()\n",
    "df_train_13['userid'] = df_train['userid']\n",
    "\n",
    "df_test_13 = pd.DataFrame()\n",
    "df_test_13['userid'] = df_test['userid']\n",
    "\n",
    "\n",
    "df_train_13[column] = df_train_stack\n",
    "df_test_13[column] = df_test_stack\n"
   ]
  },
  {
   "cell_type": "code",
   "execution_count": 17,
   "metadata": {
    "collapsed": true
   },
   "outputs": [
    {
     "name": "stdout",
     "output_type": "stream",
     "text": [
      "<class 'pandas.core.frame.DataFrame'>\n",
      "Int64Index: 40307 entries, 0 to 40306\n",
      "Data columns (total 51 columns):\n",
      "userid            40307 non-null int64\n",
      "stackfeature0     40307 non-null int32\n",
      "stackfeature1     40307 non-null int32\n",
      "stackfeature2     40307 non-null int32\n",
      "stackfeature3     40307 non-null int32\n",
      "stackfeature4     40307 non-null int32\n",
      "stackfeature5     40307 non-null int32\n",
      "stackfeature6     40307 non-null int32\n",
      "stackfeature7     40307 non-null int32\n",
      "stackfeature8     40307 non-null int32\n",
      "stackfeature9     40307 non-null int32\n",
      "stackfeature10    40307 non-null int32\n",
      "stackfeature11    40307 non-null int32\n",
      "stackfeature12    40307 non-null int32\n",
      "stackfeature13    40307 non-null int32\n",
      "stackfeature14    40307 non-null int32\n",
      "stackfeature15    40307 non-null int32\n",
      "stackfeature16    40307 non-null int32\n",
      "stackfeature17    40307 non-null int32\n",
      "stackfeature18    40307 non-null int32\n",
      "stackfeature19    40307 non-null int32\n",
      "stackfeature20    40307 non-null int32\n",
      "stackfeature21    40307 non-null int32\n",
      "stackfeature22    40307 non-null int32\n",
      "stackfeature23    40307 non-null int32\n",
      "stackfeature24    40307 non-null int32\n",
      "stackfeature25    40307 non-null int32\n",
      "stackfeature26    40307 non-null int32\n",
      "stackfeature27    40307 non-null int32\n",
      "stackfeature28    40307 non-null int32\n",
      "stackfeature29    40307 non-null int32\n",
      "stackfeature30    40307 non-null int32\n",
      "stackfeature31    40307 non-null int32\n",
      "stackfeature32    40307 non-null int32\n",
      "stackfeature33    40307 non-null int32\n",
      "stackfeature34    40307 non-null int32\n",
      "stackfeature35    40307 non-null int32\n",
      "stackfeature36    40307 non-null int32\n",
      "stackfeature37    40307 non-null int32\n",
      "stackfeature38    40307 non-null int32\n",
      "stackfeature39    40307 non-null int32\n",
      "stackfeature40    40307 non-null int32\n",
      "stackfeature41    40307 non-null int32\n",
      "stackfeature42    40307 non-null int32\n",
      "stackfeature43    40307 non-null int32\n",
      "stackfeature44    40307 non-null int32\n",
      "stackfeature45    40307 non-null int32\n",
      "stackfeature46    40307 non-null int32\n",
      "stackfeature47    40307 non-null int32\n",
      "stackfeature48    40307 non-null int32\n",
      "stackfeature49    40307 non-null int32\n",
      "dtypes: int32(50), int64(1)\n",
      "memory usage: 8.3 MB\n"
     ]
    },
    {
     "data": {
      "text/html": [
       "<div>\n",
       "<style>\n",
       "    .dataframe thead tr:only-child th {\n",
       "        text-align: right;\n",
       "    }\n",
       "\n",
       "    .dataframe thead th {\n",
       "        text-align: left;\n",
       "    }\n",
       "\n",
       "    .dataframe tbody tr th {\n",
       "        vertical-align: top;\n",
       "    }\n",
       "</style>\n",
       "<table border=\"1\" class=\"dataframe\">\n",
       "  <thead>\n",
       "    <tr style=\"text-align: right;\">\n",
       "      <th></th>\n",
       "      <th>userid</th>\n",
       "      <th>stackfeature0</th>\n",
       "      <th>stackfeature1</th>\n",
       "      <th>stackfeature2</th>\n",
       "      <th>stackfeature3</th>\n",
       "      <th>stackfeature4</th>\n",
       "      <th>stackfeature5</th>\n",
       "      <th>stackfeature6</th>\n",
       "      <th>stackfeature7</th>\n",
       "      <th>stackfeature8</th>\n",
       "      <th>...</th>\n",
       "      <th>stackfeature40</th>\n",
       "      <th>stackfeature41</th>\n",
       "      <th>stackfeature42</th>\n",
       "      <th>stackfeature43</th>\n",
       "      <th>stackfeature44</th>\n",
       "      <th>stackfeature45</th>\n",
       "      <th>stackfeature46</th>\n",
       "      <th>stackfeature47</th>\n",
       "      <th>stackfeature48</th>\n",
       "      <th>stackfeature49</th>\n",
       "    </tr>\n",
       "  </thead>\n",
       "  <tbody>\n",
       "    <tr>\n",
       "      <th>0</th>\n",
       "      <td>100000000013</td>\n",
       "      <td>5</td>\n",
       "      <td>5</td>\n",
       "      <td>5</td>\n",
       "      <td>5</td>\n",
       "      <td>5</td>\n",
       "      <td>6</td>\n",
       "      <td>5</td>\n",
       "      <td>10</td>\n",
       "      <td>4</td>\n",
       "      <td>...</td>\n",
       "      <td>10</td>\n",
       "      <td>12</td>\n",
       "      <td>23</td>\n",
       "      <td>3</td>\n",
       "      <td>1</td>\n",
       "      <td>6</td>\n",
       "      <td>8</td>\n",
       "      <td>10</td>\n",
       "      <td>5</td>\n",
       "      <td>7</td>\n",
       "    </tr>\n",
       "    <tr>\n",
       "      <th>1</th>\n",
       "      <td>100000000111</td>\n",
       "      <td>9</td>\n",
       "      <td>9</td>\n",
       "      <td>9</td>\n",
       "      <td>0</td>\n",
       "      <td>10</td>\n",
       "      <td>8</td>\n",
       "      <td>8</td>\n",
       "      <td>5</td>\n",
       "      <td>19</td>\n",
       "      <td>...</td>\n",
       "      <td>5</td>\n",
       "      <td>8</td>\n",
       "      <td>1</td>\n",
       "      <td>11</td>\n",
       "      <td>7</td>\n",
       "      <td>3</td>\n",
       "      <td>8</td>\n",
       "      <td>6</td>\n",
       "      <td>6</td>\n",
       "      <td>5</td>\n",
       "    </tr>\n",
       "    <tr>\n",
       "      <th>2</th>\n",
       "      <td>100000000127</td>\n",
       "      <td>6</td>\n",
       "      <td>6</td>\n",
       "      <td>6</td>\n",
       "      <td>6</td>\n",
       "      <td>6</td>\n",
       "      <td>4</td>\n",
       "      <td>6</td>\n",
       "      <td>3</td>\n",
       "      <td>18</td>\n",
       "      <td>...</td>\n",
       "      <td>7</td>\n",
       "      <td>4</td>\n",
       "      <td>27</td>\n",
       "      <td>6</td>\n",
       "      <td>1</td>\n",
       "      <td>10</td>\n",
       "      <td>9</td>\n",
       "      <td>17</td>\n",
       "      <td>4</td>\n",
       "      <td>5</td>\n",
       "    </tr>\n",
       "    <tr>\n",
       "      <th>3</th>\n",
       "      <td>100000000231</td>\n",
       "      <td>13</td>\n",
       "      <td>13</td>\n",
       "      <td>13</td>\n",
       "      <td>13</td>\n",
       "      <td>13</td>\n",
       "      <td>6</td>\n",
       "      <td>13</td>\n",
       "      <td>10</td>\n",
       "      <td>17</td>\n",
       "      <td>...</td>\n",
       "      <td>6</td>\n",
       "      <td>23</td>\n",
       "      <td>11</td>\n",
       "      <td>16</td>\n",
       "      <td>8</td>\n",
       "      <td>5</td>\n",
       "      <td>8</td>\n",
       "      <td>5</td>\n",
       "      <td>22</td>\n",
       "      <td>4</td>\n",
       "    </tr>\n",
       "    <tr>\n",
       "      <th>4</th>\n",
       "      <td>100000000379</td>\n",
       "      <td>5</td>\n",
       "      <td>5</td>\n",
       "      <td>5</td>\n",
       "      <td>13</td>\n",
       "      <td>5</td>\n",
       "      <td>6</td>\n",
       "      <td>13</td>\n",
       "      <td>5</td>\n",
       "      <td>4</td>\n",
       "      <td>...</td>\n",
       "      <td>0</td>\n",
       "      <td>23</td>\n",
       "      <td>14</td>\n",
       "      <td>16</td>\n",
       "      <td>12</td>\n",
       "      <td>3</td>\n",
       "      <td>8</td>\n",
       "      <td>24</td>\n",
       "      <td>22</td>\n",
       "      <td>4</td>\n",
       "    </tr>\n",
       "  </tbody>\n",
       "</table>\n",
       "<p>5 rows × 51 columns</p>\n",
       "</div>"
      ],
      "text/plain": [
       "         userid  stackfeature0  stackfeature1  stackfeature2  stackfeature3  \\\n",
       "0  100000000013              5              5              5              5   \n",
       "1  100000000111              9              9              9              0   \n",
       "2  100000000127              6              6              6              6   \n",
       "3  100000000231             13             13             13             13   \n",
       "4  100000000379              5              5              5             13   \n",
       "\n",
       "   stackfeature4  stackfeature5  stackfeature6  stackfeature7  stackfeature8  \\\n",
       "0              5              6              5             10              4   \n",
       "1             10              8              8              5             19   \n",
       "2              6              4              6              3             18   \n",
       "3             13              6             13             10             17   \n",
       "4              5              6             13              5              4   \n",
       "\n",
       "        ...        stackfeature40  stackfeature41  stackfeature42  \\\n",
       "0       ...                    10              12              23   \n",
       "1       ...                     5               8               1   \n",
       "2       ...                     7               4              27   \n",
       "3       ...                     6              23              11   \n",
       "4       ...                     0              23              14   \n",
       "\n",
       "   stackfeature43  stackfeature44  stackfeature45  stackfeature46  \\\n",
       "0               3               1               6               8   \n",
       "1              11               7               3               8   \n",
       "2               6               1              10               9   \n",
       "3              16               8               5               8   \n",
       "4              16              12               3               8   \n",
       "\n",
       "   stackfeature47  stackfeature48  stackfeature49  \n",
       "0              10               5               7  \n",
       "1               6               6               5  \n",
       "2              17               4               5  \n",
       "3               5              22               4  \n",
       "4              24              22               4  \n",
       "\n",
       "[5 rows x 51 columns]"
      ]
     },
     "execution_count": 17,
     "metadata": {},
     "output_type": "execute_result"
    }
   ],
   "source": [
    "df_train_13.info()\n",
    "df_train_13.head()"
   ]
  },
  {
   "cell_type": "code",
   "execution_count": 19,
   "metadata": {
    "collapsed": false
   },
   "outputs": [],
   "source": [
    "df_train_13.to_csv('../data/dataSet/df_train_13.csv',index=False)\n",
    "df_test_13.to_csv('../data/dataSet/df_test_13.csv',index=False)\n"
   ]
  },
  {
   "cell_type": "code",
   "execution_count": null,
   "metadata": {
    "collapsed": true
   },
   "outputs": [],
   "source": []
  }
 ],
 "metadata": {
  "anaconda-cloud": {},
  "kernelspec": {
   "display_name": "Python [conda root]",
   "language": "python",
   "name": "conda-root-py"
  },
  "language_info": {
   "codemirror_mode": {
    "name": "ipython",
    "version": 3
   },
   "file_extension": ".py",
   "mimetype": "text/x-python",
   "name": "python",
   "nbconvert_exporter": "python",
   "pygments_lexer": "ipython3",
   "version": "3.5.2"
  }
 },
 "nbformat": 4,
 "nbformat_minor": 1
}
