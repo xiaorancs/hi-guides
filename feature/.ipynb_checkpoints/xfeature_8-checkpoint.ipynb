{
 "cells": [
  {
   "cell_type": "code",
   "execution_count": 1,
   "metadata": {
    "collapsed": true
   },
   "outputs": [],
   "source": [
    "import numpy as np\n",
    "import pandas as pd\n",
    "import scipy as sp"
   ]
  },
  {
   "cell_type": "code",
   "execution_count": 2,
   "metadata": {
    "collapsed": true
   },
   "outputs": [],
   "source": [
    "# ## 新的特征第二轮提取,尽量不和第一组重复,主要面向的最近一短时间的特诊,\n",
    "# 1. 最近一天的[1,2,3,4,5,6,7,8,9]的次数.(时间基准,最后一次访问时间前一天[1h,3h,6h,12h,1,3,5,7,10,15]的访问次数,)\n",
    "\n",
    "# 4. 统计所有的评价词语,将词分为正负情感两类,进行表示.\n"
   ]
  },
  {
   "cell_type": "code",
   "execution_count": 3,
   "metadata": {
    "collapsed": true
   },
   "outputs": [],
   "source": [
    "df_train_data = pd.read_csv('../data/train/orderFuture_train.csv')\n",
    "df_test_data = pd.read_csv('../data/test/orderFuture_test.csv')\n",
    "\n",
    "df_train_action = pd.read_csv('../data/train/action_train.csv')\n",
    "df_test_action = pd.read_csv('../data/test/action_test.csv')\n"
   ]
  },
  {
   "cell_type": "code",
   "execution_count": 7,
   "metadata": {
    "collapsed": true
   },
   "outputs": [],
   "source": [
    "# 列名\n",
    "column = ['userid']\n",
    "for i in [0.042,0.125,0.25,0.5,1,3,5,7,15]:    \n",
    "    # 计算[1-9]的各自的个数,\n",
    "    for k in [1,2,3,4,5,6,7,8,9]:\n",
    "        column.append('actionTimeLast'+str(i)+'Days'+str(k)+'Cnt')\n",
    "    \n",
    "    # [2-4]\n",
    "    column.append('actionTimeLast'+str(i)+'Days24Cnt')\n",
    "    \n",
    "    # [5-9]\n",
    "    column.append('actionTimeLast'+str(i)+'Days59Cnt')\n",
    "\n",
    "    # [1-9]总数\n",
    "    column.append('actionTimeLast'+str(i)+'Days19Cnt')\n"
   ]
  },
  {
   "cell_type": "code",
   "execution_count": 8,
   "metadata": {
    "collapsed": false
   },
   "outputs": [
    {
     "data": {
      "text/plain": [
       "118"
      ]
     },
     "execution_count": 8,
     "metadata": {},
     "output_type": "execute_result"
    }
   ],
   "source": [
    "len(column)"
   ]
  },
  {
   "cell_type": "code",
   "execution_count": null,
   "metadata": {
    "collapsed": false
   },
   "outputs": [],
   "source": [
    "userlist = list(set(df_train_action['userid']))\n",
    "\n",
    "df_train_actionCnt = pd.DataFrame(columns=column)\n",
    "cnt = 0\n",
    "for user in userlist:\n",
    "    cnt+=1\n",
    "    if cnt % 3000 == 0:\n",
    "        print(cnt)\n",
    "    row = [user]\n",
    "    t = df_train_action[df_train_action['userid'] == user]\n",
    "    t = t.sort_values('actionTime')\n",
    "    \n",
    "    # 计算时间的前[1,3,5,7,15,* (60*60*24 = 86400 )]\n",
    "    cur_time = t['actionTime'].values[-1]\n",
    "\n",
    "    for i in [0.042,0.125,0.25,0.5,1,3,5,7,15]:    \n",
    "        tmp = t[t['actionTime'] > cur_time - i * 86400]\n",
    "        \n",
    "        # 计算[1-9]的各自的个数,\n",
    "        for k in [1,2,3,4,5,6,7,8,9]:\n",
    "            row.append((tmp['actionType'] == k).sum())\n",
    "        \n",
    "        # [2-4]\n",
    "        row.append(sum(row[2:5]))\n",
    "        \n",
    "        # [5-9]\n",
    "        row.append(sum(row[5:10]))\n",
    "\n",
    "        # [1-9]统计值\n",
    "        row.append(int(len(tmp)))\n",
    "            \n",
    "    df_train_actionCnt = df_train_actionCnt.append(pd.DataFrame([row],columns=column),ignore_index=True)\n",
    "\n",
    "df_train_data = pd.merge(df_train_data,df_train_actionCnt,how='left',on='userid')\n"
   ]
  },
  {
   "cell_type": "code",
   "execution_count": null,
   "metadata": {
    "collapsed": true
   },
   "outputs": [],
   "source": [
    "userlist = list(set(df_test_action['userid']))\n",
    "\n",
    "df_test_actionCnt = pd.DataFrame(columns=column)\n",
    "cnt = 0\n",
    "for user in userlist:\n",
    "    cnt+=1\n",
    "    if cnt % 3000 == 0:\n",
    "        print(cnt)\n",
    "    row = [user]\n",
    "    t = df_test_action[df_test_action['userid'] == user]\n",
    "    t = t.sort_values('actionTime')\n",
    "    \n",
    "    # 计算时间的前[1,3,5,7,15,* (60*60*24 = 86400 )]\n",
    "    cur_time = t['actionTime'].values[-1]\n",
    "\n",
    "    for i in [0.042,0.125,0.25,0.5,1,3,5,7,15]:    \n",
    "        tmp = t[t['actionTime'] > cur_time - i * 86400]\n",
    "        \n",
    "        # 计算[1-9]的各自的个数,\n",
    "        for k in [1,2,3,4,5,6,7,8,9]:\n",
    "            row.append((tmp['actionType'] == k).sum())\n",
    "        \n",
    "        # [2-4]\n",
    "        row.append(sum(row[2:5]))\n",
    "        \n",
    "        # [5-9]\n",
    "        row.append(sum(row[5:10]))\n",
    "\n",
    "        # [1-9]统计值\n",
    "        row.append(int(len(tmp)))\n",
    "            \n",
    "    df_test_actionCnt = df_test_actionCnt.append(pd.DataFrame([row],columns=column),ignore_index=True)\n",
    "\n",
    "df_test_data = pd.merge(df_test_data,df_test_actionCnt,how='left',on='userid')\n"
   ]
  }
 ],
 "metadata": {
  "kernelspec": {
   "display_name": "Python [conda root]",
   "language": "python",
   "name": "conda-root-py"
  },
  "language_info": {
   "codemirror_mode": {
    "name": "ipython",
    "version": 3
   },
   "file_extension": ".py",
   "mimetype": "text/x-python",
   "name": "python",
   "nbconvert_exporter": "python",
   "pygments_lexer": "ipython3",
   "version": "3.5.2"
  }
 },
 "nbformat": 4,
 "nbformat_minor": 1
}
