{
 "cells": [
  {
   "cell_type": "code",
   "execution_count": 1,
   "metadata": {
    "collapsed": true
   },
   "outputs": [],
   "source": [
    "import numpy as np\n",
    "import pandas as pd\n",
    "import matplotlib.pyplot as plt\n",
    "import seaborn as sns\n"
   ]
  },
  {
   "cell_type": "code",
   "execution_count": 2,
   "metadata": {
    "collapsed": true
   },
   "outputs": [],
   "source": [
    "df_train_user = pd.read_csv('../data/train/userProfile_train.csv')\n",
    "df_train_action = pd.read_csv('../data/train/action_train.csv')\n",
    "df_train_order = pd.read_csv('../data/train/orderHistory_train.csv')\n",
    "\n",
    "df_train_data = pd.read_csv('../data/train/orderFuture_train.csv')\n",
    "df_train_comment = pd.read_csv('../data/train/userComment_train.csv')\n",
    "\n",
    "\n",
    "# 根据df_train_data作为基准，进行数组整合，并写入文件"
   ]
  },
  {
   "cell_type": "code",
   "execution_count": 7,
   "metadata": {
    "collapsed": false
   },
   "outputs": [
    {
     "name": "stdout",
     "output_type": "stream",
     "text": [
      "<class 'pandas.core.frame.DataFrame'>\n",
      "Int64Index: 40307 entries, 0 to 40306\n",
      "Data columns (total 5 columns):\n",
      "userid       40307 non-null int64\n",
      "orderType    40307 non-null int64\n",
      "gender       15760 non-null object\n",
      "province     36412 non-null object\n",
      "age          4742 non-null object\n",
      "dtypes: int64(2), object(3)\n",
      "memory usage: 1.8+ MB\n"
     ]
    }
   ],
   "source": [
    "df_train_data.info()"
   ]
  },
  {
   "cell_type": "code",
   "execution_count": 6,
   "metadata": {
    "collapsed": true
   },
   "outputs": [],
   "source": [
    "df_train_data = pd.merge(df_train_data,df_train_user,how='left',on='userid')"
   ]
  },
  {
   "cell_type": "code",
   "execution_count": null,
   "metadata": {
    "collapsed": true
   },
   "outputs": [],
   "source": []
  }
 ],
 "metadata": {
  "kernelspec": {
   "display_name": "Python [conda root]",
   "language": "python",
   "name": "conda-root-py"
  },
  "language_info": {
   "codemirror_mode": {
    "name": "ipython",
    "version": 3
   },
   "file_extension": ".py",
   "mimetype": "text/x-python",
   "name": "python",
   "nbconvert_exporter": "python",
   "pygments_lexer": "ipython3",
   "version": "3.5.2"
  }
 },
 "nbformat": 4,
 "nbformat_minor": 1
}
