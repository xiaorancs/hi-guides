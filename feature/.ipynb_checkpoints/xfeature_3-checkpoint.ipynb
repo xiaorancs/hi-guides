{
 "cells": [
  {
   "cell_type": "code",
   "execution_count": 1,
   "metadata": {
    "collapsed": true
   },
   "outputs": [],
   "source": [
    "import pandas as pd\n",
    "import numpy as np\n",
    "import scipy as sp\n"
   ]
  },
  {
   "cell_type": "markdown",
   "metadata": {},
   "source": [
    "## actionType对应的actionTimeDiff\n",
    "\n",
    "+ 统计1-9分别对应的时间差，最近5个时间差作为提取特征。\n",
    "\n",
    "+ 这里进行分类计算，[1],[2,3,4],[5,6,7,8,9]"
   ]
  },
  {
   "cell_type": "code",
   "execution_count": 2,
   "metadata": {
    "collapsed": true
   },
   "outputs": [],
   "source": [
    "df_train_data = pd.read_csv('../data/train/orderFuture_train.csv')\n",
    "df_test_data = pd.read_csv('../data/test/orderFuture_test.csv')\n",
    "\n",
    "# 首先选择action信息\n",
    "df_train_action = pd.read_csv('../data/train/action_train.csv')\n",
    "df_test_action = pd.read_csv('../data/test/action_test.csv')\n"
   ]
  },
  {
   "cell_type": "code",
   "execution_count": 3,
   "metadata": {
    "collapsed": true
   },
   "outputs": [],
   "source": [
    "def diffInfo(x):\n",
    "    if len(x) == 0:\n",
    "        return x\n",
    "    \n",
    "    # 所有时间的最大值\n",
    "    cur = 1505087865\n",
    "    \n",
    "    x = list(x)\n",
    "    x.append(cur)\n",
    "#     print(x)\n",
    "    for i in range(len(x)-1):\n",
    "        x[i] = x[i+1] - x[i]\n",
    "    \n",
    "    return np.array(x[:-1])\n"
   ]
  },
  {
   "cell_type": "code",
   "execution_count": null,
   "metadata": {
    "collapsed": false
   },
   "outputs": [],
   "source": []
  },
  {
   "cell_type": "code",
   "execution_count": 4,
   "metadata": {
    "collapsed": true
   },
   "outputs": [],
   "source": [
    "# 时间间隔特征，[avg,std,var,skew,kurt,min,max, last1, last2,last3,last4,last5]\n",
    "def getTypeKLast5Diff(df_train_action, Types):\n",
    "    '''参数：\n",
    "        df_train_action: 应用数据，可以是train和test\n",
    "        Type: actionType的值\n",
    "    \n",
    "    '''\n",
    "    Type = \"\"\n",
    "    for i in Types:\n",
    "        Type += str(i)\n",
    "    \n",
    "    print(Type)\n",
    "    column = ['userid','type'+Type+'DiffTimeAvg','type'+Type+'DiffTimeMin','type'+Type+'DiffTimeMax',\n",
    "              'type'+Type+'Last1DiffTime','type'+Type+'Last2DiffTime','type'+Type+'Last3DiffTime',\n",
    "              'type'+Type+'Last4DiffTime','type'+Type+'Last5DiffTime',]\n",
    "\n",
    "    df_train_diffTime = pd.DataFrame(columns=column)\n",
    "\n",
    "    userlist = list(set(df_train_action['userid']))\n",
    "\n",
    "    k = 0\n",
    "    for user in userlist:\n",
    "        k+=1\n",
    "        if k%5000 == 0:\n",
    "            print(k)\n",
    "\n",
    "        df_users_t = df_train_action[df_train_action['userid'] == user]\n",
    "\n",
    "        # 选择type k 对应的数据\n",
    "        df_users_t = df_users_t[df_users_t['actionType'].isin(Types)]\n",
    "\n",
    "        df_users_t = df_users_t.sort_values('actionTime')\n",
    "\n",
    "\n",
    "        df_users_t['actionTimeDiff'] = diffInfo(df_users_t['actionTime'])\n",
    "\n",
    "        row = [user]\n",
    "\n",
    "        ## 所有的差值的最值和平均值\n",
    "        row.append(df_users_t['actionTimeDiff'].mean())\n",
    "        row.append(df_users_t['actionTimeDiff'].min())\n",
    "        row.append(df_users_t['actionTimeDiff'].max())\n",
    "\n",
    "        # 注意要时间进行发转，统计的时候是到这统计的。\n",
    "        tmp_time = []\n",
    "        tmp_time.extend(df_users_t['actionTimeDiff'].values[-5:])\n",
    "        tmp_time.reverse()\n",
    "\n",
    "        # 用差值的平均数填充\n",
    "        if len(tmp_time) < 5:\n",
    "            tmp_time.extend([row[1] for i in range(5-len(tmp_time))])\n",
    "\n",
    "        row.extend(tmp_time)\n",
    "\n",
    "        df_train_diffTime = df_train_diffTime.append(pd.DataFrame([row],columns=column),ignore_index=True)\n",
    "\n",
    "    # 极差(max-min),(max-avg),(avg-min)\n",
    "    df_train_diffTime['typeDiff'+Type+'TimeMaxSubMin'] = df_train_diffTime['type'+Type+'DiffTimeMax'] - df_train_diffTime['type'+Type+'DiffTimeMin']\n",
    "    df_train_diffTime['typeDiff'+Type+'TimeMaxSubAvg'] = df_train_diffTime['type'+Type+'DiffTimeMax'] - df_train_diffTime['type'+Type+'DiffTimeAvg']\n",
    "    df_train_diffTime['typeDiff'+Type+'TimeAvgSubMin'] = df_train_diffTime['type'+Type+'DiffTimeAvg'] - df_train_diffTime['type'+Type+'DiffTimeMin']\n",
    "        \n",
    "    return df_train_diffTime\n",
    "\n"
   ]
  },
  {
   "cell_type": "code",
   "execution_count": 5,
   "metadata": {
    "collapsed": false
   },
   "outputs": [
    {
     "name": "stdout",
     "output_type": "stream",
     "text": [
      "[1]\n",
      "1\n",
      "5000\n",
      "10000\n",
      "15000\n",
      "20000\n",
      "25000\n",
      "30000\n",
      "35000\n",
      "40000\n",
      "[2, 3, 4]\n",
      "234\n",
      "5000\n",
      "10000\n",
      "15000\n",
      "20000\n",
      "25000\n",
      "30000\n",
      "35000\n",
      "40000\n",
      "[5, 6, 7, 8, 9]\n",
      "56789\n",
      "5000\n",
      "10000\n",
      "15000\n",
      "20000\n",
      "25000\n",
      "30000\n",
      "35000\n",
      "40000\n"
     ]
    }
   ],
   "source": [
    "## train\n",
    "for Types in [[1],[2,3,4],[5,6,7,8,9]]:\n",
    "    print(Types)\n",
    "    df_train_diffTime = getTypeKLast5Diff(df_train_action,Types)\n",
    "    df_train_data = pd.merge(df_train_data,df_train_diffTime, how='left',on='userid')\n"
   ]
  },
  {
   "cell_type": "code",
   "execution_count": null,
   "metadata": {
    "collapsed": false,
    "scrolled": true
   },
   "outputs": [],
   "source": []
  },
  {
   "cell_type": "code",
   "execution_count": 6,
   "metadata": {
    "collapsed": false
   },
   "outputs": [
    {
     "name": "stdout",
     "output_type": "stream",
     "text": [
      "[1]\n",
      "1\n",
      "5000\n",
      "10000\n",
      "[2, 3, 4]\n",
      "234\n",
      "5000\n",
      "10000\n",
      "[5, 6, 7, 8, 9]\n",
      "56789\n",
      "5000\n",
      "10000\n"
     ]
    }
   ],
   "source": [
    "## test\n",
    "for Types in [[1],[2,3,4],[5,6,7,8,9]]:\n",
    "    print(Types)\n",
    "    df_test_diffTime = getTypeKLast5Diff(df_test_action,Types)\n",
    "    df_test_data = pd.merge(df_test_data,df_test_diffTime, how='left',on='userid')\n"
   ]
  },
  {
   "cell_type": "code",
   "execution_count": 10,
   "metadata": {
    "collapsed": true
   },
   "outputs": [
    {
     "name": "stdout",
     "output_type": "stream",
     "text": [
      "<class 'pandas.core.frame.DataFrame'>\n",
      "Int64Index: 40307 entries, 0 to 40306\n",
      "Data columns (total 34 columns):\n",
      "userid                        40307 non-null int64\n",
      "type1DiffTimeAvg              40307 non-null float64\n",
      "type1DiffTimeMin              40307 non-null int64\n",
      "type1DiffTimeMax              40307 non-null int64\n",
      "type1Last1DiffTime            40307 non-null int64\n",
      "type1Last2DiffTime            40307 non-null float64\n",
      "type1Last3DiffTime            40307 non-null float64\n",
      "type1Last4DiffTime            40307 non-null float64\n",
      "type1Last5DiffTime            40307 non-null float64\n",
      "typeDiff1TimeMaxSubMin        40307 non-null int64\n",
      "typeDiff1TimeMaxSubAvg        40307 non-null float64\n",
      "typeDiff1TimeAvgSubMin        40307 non-null float64\n",
      "type234DiffTimeAvg            40307 non-null float64\n",
      "type234DiffTimeMin            40307 non-null int64\n",
      "type234DiffTimeMax            40307 non-null int64\n",
      "type234Last1DiffTime          40307 non-null int64\n",
      "type234Last2DiffTime          40307 non-null float64\n",
      "type234Last3DiffTime          40307 non-null float64\n",
      "type234Last4DiffTime          40307 non-null float64\n",
      "type234Last5DiffTime          40307 non-null float64\n",
      "typeDiff234TimeMaxSubMin      40307 non-null int64\n",
      "typeDiff234TimeMaxSubAvg      40307 non-null float64\n",
      "typeDiff234TimeAvgSubMin      40307 non-null float64\n",
      "type56789DiffTimeAvg          40307 non-null float64\n",
      "type56789DiffTimeMin          40307 non-null int64\n",
      "type56789DiffTimeMax          40307 non-null int64\n",
      "type56789Last1DiffTime        40307 non-null int64\n",
      "type56789Last2DiffTime        40307 non-null float64\n",
      "type56789Last3DiffTime        40307 non-null float64\n",
      "type56789Last4DiffTime        40307 non-null float64\n",
      "type56789Last5DiffTime        40307 non-null float64\n",
      "typeDiff56789TimeMaxSubMin    40307 non-null int64\n",
      "typeDiff56789TimeMaxSubAvg    40307 non-null float64\n",
      "typeDiff56789TimeAvgSubMin    40307 non-null float64\n",
      "dtypes: float64(21), int64(13)\n",
      "memory usage: 10.8 MB\n",
      "<class 'pandas.core.frame.DataFrame'>\n",
      "Int64Index: 10076 entries, 0 to 10075\n",
      "Data columns (total 34 columns):\n",
      "userid                        10076 non-null int64\n",
      "type1DiffTimeAvg              10076 non-null float64\n",
      "type1DiffTimeMin              10076 non-null int64\n",
      "type1DiffTimeMax              10076 non-null int64\n",
      "type1Last1DiffTime            10076 non-null int64\n",
      "type1Last2DiffTime            10076 non-null float64\n",
      "type1Last3DiffTime            10076 non-null float64\n",
      "type1Last4DiffTime            10076 non-null float64\n",
      "type1Last5DiffTime            10076 non-null float64\n",
      "typeDiff1TimeMaxSubMin        10076 non-null int64\n",
      "typeDiff1TimeMaxSubAvg        10076 non-null float64\n",
      "typeDiff1TimeAvgSubMin        10076 non-null float64\n",
      "type234DiffTimeAvg            10076 non-null float64\n",
      "type234DiffTimeMin            10076 non-null int64\n",
      "type234DiffTimeMax            10076 non-null int64\n",
      "type234Last1DiffTime          10076 non-null int64\n",
      "type234Last2DiffTime          10076 non-null float64\n",
      "type234Last3DiffTime          10076 non-null float64\n",
      "type234Last4DiffTime          10076 non-null float64\n",
      "type234Last5DiffTime          10076 non-null float64\n",
      "typeDiff234TimeMaxSubMin      10076 non-null int64\n",
      "typeDiff234TimeMaxSubAvg      10076 non-null float64\n",
      "typeDiff234TimeAvgSubMin      10076 non-null float64\n",
      "type56789DiffTimeAvg          10076 non-null float64\n",
      "type56789DiffTimeMin          10076 non-null int64\n",
      "type56789DiffTimeMax          10076 non-null int64\n",
      "type56789Last1DiffTime        10076 non-null int64\n",
      "type56789Last2DiffTime        10076 non-null float64\n",
      "type56789Last3DiffTime        10076 non-null float64\n",
      "type56789Last4DiffTime        10076 non-null float64\n",
      "type56789Last5DiffTime        10076 non-null float64\n",
      "typeDiff56789TimeMaxSubMin    10076 non-null int64\n",
      "typeDiff56789TimeMaxSubAvg    10076 non-null float64\n",
      "typeDiff56789TimeAvgSubMin    10076 non-null float64\n",
      "dtypes: float64(21), int64(13)\n",
      "memory usage: 2.7 MB\n"
     ]
    }
   ],
   "source": [
    "df_train_data.info()\n",
    "df_test_data.info()\n"
   ]
  },
  {
   "cell_type": "code",
   "execution_count": 11,
   "metadata": {
    "collapsed": true
   },
   "outputs": [],
   "source": [
    "df_train_data.fillna(-1,inplace=True)\n",
    "df_test_data.fillna(-1,inplace=True)\n"
   ]
  },
  {
   "cell_type": "code",
   "execution_count": null,
   "metadata": {
    "collapsed": false
   },
   "outputs": [],
   "source": []
  },
  {
   "cell_type": "code",
   "execution_count": 14,
   "metadata": {
    "collapsed": false
   },
   "outputs": [],
   "source": [
    "# df_train_data.drop('orderType',axis=1,inplace=True)\n",
    "df_train_data.to_csv('../data/dataSet/df_train_3.csv',index=False,index_label=False)\n",
    "df_test_data.to_csv('../data/dataSet/df_test_3.csv',index=False,index_label=False)\n"
   ]
  },
  {
   "cell_type": "code",
   "execution_count": null,
   "metadata": {
    "collapsed": true
   },
   "outputs": [],
   "source": []
  },
  {
   "cell_type": "code",
   "execution_count": null,
   "metadata": {
    "collapsed": true
   },
   "outputs": [],
   "source": []
  }
 ],
 "metadata": {
  "anaconda-cloud": {},
  "kernelspec": {
   "display_name": "Python [conda root]",
   "language": "python",
   "name": "conda-root-py"
  },
  "language_info": {
   "codemirror_mode": {
    "name": "ipython",
    "version": 3
   },
   "file_extension": ".py",
   "mimetype": "text/x-python",
   "name": "python",
   "nbconvert_exporter": "python",
   "pygments_lexer": "ipython3",
   "version": "3.5.2"
  }
 },
 "nbformat": 4,
 "nbformat_minor": 1
}
