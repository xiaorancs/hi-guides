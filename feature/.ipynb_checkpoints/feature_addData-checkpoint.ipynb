{
 "cells": [
  {
   "cell_type": "code",
   "execution_count": 1,
   "metadata": {
    "collapsed": true
   },
   "outputs": [],
   "source": [
    "import pandas as pd\n",
    "import numpy as np\n",
    "import matplotlib.pyplot as plt\n",
    "\n",
    "%matplotlib inline"
   ]
  },
  {
   "cell_type": "code",
   "execution_count": 2,
   "metadata": {
    "collapsed": true
   },
   "outputs": [],
   "source": [
    "def getNewDataFromTrain():\n",
    "    '''从训练数据集合中得到orderType对应的1的userid\n",
    "        增加正样本数据。\n",
    "    '''\n",
    "    df_train_order = pd.read_csv('../data/train/orderHistory_train.csv')\n",
    "    df_train = pd.read_csv('../data/train/orderFuture_train.csv')\n",
    "    newID = list(set(df_train[df_train['orderType']==1]['userid']) - \\\n",
    "                 set(df_train_order[df_train_order['orderType']==1]['userid']))\n",
    "    \n",
    "    \n",
    "    return newID\n",
    "\n",
    "def getNewDataFromTest():\n",
    "    '''从测试集合中得到orderType=1对应的userid，增加新数据\n",
    "    \n",
    "    '''\n",
    "    df_test_order = pd.read_csv('../data/test/orderHistory_test.csv')\n",
    "    \n",
    "    return list(df_test_order[df_test_order['orderType']==1]['userid'])\n",
    "    \n"
   ]
  },
  {
   "cell_type": "code",
   "execution_count": 3,
   "metadata": {
    "collapsed": true
   },
   "outputs": [],
   "source": [
    "# newID从训练集中得到的orderType是1的对应的userid，用来增加新数据\n",
    "newIDTrain = getNewDataFromTrain()\n",
    "\n",
    "newIDTest = getNewDataFromTest()\n"
   ]
  },
  {
   "cell_type": "code",
   "execution_count": 4,
   "metadata": {
    "collapsed": false
   },
   "outputs": [],
   "source": [
    "# 从所有的数据中提取原始的数据，写入文件中\n",
    "df_train_order = pd.read_csv('../data/train/orderHistory_train.csv')\n",
    "df_train = pd.read_csv('../data/train/orderFuture_train.csv')\n"
   ]
  },
  {
   "cell_type": "code",
   "execution_count": 5,
   "metadata": {
    "collapsed": false
   },
   "outputs": [],
   "source": [
    "df_train_order_1 = df_train_order[df_train_order['orderType']==1]"
   ]
  },
  {
   "cell_type": "code",
   "execution_count": 6,
   "metadata": {
    "collapsed": false,
    "scrolled": true
   },
   "outputs": [
    {
     "name": "stderr",
     "output_type": "stream",
     "text": [
      "/home/xiaoran/Tools/anaconda3/lib/python3.5/site-packages/ipykernel/__main__.py:1: SettingWithCopyWarning: \n",
      "A value is trying to be set on a copy of a slice from a DataFrame\n",
      "\n",
      "See the caveats in the documentation: http://pandas.pydata.org/pandas-docs/stable/indexing.html#indexing-view-versus-copy\n",
      "  if __name__ == '__main__':\n"
     ]
    }
   ],
   "source": [
    "df_train_order_1.sort_values(['userid','orderType'],inplace=True)"
   ]
  },
  {
   "cell_type": "code",
   "execution_count": 7,
   "metadata": {
    "collapsed": false
   },
   "outputs": [
    {
     "name": "stderr",
     "output_type": "stream",
     "text": [
      "/home/xiaoran/Tools/anaconda3/lib/python3.5/site-packages/ipykernel/__main__.py:3: SettingWithCopyWarning: \n",
      "A value is trying to be set on a copy of a slice from a DataFrame\n",
      "\n",
      "See the caveats in the documentation: http://pandas.pydata.org/pandas-docs/stable/indexing.html#indexing-view-versus-copy\n",
      "  app.launch_new_instance()\n"
     ]
    }
   ],
   "source": [
    "# 因为时间不同，没有必要剔除userid相同的数据，整理要用的是\n",
    "\n",
    "df_train_order_1.drop_duplicates('userid',keep='last',inplace=True)"
   ]
  },
  {
   "cell_type": "code",
   "execution_count": 8,
   "metadata": {
    "collapsed": false
   },
   "outputs": [],
   "source": [
    "df_train_action = pd.read_csv('../data/train/action_train.csv')\n"
   ]
  },
  {
   "cell_type": "code",
   "execution_count": 9,
   "metadata": {
    "collapsed": false,
    "scrolled": true
   },
   "outputs": [],
   "source": [
    "df_train_action_1 = df_train_action[df_train_action['userid'].isin(df_train_order_1['userid'])]"
   ]
  },
  {
   "cell_type": "code",
   "execution_count": 10,
   "metadata": {
    "collapsed": false,
    "scrolled": true
   },
   "outputs": [],
   "source": [
    "df_tmp = pd.merge(df_train_action_1,df_train_order_1,how='left',on='userid')\n",
    "\n",
    "df_tmp = df_tmp[df_tmp['actionTime'] < df_tmp['orderTime']]"
   ]
  },
  {
   "cell_type": "code",
   "execution_count": 11,
   "metadata": {
    "collapsed": false
   },
   "outputs": [
    {
     "name": "stdout",
     "output_type": "stream",
     "text": [
      "<class 'pandas.core.frame.DataFrame'>\n",
      "Int64Index: 94662 entries, 0 to 155655\n",
      "Data columns (total 9 columns):\n",
      "userid        94662 non-null int64\n",
      "actionType    94662 non-null int64\n",
      "actionTime    94662 non-null int64\n",
      "orderid       94662 non-null int64\n",
      "orderTime     94662 non-null int64\n",
      "orderType     94662 non-null int64\n",
      "city          94662 non-null object\n",
      "country       94662 non-null object\n",
      "continent     94662 non-null object\n",
      "dtypes: int64(6), object(3)\n",
      "memory usage: 7.2+ MB\n"
     ]
    }
   ],
   "source": [
    "df_tmp.info()"
   ]
  },
  {
   "cell_type": "code",
   "execution_count": null,
   "metadata": {
    "collapsed": true
   },
   "outputs": [],
   "source": []
  },
  {
   "cell_type": "code",
   "execution_count": 12,
   "metadata": {
    "collapsed": false,
    "scrolled": true
   },
   "outputs": [],
   "source": [
    "df_train_order_new = df_train_order[~df_train_order.index.isin(df_train_order_1.index)]"
   ]
  },
  {
   "cell_type": "code",
   "execution_count": null,
   "metadata": {
    "collapsed": false
   },
   "outputs": [],
   "source": []
  },
  {
   "cell_type": "code",
   "execution_count": 13,
   "metadata": {
    "collapsed": false
   },
   "outputs": [],
   "source": [
    "# 删除没有的userid\n",
    "x = df_train_order_1[~df_train_order_1['userid'].isin(df_tmp['userid'])]\n",
    "\n",
    "df_train_order_1 = df_train_order_1[~df_train_order_1.index.isin(x.index)]"
   ]
  },
  {
   "cell_type": "code",
   "execution_count": 14,
   "metadata": {
    "collapsed": false
   },
   "outputs": [
    {
     "name": "stdout",
     "output_type": "stream",
     "text": [
      "<class 'pandas.core.frame.DataFrame'>\n",
      "Int64Index: 1701 entries, 16 to 20652\n",
      "Data columns (total 7 columns):\n",
      "userid       1701 non-null int64\n",
      "orderid      1701 non-null int64\n",
      "orderTime    1701 non-null int64\n",
      "orderType    1701 non-null int64\n",
      "city         1701 non-null object\n",
      "country      1701 non-null object\n",
      "continent    1701 non-null object\n",
      "dtypes: int64(4), object(3)\n",
      "memory usage: 106.3+ KB\n"
     ]
    }
   ],
   "source": [
    "df_train_order_1.info()"
   ]
  },
  {
   "cell_type": "code",
   "execution_count": 15,
   "metadata": {
    "collapsed": true
   },
   "outputs": [],
   "source": [
    "df_tmp[['userid','actionType','actionTime']].to_csv('../data/xtrain/action_train.csv',index=False,index_label=False)\n",
    "df_train_order_1[['userid','orderType']].to_csv('../data/xtrain/orderFuture_train.csv',index=False,index_label=False)\n",
    "\n",
    "df_train_order_new.to_csv('../data/xtrain/orderHistory_train.csv',index=False,index_label=False)"
   ]
  },
  {
   "cell_type": "code",
   "execution_count": null,
   "metadata": {
    "collapsed": true
   },
   "outputs": [],
   "source": []
  }
 ],
 "metadata": {
  "anaconda-cloud": {},
  "kernelspec": {
   "display_name": "Python [conda root]",
   "language": "python",
   "name": "conda-root-py"
  },
  "language_info": {
   "codemirror_mode": {
    "name": "ipython",
    "version": 3
   },
   "file_extension": ".py",
   "mimetype": "text/x-python",
   "name": "python",
   "nbconvert_exporter": "python",
   "pygments_lexer": "ipython3",
   "version": "3.5.2"
  }
 },
 "nbformat": 4,
 "nbformat_minor": 1
}
