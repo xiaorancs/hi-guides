{
 "cells": [
  {
   "cell_type": "code",
   "execution_count": 1,
   "metadata": {
    "collapsed": true
   },
   "outputs": [],
   "source": [
    "import pandas as pd\n",
    "import numpy as np\n",
    "import scipy as sp\n"
   ]
  },
  {
   "cell_type": "markdown",
   "metadata": {},
   "source": [
    "## actionType 和 actionTimeDiff\n",
    "    > goodfeature = ['last1Type','last2Type','last3Type','last4Type','last5Type',\n",
    "               'last6Type','last7Type','last8Type','last9Type','last10Type',\n",
    "               'diffTimeAvg','diffTimeStd','diffTimeVar','diffTimeSkew',\n",
    "               'diffTimeKurt','diffTimeMin','diffTimeMax','last1DiffTime','last2DiffTime', \n",
    "               'last3DiffTime', 'last4DiffTime', 'last5DiffTime','last6DiffTime',\n",
    "               'last7DiffTime','last8DiffTime','last9DiffTime','last10DiffTime',\n",
    "               'last11DiffTime','last12DiffTime','last13DiffTime','last14DiffTime',\n",
    "               'last15DiffTime','diffTimeMaxSubMin','diffTimeMaxSubAvg','diffTimeAvgSubMin',\n",
    "               ]\n",
    "\n",
    "\n"
   ]
  },
  {
   "cell_type": "code",
   "execution_count": 2,
   "metadata": {
    "collapsed": true
   },
   "outputs": [],
   "source": [
    "df_train_data = pd.read_csv('../data/train/orderFuture_train.csv')\n",
    "df_test_data = pd.read_csv('../data/test/orderFuture_test.csv')\n"
   ]
  },
  {
   "cell_type": "code",
   "execution_count": 3,
   "metadata": {
    "collapsed": true
   },
   "outputs": [],
   "source": [
    "# 首先选择action信息\n",
    "df_train_action = pd.read_csv('../data/train/action_train.csv')\n",
    "df_test_action = pd.read_csv('../data/test/action_test.csv')\n"
   ]
  },
  {
   "cell_type": "code",
   "execution_count": 4,
   "metadata": {
    "collapsed": false
   },
   "outputs": [
    {
     "name": "stdout",
     "output_type": "stream",
     "text": [
      "1000\n",
      "2000\n",
      "3000\n",
      "4000\n",
      "5000\n",
      "6000\n",
      "7000\n",
      "8000\n",
      "9000\n",
      "10000\n",
      "11000\n",
      "12000\n",
      "13000\n",
      "14000\n",
      "15000\n",
      "16000\n",
      "17000\n",
      "18000\n",
      "19000\n",
      "20000\n",
      "21000\n",
      "22000\n",
      "23000\n",
      "24000\n",
      "25000\n",
      "26000\n",
      "27000\n",
      "28000\n",
      "29000\n",
      "30000\n",
      "31000\n",
      "32000\n",
      "33000\n",
      "34000\n",
      "35000\n",
      "36000\n",
      "37000\n",
      "38000\n",
      "39000\n",
      "40000\n"
     ]
    }
   ],
   "source": [
    "# actionType对应的特征，[倒数后5个Type, 前2个actionType]\n",
    "column = ['userid','last1Type','last2Type','last3Type','last4Type','last5Type',\n",
    "          'last6Type','last7Type','last8Type','last9Type','last10Type',]\n",
    "\n",
    "df_train_actionType = pd.DataFrame(columns=column)\n",
    "\n",
    "userlist = list(set(df_train_action['userid']))\n",
    "k = 0\n",
    "for user in userlist:\n",
    "    k+=1\n",
    "    if k%1000 == 0:\n",
    "        print(k)\n",
    "    \n",
    "    df_users = df_train_action[df_train_action['userid'] == user]\n",
    "    df_users = df_users.sort_values('actionTime')\n",
    "    \n",
    "    row = [user]\n",
    "    tmp_type = []\n",
    "    tmp_type.extend(df_users['actionType'].values[-10:])\n",
    "    \n",
    "    # 注意要时间进行发转，统计的时候是到这统计的。\n",
    "    tmp_type.reverse()\n",
    "    \n",
    "    length = len(tmp_type)\n",
    "    if len(tmp_type) < 10:\n",
    "        tmp_type.extend([tmp_type[length-1] for i in range(10-len(tmp_type))])\n",
    "                \n",
    "    row.extend(tmp_type)    \n",
    "    \n",
    "    df_train_actionType = df_train_actionType.append(pd.DataFrame([row],columns=column),ignore_index=True)\n",
    "    "
   ]
  },
  {
   "cell_type": "code",
   "execution_count": 5,
   "metadata": {
    "collapsed": false
   },
   "outputs": [
    {
     "name": "stdout",
     "output_type": "stream",
     "text": [
      "1000\n",
      "2000\n",
      "3000\n",
      "4000\n",
      "5000\n",
      "6000\n",
      "7000\n",
      "8000\n",
      "9000\n",
      "10000\n"
     ]
    }
   ],
   "source": [
    "# actionType对应的特征，[倒数后5个Type, 前2个actionType]\n",
    "column = ['userid','last1Type','last2Type','last3Type','last4Type','last5Type',\n",
    "          'last6Type','last7Type','last8Type','last9Type','last10Type',]\n",
    "\n",
    "df_test_actionType = pd.DataFrame(columns=column)\n",
    "\n",
    "userlist = list(set(df_test_action['userid']))\n",
    "k = 0\n",
    "for user in userlist:\n",
    "    k+=1\n",
    "    if k%1000 == 0:\n",
    "        print(k)\n",
    "    \n",
    "    df_users = df_test_action[df_test_action['userid'] == user]\n",
    "    df_users = df_users.sort_values('actionTime')\n",
    "    \n",
    "    row = [user]\n",
    "    tmp_type = []\n",
    "    tmp_type.extend(df_users['actionType'].values[-10:])\n",
    "    \n",
    "    # 注意要时间进行发转，统计的时候是到这统计的。\n",
    "    tmp_type.reverse()\n",
    "\n",
    "    length = len(tmp_type)\n",
    "    if len(tmp_type) < 10:\n",
    "        tmp_type.extend([tmp_type[length-1] for i in range(10-len(tmp_type))])\n",
    "            \n",
    "    row.extend(tmp_type)    \n",
    "    \n",
    "    df_test_actionType = df_test_actionType.append(pd.DataFrame([row],columns=column),ignore_index=True)\n",
    "    "
   ]
  },
  {
   "cell_type": "code",
   "execution_count": 6,
   "metadata": {
    "collapsed": false
   },
   "outputs": [
    {
     "name": "stdout",
     "output_type": "stream",
     "text": [
      "<class 'pandas.core.frame.DataFrame'>\n",
      "RangeIndex: 40307 entries, 0 to 40306\n",
      "Data columns (total 11 columns):\n",
      "userid        40307 non-null object\n",
      "last1Type     40307 non-null object\n",
      "last2Type     40307 non-null object\n",
      "last3Type     40307 non-null object\n",
      "last4Type     40307 non-null object\n",
      "last5Type     40307 non-null object\n",
      "last6Type     40307 non-null object\n",
      "last7Type     40307 non-null object\n",
      "last8Type     40307 non-null object\n",
      "last9Type     40307 non-null object\n",
      "last10Type    40307 non-null object\n",
      "dtypes: object(11)\n",
      "memory usage: 3.4+ MB\n",
      "<class 'pandas.core.frame.DataFrame'>\n",
      "RangeIndex: 10076 entries, 0 to 10075\n",
      "Data columns (total 11 columns):\n",
      "userid        10076 non-null object\n",
      "last1Type     10076 non-null object\n",
      "last2Type     10076 non-null object\n",
      "last3Type     10076 non-null object\n",
      "last4Type     10076 non-null object\n",
      "last5Type     10076 non-null object\n",
      "last6Type     10076 non-null object\n",
      "last7Type     10076 non-null object\n",
      "last8Type     10076 non-null object\n",
      "last9Type     10076 non-null object\n",
      "last10Type    10076 non-null object\n",
      "dtypes: object(11)\n",
      "memory usage: 866.0+ KB\n"
     ]
    }
   ],
   "source": [
    "df_train_actionType.info()\n",
    "df_test_actionType.info()\n"
   ]
  },
  {
   "cell_type": "code",
   "execution_count": 7,
   "metadata": {
    "collapsed": true
   },
   "outputs": [],
   "source": [
    "\n",
    "df_train_data = pd.merge(df_train_data,df_train_actionType, how='left',on='userid')\n",
    "df_test_data = pd.merge(df_test_data,df_test_actionType, how='left',on='userid')\n"
   ]
  },
  {
   "cell_type": "code",
   "execution_count": 8,
   "metadata": {
    "collapsed": true
   },
   "outputs": [],
   "source": [
    "###--------------- actionTime差值的特征 --------------###"
   ]
  },
  {
   "cell_type": "code",
   "execution_count": 9,
   "metadata": {
    "collapsed": false
   },
   "outputs": [],
   "source": [
    "def diffInfo(x):\n",
    "    if len(x) == 0:\n",
    "        return x\n",
    "    \n",
    "    # 所有时间的最大值\n",
    "    cur = 1505087865\n",
    "    \n",
    "    x = list(x)\n",
    "    x.append(cur)\n",
    "#     print(x)\n",
    "    for i in range(len(x)-1):\n",
    "        x[i] = x[i+1] - x[i]\n",
    "    \n",
    "    return np.array(x[:-1])\n"
   ]
  },
  {
   "cell_type": "code",
   "execution_count": 10,
   "metadata": {
    "collapsed": false
   },
   "outputs": [
    {
     "name": "stdout",
     "output_type": "stream",
     "text": [
      "1000\n",
      "2000\n",
      "3000\n",
      "4000\n",
      "5000\n",
      "6000\n",
      "7000\n",
      "8000\n",
      "9000\n",
      "10000\n",
      "11000\n",
      "12000\n",
      "13000\n",
      "14000\n",
      "15000\n",
      "16000\n",
      "17000\n",
      "18000\n",
      "19000\n",
      "20000\n",
      "21000\n",
      "22000\n",
      "23000\n",
      "24000\n",
      "25000\n",
      "26000\n",
      "27000\n",
      "28000\n",
      "29000\n",
      "30000\n",
      "31000\n",
      "32000\n",
      "33000\n",
      "34000\n",
      "35000\n",
      "36000\n",
      "37000\n",
      "38000\n",
      "39000\n",
      "40000\n"
     ]
    }
   ],
   "source": [
    "# 时间间隔特征，[avg,std,var,skew,kurt,min,max, last1, last2,last3,last4,last5]\n",
    "\n",
    "column = ['userid','diffTimeAvg','diffTimeStd','diffTimeVar','diffTimeSkew','diffTimeKurt',\n",
    "          'diffTimeMin','diffTimeMax','last1DiffTime','last2DiffTime','last3DiffTime',\n",
    "          'last4DiffTime','last5DiffTime','last6DiffTime','last7DiffTime','last8DiffTime',\n",
    "          'last9DiffTime','last10DiffTime','last11DiffTime','last12DiffTime','last13DiffTime',\n",
    "          'last14DiffTime','last15DiffTime']\n",
    "\n",
    "df_train_diffTime = pd.DataFrame(columns=column)\n",
    "\n",
    "userlist = list(set(df_train_action['userid']))\n",
    "\n",
    "k = 0\n",
    "for user in userlist:\n",
    "    k+=1\n",
    "    if k%1000 == 0:\n",
    "        print(k)\n",
    "\n",
    "    df_users_t = df_train_action[df_train_action['userid'] == user]\n",
    "    df_users_t = df_users_t.sort_values('actionTime')\n",
    "    \n",
    "    df_users_t['actionTimeDiff'] = diffInfo(df_users_t['actionTime'])\n",
    "    \n",
    "    row = [user]\n",
    "    \n",
    "    row.append(df_users_t['actionTimeDiff'].mean())\n",
    "    row.append(df_users_t['actionTimeDiff'].std())\n",
    "    row.append(df_users_t['actionTimeDiff'].var())\n",
    "    row.append(df_users_t['actionTimeDiff'].skew())\n",
    "    row.append(df_users_t['actionTimeDiff'].kurt())\n",
    "    row.append(df_users_t['actionTimeDiff'].min())\n",
    "    row.append(df_users_t['actionTimeDiff'].max())\n",
    "    \n",
    "    # 注意要时间进行发转，统计的时候是到这统计的。\n",
    "    tmp_time = []\n",
    "    tmp_time.extend(df_users_t['actionTimeDiff'].values[-15:])\n",
    "    tmp_time.reverse()\n",
    "\n",
    "    # 用差值的平均数填充\n",
    "    if len(tmp_time) < 15:\n",
    "        tmp_time.extend([row[1] for i in range(15-len(tmp_time))])\n",
    "    \n",
    "    row.extend(tmp_time)\n",
    "    \n",
    "    df_train_diffTime = df_train_diffTime.append(pd.DataFrame([row],columns=column),ignore_index=True)\n",
    "    \n"
   ]
  },
  {
   "cell_type": "code",
   "execution_count": 11,
   "metadata": {
    "collapsed": true
   },
   "outputs": [],
   "source": [
    "# 极差(max-min),(max-avg),(avg-min)\n",
    "df_train_diffTime['diffTimeMaxSubMin'] = df_train_diffTime['diffTimeMax'] - df_train_diffTime['diffTimeMin']\n",
    "df_train_diffTime['diffTimeMaxSubAvg'] = df_train_diffTime['diffTimeMax'] - df_train_diffTime['diffTimeAvg']\n",
    "df_train_diffTime['diffTimeAvgSubMin'] = df_train_diffTime['diffTimeAvg'] - df_train_diffTime['diffTimeMin']\n",
    "\n",
    "\n"
   ]
  },
  {
   "cell_type": "code",
   "execution_count": 12,
   "metadata": {
    "collapsed": false
   },
   "outputs": [
    {
     "name": "stdout",
     "output_type": "stream",
     "text": [
      "1000\n",
      "2000\n",
      "3000\n",
      "4000\n",
      "5000\n",
      "6000\n",
      "7000\n",
      "8000\n",
      "9000\n",
      "10000\n"
     ]
    }
   ],
   "source": [
    "# 时间间隔特征，[avg,std,var,skew,kurt,min,max, last1, last2,last3,last4,last5]\n",
    "\n",
    "column = ['userid','diffTimeAvg','diffTimeStd','diffTimeVar','diffTimeSkew','diffTimeKurt',\n",
    "          'diffTimeMin','diffTimeMax','last1DiffTime','last2DiffTime','last3DiffTime',\n",
    "          'last4DiffTime','last5DiffTime','last6DiffTime','last7DiffTime','last8DiffTime',\n",
    "          'last9DiffTime','last10DiffTime','last11DiffTime','last12DiffTime','last13DiffTime',\n",
    "          'last14DiffTime','last15DiffTime']\n",
    "\n",
    "df_test_diffTime = pd.DataFrame(columns=column)\n",
    "\n",
    "userlist = list(set(df_test_action['userid']))\n",
    "\n",
    "k = 0\n",
    "for user in userlist:\n",
    "    k+=1\n",
    "    if k%1000 == 0:\n",
    "        print(k)\n",
    "\n",
    "    df_users_t = df_test_action[df_test_action['userid'] == user]\n",
    "    df_users_t = df_users_t.sort_values('actionTime')\n",
    "    \n",
    "    df_users_t['actionTimeDiff'] = diffInfo(df_users_t['actionTime'])\n",
    "    \n",
    "    row = [user]\n",
    "    \n",
    "    row.append(df_users_t['actionTimeDiff'].mean())\n",
    "    row.append(df_users_t['actionTimeDiff'].std())\n",
    "    row.append(df_users_t['actionTimeDiff'].var())\n",
    "    row.append(df_users_t['actionTimeDiff'].skew())\n",
    "    row.append(df_users_t['actionTimeDiff'].kurt())\n",
    "    row.append(df_users_t['actionTimeDiff'].min())\n",
    "    row.append(df_users_t['actionTimeDiff'].max())\n",
    "    \n",
    "    \n",
    "    # 注意要时间进行发转，统计的时候是到这统计的。\n",
    "    tmp_time = []\n",
    "    tmp_time.extend(df_users_t['actionTimeDiff'].values[-15:])\n",
    "    tmp_time.reverse()\n",
    "\n",
    "    # 用差值的平均数填充\n",
    "    if len(tmp_time) < 15:\n",
    "        tmp_time.extend([row[1] for i in range(15-len(tmp_time))])\n",
    "    \n",
    "    row.extend(tmp_time)\n",
    "    \n",
    "    df_test_diffTime = df_test_diffTime.append(pd.DataFrame([row],columns=column),ignore_index=True)\n",
    "    "
   ]
  },
  {
   "cell_type": "code",
   "execution_count": 13,
   "metadata": {
    "collapsed": true
   },
   "outputs": [],
   "source": [
    "# 极差(max-min),(max-avg),(avg-min)\n",
    "df_test_diffTime['diffTimeMaxSubMin'] = df_test_diffTime['diffTimeMax'] - df_test_diffTime['diffTimeMin']\n",
    "df_test_diffTime['diffTimeMaxSubAvg'] = df_test_diffTime['diffTimeMax'] - df_test_diffTime['diffTimeAvg']\n",
    "df_test_diffTime['diffTimeAvgSubMin'] = df_test_diffTime['diffTimeAvg'] - df_test_diffTime['diffTimeMin']\n"
   ]
  },
  {
   "cell_type": "code",
   "execution_count": 14,
   "metadata": {
    "collapsed": false,
    "scrolled": true
   },
   "outputs": [
    {
     "name": "stdout",
     "output_type": "stream",
     "text": [
      "<class 'pandas.core.frame.DataFrame'>\n",
      "RangeIndex: 40307 entries, 0 to 40306\n",
      "Data columns (total 26 columns):\n",
      "userid               40307 non-null object\n",
      "diffTimeAvg          40307 non-null float64\n",
      "diffTimeStd          39047 non-null float64\n",
      "diffTimeVar          39047 non-null float64\n",
      "diffTimeSkew         38288 non-null float64\n",
      "diffTimeKurt         37196 non-null float64\n",
      "diffTimeMin          40307 non-null object\n",
      "diffTimeMax          40307 non-null object\n",
      "last1DiffTime        40307 non-null object\n",
      "last2DiffTime        40307 non-null object\n",
      "last3DiffTime        40307 non-null object\n",
      "last4DiffTime        40307 non-null object\n",
      "last5DiffTime        40307 non-null object\n",
      "last6DiffTime        40307 non-null object\n",
      "last7DiffTime        40307 non-null object\n",
      "last8DiffTime        40307 non-null object\n",
      "last9DiffTime        40307 non-null object\n",
      "last10DiffTime       40307 non-null object\n",
      "last11DiffTime       40307 non-null object\n",
      "last12DiffTime       40307 non-null object\n",
      "last13DiffTime       40307 non-null object\n",
      "last14DiffTime       40307 non-null object\n",
      "last15DiffTime       40307 non-null object\n",
      "diffTimeMaxSubMin    40307 non-null object\n",
      "diffTimeMaxSubAvg    40307 non-null object\n",
      "diffTimeAvgSubMin    40307 non-null object\n",
      "dtypes: float64(5), object(21)\n",
      "memory usage: 8.0+ MB\n",
      "<class 'pandas.core.frame.DataFrame'>\n",
      "RangeIndex: 10076 entries, 0 to 10075\n",
      "Data columns (total 26 columns):\n",
      "userid               10076 non-null object\n",
      "diffTimeAvg          10076 non-null float64\n",
      "diffTimeStd          9722 non-null float64\n",
      "diffTimeVar          9722 non-null float64\n",
      "diffTimeSkew         9544 non-null float64\n",
      "diffTimeKurt         9276 non-null float64\n",
      "diffTimeMin          10076 non-null object\n",
      "diffTimeMax          10076 non-null object\n",
      "last1DiffTime        10076 non-null object\n",
      "last2DiffTime        10076 non-null object\n",
      "last3DiffTime        10076 non-null object\n",
      "last4DiffTime        10076 non-null object\n",
      "last5DiffTime        10076 non-null object\n",
      "last6DiffTime        10076 non-null object\n",
      "last7DiffTime        10076 non-null object\n",
      "last8DiffTime        10076 non-null object\n",
      "last9DiffTime        10076 non-null object\n",
      "last10DiffTime       10076 non-null object\n",
      "last11DiffTime       10076 non-null object\n",
      "last12DiffTime       10076 non-null object\n",
      "last13DiffTime       10076 non-null object\n",
      "last14DiffTime       10076 non-null object\n",
      "last15DiffTime       10076 non-null object\n",
      "diffTimeMaxSubMin    10076 non-null object\n",
      "diffTimeMaxSubAvg    10076 non-null object\n",
      "diffTimeAvgSubMin    10076 non-null object\n",
      "dtypes: float64(5), object(21)\n",
      "memory usage: 2.0+ MB\n"
     ]
    }
   ],
   "source": [
    "df_train_diffTime.info()\n",
    "df_test_diffTime.info()\n"
   ]
  },
  {
   "cell_type": "code",
   "execution_count": 15,
   "metadata": {
    "collapsed": true
   },
   "outputs": [],
   "source": [
    "df_train_diffTime.fillna(0,inplace=True)\n",
    "df_test_diffTime.fillna(0,inplace=True)"
   ]
  },
  {
   "cell_type": "code",
   "execution_count": 16,
   "metadata": {
    "collapsed": true
   },
   "outputs": [],
   "source": [
    "df_train_data = pd.merge(df_train_data,df_train_diffTime, how='left',on='userid')\n",
    "\n",
    "df_test_data = pd.merge(df_test_data,df_test_diffTime, how='left',on='userid')\n"
   ]
  },
  {
   "cell_type": "code",
   "execution_count": 17,
   "metadata": {
    "collapsed": false
   },
   "outputs": [
    {
     "data": {
      "text/plain": [
       "Index(['userid', 'diffTimeAvg', 'diffTimeStd', 'diffTimeVar', 'diffTimeSkew',\n",
       "       'diffTimeKurt', 'diffTimeMin', 'diffTimeMax', 'last1DiffTime',\n",
       "       'last2DiffTime', 'last3DiffTime', 'last4DiffTime', 'last5DiffTime',\n",
       "       'last6DiffTime', 'last7DiffTime', 'last8DiffTime', 'last9DiffTime',\n",
       "       'last10DiffTime', 'last11DiffTime', 'last12DiffTime', 'last13DiffTime',\n",
       "       'last14DiffTime', 'last15DiffTime', 'diffTimeMaxSubMin',\n",
       "       'diffTimeMaxSubAvg', 'diffTimeAvgSubMin'],\n",
       "      dtype='object')"
      ]
     },
     "execution_count": 17,
     "metadata": {},
     "output_type": "execute_result"
    }
   ],
   "source": [
    "df_train_diffTime.columns\n",
    "\n"
   ]
  },
  {
   "cell_type": "code",
   "execution_count": null,
   "metadata": {
    "collapsed": true
   },
   "outputs": [],
   "source": []
  },
  {
   "cell_type": "raw",
   "metadata": {},
   "source": [
    "## ------------ 差分特征不靠谱 ----------------##\n",
    "\n",
    "df_train_diff = df_train_data[df_train_data.columns[18:33]].diff(periods=1,axis=1)\n",
    "\n",
    "df_train_diff.drop('last1DiffTime',axis=1,inplace=True)\n",
    "\n",
    "df_train_diff.drop('last2DiffTime',axis=1,inplace=True)\n",
    "\n",
    "renamecolumn = {\n",
    "    'last3DiffTime':'last3DiffTimeDiff1',\n",
    "    'last4DiffTime':'last4DiffTimeDiff1',\n",
    "    'last5DiffTime':'last5DiffTimeDiff1',\n",
    "    'last6DiffTime':'last6DiffTimeDiff1',\n",
    "    'last7DiffTime':'last7DiffTimeDiff1',\n",
    "    'last8DiffTime':'last8DiffTimeDiff1',\n",
    "    'last9DiffTime':'last9DiffTimeDiff1',\n",
    "    'last10DiffTime':'last10DiffTimeDiff1',\n",
    "    'last11DiffTime':'last11DiffTimeDiff1',\n",
    "    'last12DiffTime':'last12DiffTimeDiff1',\n",
    "    'last13DiffTime':'last13DiffTimeDiff1',\n",
    "    'last14DiffTime':'last14DiffTimeDiff1',\n",
    "    'last15DiffTime':'last15DiffTimeDiff1',\n",
    "}\n",
    "\n",
    "df_train_diff.rename(columns=renamecolumn,inplace=True)\n"
   ]
  },
  {
   "cell_type": "raw",
   "metadata": {},
   "source": [
    "## ------------ 差分特征不靠谱 ----------------##\n",
    "\n",
    "df_test_diff = df_test_data[df_test_data.columns[18:33]].diff(periods=1,axis=1)\n",
    "\n",
    "df_test_diff.drop('last1DiffTime',axis=1,inplace=True)\n",
    "\n",
    "df_test_diff.drop('last2DiffTime',axis=1,inplace=True)\n",
    "\n",
    "renamecolumn = {\n",
    "    'last3DiffTime':'last3DiffTimeDiff1',\n",
    "    'last4DiffTime':'last4DiffTimeDiff1',\n",
    "    'last5DiffTime':'last5DiffTimeDiff1',\n",
    "    'last6DiffTime':'last6DiffTimeDiff1',\n",
    "    'last7DiffTime':'last7DiffTimeDiff1',\n",
    "    'last8DiffTime':'last8DiffTimeDiff1',\n",
    "    'last9DiffTime':'last9DiffTimeDiff1',\n",
    "    'last10DiffTime':'last10DiffTimeDiff1',\n",
    "    'last11DiffTime':'last11DiffTimeDiff1',\n",
    "    'last12DiffTime':'last12DiffTimeDiff1',\n",
    "    'last13DiffTime':'last13DiffTimeDiff1',\n",
    "    'last14DiffTime':'last14DiffTimeDiff1',\n",
    "    'last15DiffTime':'last15DiffTimeDiff1',\n",
    "}\n",
    "\n",
    "df_test_diff.rename(columns=renamecolumn,inplace=True)\n",
    "\n",
    "df_train_data = pd.concat([df_train_data,df_train_diff],axis=1)\n",
    "df_test_data = pd.concat([df_test_data,df_test_diff],axis=1)\n"
   ]
  },
  {
   "cell_type": "code",
   "execution_count": null,
   "metadata": {
    "collapsed": false
   },
   "outputs": [],
   "source": []
  },
  {
   "cell_type": "code",
   "execution_count": 18,
   "metadata": {
    "collapsed": false,
    "scrolled": true
   },
   "outputs": [
    {
     "name": "stdout",
     "output_type": "stream",
     "text": [
      "<class 'pandas.core.frame.DataFrame'>\n",
      "Int64Index: 40307 entries, 0 to 40306\n",
      "Data columns (total 37 columns):\n",
      "userid               40307 non-null object\n",
      "orderType            40307 non-null int64\n",
      "last1Type            40307 non-null object\n",
      "last2Type            40307 non-null object\n",
      "last3Type            40307 non-null object\n",
      "last4Type            40307 non-null object\n",
      "last5Type            40307 non-null object\n",
      "last6Type            40307 non-null object\n",
      "last7Type            40307 non-null object\n",
      "last8Type            40307 non-null object\n",
      "last9Type            40307 non-null object\n",
      "last10Type           40307 non-null object\n",
      "diffTimeAvg          40307 non-null float64\n",
      "diffTimeStd          40307 non-null float64\n",
      "diffTimeVar          40307 non-null float64\n",
      "diffTimeSkew         40307 non-null float64\n",
      "diffTimeKurt         40307 non-null float64\n",
      "diffTimeMin          40307 non-null int64\n",
      "diffTimeMax          40307 non-null int64\n",
      "last1DiffTime        40307 non-null int64\n",
      "last2DiffTime        40307 non-null float64\n",
      "last3DiffTime        40307 non-null float64\n",
      "last4DiffTime        40307 non-null float64\n",
      "last5DiffTime        40307 non-null float64\n",
      "last6DiffTime        40307 non-null float64\n",
      "last7DiffTime        40307 non-null float64\n",
      "last8DiffTime        40307 non-null float64\n",
      "last9DiffTime        40307 non-null float64\n",
      "last10DiffTime       40307 non-null float64\n",
      "last11DiffTime       40307 non-null float64\n",
      "last12DiffTime       40307 non-null float64\n",
      "last13DiffTime       40307 non-null float64\n",
      "last14DiffTime       40307 non-null float64\n",
      "last15DiffTime       40307 non-null float64\n",
      "diffTimeMaxSubMin    40307 non-null int64\n",
      "diffTimeMaxSubAvg    40307 non-null float64\n",
      "diffTimeAvgSubMin    40307 non-null float64\n",
      "dtypes: float64(21), int64(5), object(11)\n",
      "memory usage: 11.7+ MB\n",
      "<class 'pandas.core.frame.DataFrame'>\n",
      "Int64Index: 10076 entries, 0 to 10075\n",
      "Data columns (total 36 columns):\n",
      "userid               10076 non-null object\n",
      "last1Type            10076 non-null object\n",
      "last2Type            10076 non-null object\n",
      "last3Type            10076 non-null object\n",
      "last4Type            10076 non-null object\n",
      "last5Type            10076 non-null object\n",
      "last6Type            10076 non-null object\n",
      "last7Type            10076 non-null object\n",
      "last8Type            10076 non-null object\n",
      "last9Type            10076 non-null object\n",
      "last10Type           10076 non-null object\n",
      "diffTimeAvg          10076 non-null float64\n",
      "diffTimeStd          10076 non-null float64\n",
      "diffTimeVar          10076 non-null float64\n",
      "diffTimeSkew         10076 non-null float64\n",
      "diffTimeKurt         10076 non-null float64\n",
      "diffTimeMin          10076 non-null int64\n",
      "diffTimeMax          10076 non-null int64\n",
      "last1DiffTime        10076 non-null int64\n",
      "last2DiffTime        10076 non-null float64\n",
      "last3DiffTime        10076 non-null float64\n",
      "last4DiffTime        10076 non-null float64\n",
      "last5DiffTime        10076 non-null float64\n",
      "last6DiffTime        10076 non-null float64\n",
      "last7DiffTime        10076 non-null float64\n",
      "last8DiffTime        10076 non-null float64\n",
      "last9DiffTime        10076 non-null float64\n",
      "last10DiffTime       10076 non-null float64\n",
      "last11DiffTime       10076 non-null float64\n",
      "last12DiffTime       10076 non-null float64\n",
      "last13DiffTime       10076 non-null float64\n",
      "last14DiffTime       10076 non-null float64\n",
      "last15DiffTime       10076 non-null float64\n",
      "diffTimeMaxSubMin    10076 non-null int64\n",
      "diffTimeMaxSubAvg    10076 non-null float64\n",
      "diffTimeAvgSubMin    10076 non-null float64\n",
      "dtypes: float64(21), int64(4), object(11)\n",
      "memory usage: 2.8+ MB\n"
     ]
    }
   ],
   "source": [
    "df_train_data.info()\n",
    "df_test_data.info()"
   ]
  },
  {
   "cell_type": "code",
   "execution_count": 21,
   "metadata": {
    "collapsed": false
   },
   "outputs": [],
   "source": [
    "df_train_data.drop('orderType',axis=1,inplace=True)\n",
    "df_train_data.to_csv('../data/dataSet/df_train_1.csv',index=False,index_label=False)\n",
    "df_test_data.to_csv('../data/dataSet/df_test_1.csv',index=False,index_label=False)\n",
    "\n"
   ]
  },
  {
   "cell_type": "code",
   "execution_count": null,
   "metadata": {
    "collapsed": true
   },
   "outputs": [],
   "source": []
  }
 ],
 "metadata": {
  "anaconda-cloud": {},
  "kernelspec": {
   "display_name": "Python [conda root]",
   "language": "python",
   "name": "conda-root-py"
  },
  "language_info": {
   "codemirror_mode": {
    "name": "ipython",
    "version": 3
   },
   "file_extension": ".py",
   "mimetype": "text/x-python",
   "name": "python",
   "nbconvert_exporter": "python",
   "pygments_lexer": "ipython3",
   "version": "3.5.2"
  }
 },
 "nbformat": 4,
 "nbformat_minor": 1
}
