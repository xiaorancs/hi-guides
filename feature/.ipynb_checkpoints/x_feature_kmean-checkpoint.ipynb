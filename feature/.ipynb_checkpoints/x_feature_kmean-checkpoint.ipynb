{
 "cells": [
  {
   "cell_type": "code",
   "execution_count": 5,
   "metadata": {
    "collapsed": true
   },
   "outputs": [],
   "source": [
    "from sklearn.cluster import KMeans\n",
    "import pandas as pd\n",
    "\n",
    "import numpy as np\n",
    "\n"
   ]
  },
  {
   "cell_type": "code",
   "execution_count": 6,
   "metadata": {
    "collapsed": false
   },
   "outputs": [],
   "source": [
    "df_train = pd.read_csv('../data/train/orderFuture_train.csv')\n",
    "df_test = pd.read_csv('../data/test/orderFuture_test.csv')\n",
    "\n",
    "df_train_1 = pd.read_csv('../data/dataSet/df_train_1.csv')\n",
    "df_test_1 = pd.read_csv('../data/dataSet/df_test_1.csv')\n",
    "df_train = pd.merge(df_train,df_train_1,how='left',on='userid')\n",
    "df_test = pd.merge(df_test,df_test_1,how='left',on='userid')\n",
    "\n",
    "\n",
    "df_train_2 = pd.read_csv('../data/dataSet/df_train_2.csv')\n",
    "df_test_2 = pd.read_csv('../data/dataSet/df_test_2.csv')\n",
    "df_train = pd.merge(df_train,df_train_2,how='left',on='userid')\n",
    "df_test = pd.merge(df_test,df_test_2,how='left',on='userid')\n",
    "\n",
    "\n",
    "df_train_3 = pd.read_csv('../data/dataSet/df_train_3.csv')\n",
    "df_test_3 = pd.read_csv('../data/dataSet/df_test_3.csv')\n",
    "df_train = pd.merge(df_train,df_train_3,how='left',on='userid')\n",
    "df_test = pd.merge(df_test,df_test_3,how='left',on='userid')\n",
    "\n",
    "\n",
    "df_train_4 = pd.read_csv('../data/dataSet/df_train_4.csv')\n",
    "df_test_4 = pd.read_csv('../data/dataSet/df_test_4.csv')\n",
    "df_train = pd.merge(df_train,df_train_4,how='left',on='userid')\n",
    "df_test = pd.merge(df_test,df_test_4,how='left',on='userid')\n",
    "\n",
    "df_train_5 = pd.read_csv('../data/dataSet/df_train_5.csv')\n",
    "df_test_5 = pd.read_csv('../data/dataSet/df_test_5.csv')\n",
    "df_train = pd.merge(df_train,df_train_5,how='left',on='userid')\n",
    "df_test = pd.merge(df_test,df_test_5,how='left',on='userid')\n",
    "\n",
    "df_train_6 = pd.read_csv('../data/dataSet/df_train_6.csv')\n",
    "df_test_6 = pd.read_csv('../data/dataSet/df_test_6.csv')\n",
    "df_train = pd.merge(df_train,df_train_6,how='left',on='userid')\n",
    "df_test = pd.merge(df_test,df_test_6,how='left',on='userid')\n",
    "\n",
    "df_train_7 = pd.read_csv('../data/dataSet/df_train_7.csv')\n",
    "df_test_7 = pd.read_csv('../data/dataSet/df_test_7.csv')\n",
    "df_train = pd.merge(df_train,df_train_7,how='left',on='userid')\n",
    "df_test = pd.merge(df_test,df_test_7,how='left',on='userid')\n",
    "\n",
    "\n",
    "df_train_8 = pd.read_csv('../data/dataSet/df_train_8.csv')\n",
    "df_test_8 = pd.read_csv('../data/dataSet/df_test_8.csv')\n",
    "df_train = pd.merge(df_train,df_train_8,how='left',on='userid')\n",
    "df_test = pd.merge(df_test,df_test_8,how='left',on='userid')\n",
    "\n",
    "df_train_9 = pd.read_csv('../data/dataSet/df_train_9.csv')\n",
    "df_test_9 = pd.read_csv('../data/dataSet/df_test_9.csv')\n",
    "df_train = pd.merge(df_train,df_train_9,how='left',on='userid')\n",
    "df_test = pd.merge(df_test,df_test_9,how='left',on='userid')\n",
    "\n",
    "\n",
    "df_train_10 = pd.read_csv('../data/dataSet/df_train_10.csv')\n",
    "df_test_10 = pd.read_csv('../data/dataSet/df_test_10.csv')\n",
    "df_train = pd.merge(df_train,df_train_10,how='left',on='userid')\n",
    "df_test = pd.merge(df_test,df_test_10,how='left',on='userid')\n",
    "\n",
    "df_train_11 = pd.read_csv('../data/dataSet/df_train_11.csv')\n",
    "df_test_11 = pd.read_csv('../data/dataSet/df_test_11.csv')\n",
    "df_train = pd.merge(df_train,df_train_11,how='left',on='userid')\n",
    "df_test = pd.merge(df_test,df_test_11,how='left',on='userid')\n",
    "\n",
    "df_train_12 = pd.read_csv('../data/dataSet/df_train_12.csv')\n",
    "df_test_12 = pd.read_csv('../data/dataSet/df_test_12.csv')\n",
    "df_train = pd.merge(df_train,df_train_12,how='left',on='userid')\n",
    "df_test = pd.merge(df_test,df_test_12,how='left',on='userid')\n",
    "\n",
    "\n",
    "\n"
   ]
  },
  {
   "cell_type": "code",
   "execution_count": 8,
   "metadata": {
    "collapsed": false
   },
   "outputs": [
    {
     "name": "stdout",
     "output_type": "stream",
     "text": [
      "<class 'pandas.core.frame.DataFrame'>\n",
      "Int64Index: 50383 entries, 0 to 10075\n",
      "Columns: 839 entries, OrderCnt to wrds_long_mean\n",
      "dtypes: bool(2), float64(340), int64(497)\n",
      "memory usage: 322.2 MB\n"
     ]
    }
   ],
   "source": [
    "# 设置特征数据，去除id数据，不能进行预测\n",
    "features = df_test.columns[1:]\n",
    "\n",
    "label = 'orderType'\n",
    "\n",
    "len(features)\n",
    "\n",
    "\n",
    "df_all = df_train\n",
    "\n",
    "df_all = df_all.append(df_test)\n",
    "\n",
    "df_all.info()"
   ]
  },
  {
   "cell_type": "code",
   "execution_count": 9,
   "metadata": {
    "collapsed": true
   },
   "outputs": [],
   "source": []
  },
  {
   "cell_type": "code",
   "execution_count": 11,
   "metadata": {
    "collapsed": false
   },
   "outputs": [
    {
     "name": "stdout",
     "output_type": "stream",
     "text": [
      "2 2.49644405813e+31\n",
      "3 1.14130395816e+31\n",
      "4 6.61803923312e+30\n",
      "5 4.15399320655e+30\n",
      "6 2.83632326687e+30\n",
      "7 2.20488535797e+30\n",
      "8 1.69391954812e+30\n",
      "9 1.33038134034e+30\n"
     ]
    }
   ],
   "source": [
    "# 选择一个类别，是这个值最小，或者突变\n",
    "for k in range(2,10):\n",
    "    kmeans = KMeans(n_clusters=k,random_state=2018).fit(df_all[features])\n",
    "    print(k, kmeans.inertia_)\n"
   ]
  },
  {
   "cell_type": "code",
   "execution_count": 12,
   "metadata": {
    "collapsed": false
   },
   "outputs": [
    {
     "name": "stdout",
     "output_type": "stream",
     "text": [
      "10 1.05406338146e+30\n",
      "11 8.66906421886e+29\n",
      "12 7.20821717394e+29\n",
      "13 6.23345102592e+29\n",
      "14 5.30269235615e+29\n",
      "15 4.56065570043e+29\n",
      "16 4.05386309531e+29\n",
      "17 3.61621251118e+29\n",
      "18 3.22382473078e+29\n",
      "19 2.88235122863e+29\n"
     ]
    }
   ],
   "source": [
    "# 选择一个类别，是这个值最小，或者突变\n",
    "for k in range(10,20):\n",
    "    kmeans = KMeans(n_clusters=k,random_state=2018).fit(df_all[features])\n",
    "    print(k, kmeans.inertia_)\n"
   ]
  },
  {
   "cell_type": "code",
   "execution_count": 13,
   "metadata": {
    "collapsed": true
   },
   "outputs": [],
   "source": [
    "kmeans = KMeans(n_clusters=15,random_state=2018).fit(df_all[features])\n"
   ]
  },
  {
   "cell_type": "code",
   "execution_count": 23,
   "metadata": {
    "collapsed": true
   },
   "outputs": [],
   "source": [
    "proba_train = pd.DataFrame()\n",
    "proba_train['userid'] = df_train['userid']\n",
    "proba_train['kmeams_label'] = kmeans.labels_[:len(df_train)]\n",
    "\n",
    "proba_test = pd.DataFrame()\n",
    "proba_test['userid'] = df_test['userid']\n",
    "proba_test['kmeams_label'] = kmeans.labels_[len(df_train):]\n",
    "\n"
   ]
  },
  {
   "cell_type": "code",
   "execution_count": 24,
   "metadata": {
    "collapsed": false,
    "scrolled": true
   },
   "outputs": [
    {
     "data": {
      "text/plain": [
       "7     17941\n",
       "0      8463\n",
       "8      4839\n",
       "5      3045\n",
       "14     1974\n",
       "2      1363\n",
       "12      897\n",
       "4       557\n",
       "13      439\n",
       "6       247\n",
       "1       185\n",
       "11      155\n",
       "3        94\n",
       "10       66\n",
       "9        42\n",
       "Name: kmeams_label, dtype: int64"
      ]
     },
     "execution_count": 24,
     "metadata": {},
     "output_type": "execute_result"
    }
   ],
   "source": [
    "proba_train['kmeams_label'].value_counts()"
   ]
  },
  {
   "cell_type": "code",
   "execution_count": 25,
   "metadata": {
    "collapsed": false
   },
   "outputs": [],
   "source": [
    "# train one_hot\n",
    "df_train_onehot = pd.get_dummies(proba_train['kmeams_label'], prefix='kmeams_label')\n",
    "proba_train[df_train_onehot.columns] = df_train_onehot\n",
    "proba_train.drop('kmeams_label',axis=1,inplace=True)\n",
    "\n",
    "# test one_hot\n",
    "df_test_onehot = pd.get_dummies(proba_test['kmeams_label'], prefix='kmeams_label')\n",
    "proba_train[df_test_onehot.columns] = df_test_onehot\n",
    "proba_test.drop('kmeams_label',axis=1,inplace=True)\n",
    "\n"
   ]
  },
  {
   "cell_type": "code",
   "execution_count": 26,
   "metadata": {
    "collapsed": false
   },
   "outputs": [
    {
     "name": "stdout",
     "output_type": "stream",
     "text": [
      "<class 'pandas.core.frame.DataFrame'>\n",
      "Int64Index: 40307 entries, 0 to 40306\n",
      "Data columns (total 16 columns):\n",
      "userid             40307 non-null int64\n",
      "kmeams_label_0     10076 non-null float64\n",
      "kmeams_label_1     10076 non-null float64\n",
      "kmeams_label_2     10076 non-null float64\n",
      "kmeams_label_3     10076 non-null float64\n",
      "kmeams_label_4     10076 non-null float64\n",
      "kmeams_label_5     10076 non-null float64\n",
      "kmeams_label_6     10076 non-null float64\n",
      "kmeams_label_7     10076 non-null float64\n",
      "kmeams_label_8     10076 non-null float64\n",
      "kmeams_label_9     10076 non-null float64\n",
      "kmeams_label_10    10076 non-null float64\n",
      "kmeams_label_11    10076 non-null float64\n",
      "kmeams_label_12    10076 non-null float64\n",
      "kmeams_label_13    10076 non-null float64\n",
      "kmeams_label_14    10076 non-null float64\n",
      "dtypes: float64(15), int64(1)\n",
      "memory usage: 5.2 MB\n"
     ]
    },
    {
     "data": {
      "text/html": [
       "<div>\n",
       "<style>\n",
       "    .dataframe thead tr:only-child th {\n",
       "        text-align: right;\n",
       "    }\n",
       "\n",
       "    .dataframe thead th {\n",
       "        text-align: left;\n",
       "    }\n",
       "\n",
       "    .dataframe tbody tr th {\n",
       "        vertical-align: top;\n",
       "    }\n",
       "</style>\n",
       "<table border=\"1\" class=\"dataframe\">\n",
       "  <thead>\n",
       "    <tr style=\"text-align: right;\">\n",
       "      <th></th>\n",
       "      <th>userid</th>\n",
       "      <th>kmeams_label_0</th>\n",
       "      <th>kmeams_label_1</th>\n",
       "      <th>kmeams_label_2</th>\n",
       "      <th>kmeams_label_3</th>\n",
       "      <th>kmeams_label_4</th>\n",
       "      <th>kmeams_label_5</th>\n",
       "      <th>kmeams_label_6</th>\n",
       "      <th>kmeams_label_7</th>\n",
       "      <th>kmeams_label_8</th>\n",
       "      <th>kmeams_label_9</th>\n",
       "      <th>kmeams_label_10</th>\n",
       "      <th>kmeams_label_11</th>\n",
       "      <th>kmeams_label_12</th>\n",
       "      <th>kmeams_label_13</th>\n",
       "      <th>kmeams_label_14</th>\n",
       "    </tr>\n",
       "  </thead>\n",
       "  <tbody>\n",
       "    <tr>\n",
       "      <th>0</th>\n",
       "      <td>100000000013</td>\n",
       "      <td>0.0</td>\n",
       "      <td>0.0</td>\n",
       "      <td>0.0</td>\n",
       "      <td>0.0</td>\n",
       "      <td>0.0</td>\n",
       "      <td>0.0</td>\n",
       "      <td>0.0</td>\n",
       "      <td>1.0</td>\n",
       "      <td>0.0</td>\n",
       "      <td>0.0</td>\n",
       "      <td>0.0</td>\n",
       "      <td>0.0</td>\n",
       "      <td>0.0</td>\n",
       "      <td>0.0</td>\n",
       "      <td>0.0</td>\n",
       "    </tr>\n",
       "    <tr>\n",
       "      <th>1</th>\n",
       "      <td>100000000111</td>\n",
       "      <td>0.0</td>\n",
       "      <td>0.0</td>\n",
       "      <td>0.0</td>\n",
       "      <td>0.0</td>\n",
       "      <td>0.0</td>\n",
       "      <td>0.0</td>\n",
       "      <td>0.0</td>\n",
       "      <td>1.0</td>\n",
       "      <td>0.0</td>\n",
       "      <td>0.0</td>\n",
       "      <td>0.0</td>\n",
       "      <td>0.0</td>\n",
       "      <td>0.0</td>\n",
       "      <td>0.0</td>\n",
       "      <td>0.0</td>\n",
       "    </tr>\n",
       "    <tr>\n",
       "      <th>2</th>\n",
       "      <td>100000000127</td>\n",
       "      <td>0.0</td>\n",
       "      <td>0.0</td>\n",
       "      <td>0.0</td>\n",
       "      <td>0.0</td>\n",
       "      <td>0.0</td>\n",
       "      <td>0.0</td>\n",
       "      <td>0.0</td>\n",
       "      <td>1.0</td>\n",
       "      <td>0.0</td>\n",
       "      <td>0.0</td>\n",
       "      <td>0.0</td>\n",
       "      <td>0.0</td>\n",
       "      <td>0.0</td>\n",
       "      <td>0.0</td>\n",
       "      <td>0.0</td>\n",
       "    </tr>\n",
       "    <tr>\n",
       "      <th>3</th>\n",
       "      <td>100000000231</td>\n",
       "      <td>0.0</td>\n",
       "      <td>0.0</td>\n",
       "      <td>0.0</td>\n",
       "      <td>0.0</td>\n",
       "      <td>0.0</td>\n",
       "      <td>0.0</td>\n",
       "      <td>0.0</td>\n",
       "      <td>1.0</td>\n",
       "      <td>0.0</td>\n",
       "      <td>0.0</td>\n",
       "      <td>0.0</td>\n",
       "      <td>0.0</td>\n",
       "      <td>0.0</td>\n",
       "      <td>0.0</td>\n",
       "      <td>0.0</td>\n",
       "    </tr>\n",
       "    <tr>\n",
       "      <th>4</th>\n",
       "      <td>100000000379</td>\n",
       "      <td>0.0</td>\n",
       "      <td>0.0</td>\n",
       "      <td>0.0</td>\n",
       "      <td>0.0</td>\n",
       "      <td>0.0</td>\n",
       "      <td>1.0</td>\n",
       "      <td>0.0</td>\n",
       "      <td>0.0</td>\n",
       "      <td>0.0</td>\n",
       "      <td>0.0</td>\n",
       "      <td>0.0</td>\n",
       "      <td>0.0</td>\n",
       "      <td>0.0</td>\n",
       "      <td>0.0</td>\n",
       "      <td>0.0</td>\n",
       "    </tr>\n",
       "  </tbody>\n",
       "</table>\n",
       "</div>"
      ],
      "text/plain": [
       "         userid  kmeams_label_0  kmeams_label_1  kmeams_label_2  \\\n",
       "0  100000000013             0.0             0.0             0.0   \n",
       "1  100000000111             0.0             0.0             0.0   \n",
       "2  100000000127             0.0             0.0             0.0   \n",
       "3  100000000231             0.0             0.0             0.0   \n",
       "4  100000000379             0.0             0.0             0.0   \n",
       "\n",
       "   kmeams_label_3  kmeams_label_4  kmeams_label_5  kmeams_label_6  \\\n",
       "0             0.0             0.0             0.0             0.0   \n",
       "1             0.0             0.0             0.0             0.0   \n",
       "2             0.0             0.0             0.0             0.0   \n",
       "3             0.0             0.0             0.0             0.0   \n",
       "4             0.0             0.0             1.0             0.0   \n",
       "\n",
       "   kmeams_label_7  kmeams_label_8  kmeams_label_9  kmeams_label_10  \\\n",
       "0             1.0             0.0             0.0              0.0   \n",
       "1             1.0             0.0             0.0              0.0   \n",
       "2             1.0             0.0             0.0              0.0   \n",
       "3             1.0             0.0             0.0              0.0   \n",
       "4             0.0             0.0             0.0              0.0   \n",
       "\n",
       "   kmeams_label_11  kmeams_label_12  kmeams_label_13  kmeams_label_14  \n",
       "0              0.0              0.0              0.0              0.0  \n",
       "1              0.0              0.0              0.0              0.0  \n",
       "2              0.0              0.0              0.0              0.0  \n",
       "3              0.0              0.0              0.0              0.0  \n",
       "4              0.0              0.0              0.0              0.0  "
      ]
     },
     "execution_count": 26,
     "metadata": {},
     "output_type": "execute_result"
    }
   ],
   "source": [
    "proba_train.info()\n",
    "proba_train.head()"
   ]
  },
  {
   "cell_type": "code",
   "execution_count": 27,
   "metadata": {
    "collapsed": true
   },
   "outputs": [],
   "source": [
    "proba_train.to_csv('../data/dataSet/df_train_15_kmeans.csv',index=False)\n",
    "proba_test.to_csv('../data/dataSet/df_test_15_kmeans.csv',index=False)\n"
   ]
  },
  {
   "cell_type": "code",
   "execution_count": null,
   "metadata": {
    "collapsed": true
   },
   "outputs": [],
   "source": []
  }
 ],
 "metadata": {
  "anaconda-cloud": {},
  "kernelspec": {
   "display_name": "Python [conda root]",
   "language": "python",
   "name": "conda-root-py"
  },
  "language_info": {
   "codemirror_mode": {
    "name": "ipython",
    "version": 3
   },
   "file_extension": ".py",
   "mimetype": "text/x-python",
   "name": "python",
   "nbconvert_exporter": "python",
   "pygments_lexer": "ipython3",
   "version": "3.5.2"
  }
 },
 "nbformat": 4,
 "nbformat_minor": 1
}
