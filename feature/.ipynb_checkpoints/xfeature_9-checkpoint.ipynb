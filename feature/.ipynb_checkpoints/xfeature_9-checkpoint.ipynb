{
 "cells": [
  {
   "cell_type": "code",
   "execution_count": 1,
   "metadata": {
    "collapsed": true
   },
   "outputs": [],
   "source": [
    "import pandas as pd\n",
    "import numpy as np\n"
   ]
  },
  {
   "cell_type": "code",
   "execution_count": 2,
   "metadata": {
    "collapsed": true
   },
   "outputs": [],
   "source": [
    "# 1. userProfile\n",
    "#     + userid\n",
    "#     + gender\n",
    "#     + province\n",
    "#     + age\n",
    "# 4. commnent\n",
    "#     + 用户的平均打分， avgRating\n",
    "#     + 用户的评论tag，keyWords,待定，之后继续处理，（第二版特征）\n"
   ]
  },
  {
   "cell_type": "code",
   "execution_count": 3,
   "metadata": {
    "collapsed": true
   },
   "outputs": [],
   "source": [
    "df_train_data = pd.read_csv('../data/train/orderFuture_train.csv')\n",
    "df_test_data = pd.read_csv('../data/test/orderFuture_test.csv')\n",
    "\n",
    "# user\n",
    "df_train_user = pd.read_csv('../data/train/userProfile_train.csv')\n",
    "df_test_user = pd.read_csv('../data/test/userProfile_test.csv')\n",
    "\n",
    "df_train_data = pd.merge(df_train_data,df_train_user,how='left',on='userid')\n",
    "df_test_data = pd.merge(df_test_data,df_test_user,how='left',on='userid')\n",
    "\n"
   ]
  },
  {
   "cell_type": "code",
   "execution_count": 4,
   "metadata": {
    "collapsed": true
   },
   "outputs": [],
   "source": [
    "# comment\n",
    "df_train_comment = pd.read_csv('../data/train/userComment_train.csv')\n",
    "df_test_comment = pd.read_csv('../data/test/userComment_test.csv')\n"
   ]
  },
  {
   "cell_type": "code",
   "execution_count": 5,
   "metadata": {
    "collapsed": false
   },
   "outputs": [
    {
     "name": "stdout",
     "output_type": "stream",
     "text": [
      "<class 'pandas.core.frame.DataFrame'>\n",
      "RangeIndex: 9863 entries, 0 to 9862\n",
      "Data columns (total 5 columns):\n",
      "userid              9863 non-null int64\n",
      "orderid             9863 non-null int64\n",
      "rating              9863 non-null float64\n",
      "tags                6754 non-null object\n",
      "commentsKeyWords    4092 non-null object\n",
      "dtypes: float64(1), int64(2), object(2)\n",
      "memory usage: 385.4+ KB\n"
     ]
    }
   ],
   "source": [
    "df_train_comment.info()"
   ]
  },
  {
   "cell_type": "code",
   "execution_count": 6,
   "metadata": {
    "collapsed": true
   },
   "outputs": [],
   "source": [
    "# In[48]:\n",
    "\n",
    "def cnt(x):\n",
    "    x = str(x)\n",
    "    if x == 'nan':\n",
    "        return 0\n",
    "    cnts = x.count('|') + x.count(',') + 1\n",
    "    return cnts\n",
    "\n",
    "df_train_comment['tagsCnt'] = df_train_comment['tags'].apply(cnt)\n",
    "df_train_comment['commentsKeyWordsCnt'] = df_train_comment['commentsKeyWords'].apply(cnt)\n",
    "df_train_comment['tagsCntMulRating'] = df_train_comment['tagsCnt'] * df_train_comment['rating']\n",
    "df_train_comment['commentsKeyWordsCntMulRating'] = df_train_comment['commentsKeyWordsCnt'] * df_train_comment['rating']\n",
    "\n",
    "\n",
    "df_test_comment['tagsCnt'] = df_test_comment['tags'].apply(cnt)\n",
    "df_test_comment['commentsKeyWordsCnt'] = df_test_comment['commentsKeyWords'].apply(cnt)\n",
    "df_test_comment['tagsCntMulRating'] = df_test_comment['tagsCnt'] * df_test_comment['rating']\n",
    "df_test_comment['commentsKeyWordsCntMulRating'] = df_test_comment['commentsKeyWordsCnt'] * df_test_comment['rating']\n"
   ]
  },
  {
   "cell_type": "code",
   "execution_count": 7,
   "metadata": {
    "collapsed": false
   },
   "outputs": [],
   "source": [
    "# comment train & test\n",
    "df_train_data = pd.merge(df_train_data,df_train_comment[['userid','rating','tagsCnt','commentsKeyWordsCnt',\n",
    "                                                         'tagsCntMulRating','commentsKeyWordsCntMulRating']],how='left',on='userid')\n",
    "df_test_data = pd.merge(df_test_data,df_test_comment[['userid','rating','tagsCnt','commentsKeyWordsCnt',\n",
    "                                                    'tagsCntMulRating','commentsKeyWordsCntMulRating']],how='left',on='userid')\n"
   ]
  },
  {
   "cell_type": "code",
   "execution_count": 8,
   "metadata": {
    "collapsed": true
   },
   "outputs": [],
   "source": [
    "# train 整理空值，如何填充, 将字符串转化类型\n",
    "df_train_data['gender'] = pd.Categorical(df_train_data['gender']).codes\n",
    "df_train_data['province'] = pd.Categorical(df_train_data['province']).codes\n",
    "df_train_data['age'] = pd.Categorical(df_train_data['age']).codes\n"
   ]
  },
  {
   "cell_type": "code",
   "execution_count": 9,
   "metadata": {
    "collapsed": true
   },
   "outputs": [],
   "source": [
    "# test 整理空值，如何填充, 将字符串转化类型\n",
    "df_test_data['gender'] = pd.Categorical(df_test_data['gender']).codes\n",
    "df_test_data['province'] = pd.Categorical(df_test_data['province']).codes\n",
    "df_test_data['age'] = pd.Categorical(df_test_data['age']).codes\n"
   ]
  },
  {
   "cell_type": "code",
   "execution_count": 11,
   "metadata": {
    "collapsed": false
   },
   "outputs": [
    {
     "data": {
      "text/html": [
       "<div>\n",
       "<style>\n",
       "    .dataframe thead tr:only-child th {\n",
       "        text-align: right;\n",
       "    }\n",
       "\n",
       "    .dataframe thead th {\n",
       "        text-align: left;\n",
       "    }\n",
       "\n",
       "    .dataframe tbody tr th {\n",
       "        vertical-align: top;\n",
       "    }\n",
       "</style>\n",
       "<table border=\"1\" class=\"dataframe\">\n",
       "  <thead>\n",
       "    <tr style=\"text-align: right;\">\n",
       "      <th></th>\n",
       "      <th>userid</th>\n",
       "      <th>orderType</th>\n",
       "      <th>gender</th>\n",
       "      <th>province</th>\n",
       "      <th>age</th>\n",
       "      <th>rating</th>\n",
       "      <th>tagsCnt</th>\n",
       "      <th>commentsKeyWordsCnt</th>\n",
       "      <th>tagsCntMulRating</th>\n",
       "      <th>commentsKeyWordsCntMulRating</th>\n",
       "    </tr>\n",
       "  </thead>\n",
       "  <tbody>\n",
       "    <tr>\n",
       "      <th>0</th>\n",
       "      <td>100000000013</td>\n",
       "      <td>0</td>\n",
       "      <td>1</td>\n",
       "      <td>-1</td>\n",
       "      <td>1</td>\n",
       "      <td>4.0</td>\n",
       "      <td>0.0</td>\n",
       "      <td>4.0</td>\n",
       "      <td>0.0</td>\n",
       "      <td>16.0</td>\n",
       "    </tr>\n",
       "    <tr>\n",
       "      <th>1</th>\n",
       "      <td>100000000111</td>\n",
       "      <td>0</td>\n",
       "      <td>-1</td>\n",
       "      <td>0</td>\n",
       "      <td>-1</td>\n",
       "      <td>NaN</td>\n",
       "      <td>NaN</td>\n",
       "      <td>NaN</td>\n",
       "      <td>NaN</td>\n",
       "      <td>NaN</td>\n",
       "    </tr>\n",
       "    <tr>\n",
       "      <th>2</th>\n",
       "      <td>100000000127</td>\n",
       "      <td>0</td>\n",
       "      <td>-1</td>\n",
       "      <td>0</td>\n",
       "      <td>-1</td>\n",
       "      <td>NaN</td>\n",
       "      <td>NaN</td>\n",
       "      <td>NaN</td>\n",
       "      <td>NaN</td>\n",
       "      <td>NaN</td>\n",
       "    </tr>\n",
       "    <tr>\n",
       "      <th>3</th>\n",
       "      <td>100000000231</td>\n",
       "      <td>0</td>\n",
       "      <td>1</td>\n",
       "      <td>3</td>\n",
       "      <td>2</td>\n",
       "      <td>5.0</td>\n",
       "      <td>2.0</td>\n",
       "      <td>2.0</td>\n",
       "      <td>10.0</td>\n",
       "      <td>10.0</td>\n",
       "    </tr>\n",
       "    <tr>\n",
       "      <th>4</th>\n",
       "      <td>100000000379</td>\n",
       "      <td>0</td>\n",
       "      <td>1</td>\n",
       "      <td>3</td>\n",
       "      <td>-1</td>\n",
       "      <td>NaN</td>\n",
       "      <td>NaN</td>\n",
       "      <td>NaN</td>\n",
       "      <td>NaN</td>\n",
       "      <td>NaN</td>\n",
       "    </tr>\n",
       "  </tbody>\n",
       "</table>\n",
       "</div>"
      ],
      "text/plain": [
       "         userid  orderType  gender  province  age  rating  tagsCnt  \\\n",
       "0  100000000013          0       1        -1    1     4.0      0.0   \n",
       "1  100000000111          0      -1         0   -1     NaN      NaN   \n",
       "2  100000000127          0      -1         0   -1     NaN      NaN   \n",
       "3  100000000231          0       1         3    2     5.0      2.0   \n",
       "4  100000000379          0       1         3   -1     NaN      NaN   \n",
       "\n",
       "   commentsKeyWordsCnt  tagsCntMulRating  commentsKeyWordsCntMulRating  \n",
       "0                  4.0               0.0                          16.0  \n",
       "1                  NaN               NaN                           NaN  \n",
       "2                  NaN               NaN                           NaN  \n",
       "3                  2.0              10.0                          10.0  \n",
       "4                  NaN               NaN                           NaN  "
      ]
     },
     "execution_count": 11,
     "metadata": {},
     "output_type": "execute_result"
    }
   ],
   "source": [
    "df_train_data.fillna(0,inplace=True)\n",
    "df_test_data.fillna(0,inplace=True)\n"
   ]
  },
  {
   "cell_type": "code",
   "execution_count": null,
   "metadata": {
    "collapsed": true
   },
   "outputs": [],
   "source": []
  }
 ],
 "metadata": {
  "kernelspec": {
   "display_name": "Python [conda root]",
   "language": "python",
   "name": "conda-root-py"
  },
  "language_info": {
   "codemirror_mode": {
    "name": "ipython",
    "version": 3
   },
   "file_extension": ".py",
   "mimetype": "text/x-python",
   "name": "python",
   "nbconvert_exporter": "python",
   "pygments_lexer": "ipython3",
   "version": "3.5.2"
  }
 },
 "nbformat": 4,
 "nbformat_minor": 1
}
