{
 "cells": [
  {
   "cell_type": "code",
   "execution_count": 1,
   "metadata": {
    "collapsed": true
   },
   "outputs": [],
   "source": [
    "import pandas as pd\n",
    "import numpy as np\n",
    "import scipy as sp\n"
   ]
  },
  {
   "cell_type": "markdown",
   "metadata": {},
   "source": [
    "### 提取order的时间差值特征，以及最有的操作时间特征，\n",
    "+ 和action进行相似的操作\n"
   ]
  },
  {
   "cell_type": "code",
   "execution_count": 2,
   "metadata": {
    "collapsed": true
   },
   "outputs": [],
   "source": [
    "df_train_data = pd.read_csv('../data/train/orderFuture_train.csv')\n",
    "df_test_data = pd.read_csv('../data/test/orderFuture_test.csv')\n",
    "\n",
    "df_train_order = pd.read_csv('../data/train/orderHistory_train.csv')\n",
    "df_test_order = pd.read_csv('../data/test/orderHistory_test.csv')\n",
    "\n"
   ]
  },
  {
   "cell_type": "code",
   "execution_count": 3,
   "metadata": {
    "collapsed": false
   },
   "outputs": [],
   "source": [
    "# 最小的orderTime时间值，用来填充。\n",
    "MINOREDETIME = 1478363873\n",
    "\n",
    "MAXORDERTIME = 1505136953\n",
    "\n",
    "DIFFORDERTIME = MAXORDERTIME - MINOREDETIME"
   ]
  },
  {
   "cell_type": "code",
   "execution_count": 4,
   "metadata": {
    "collapsed": false
   },
   "outputs": [
    {
     "data": {
      "text/html": [
       "<div>\n",
       "<style>\n",
       "    .dataframe thead tr:only-child th {\n",
       "        text-align: right;\n",
       "    }\n",
       "\n",
       "    .dataframe thead th {\n",
       "        text-align: left;\n",
       "    }\n",
       "\n",
       "    .dataframe tbody tr th {\n",
       "        vertical-align: top;\n",
       "    }\n",
       "</style>\n",
       "<table border=\"1\" class=\"dataframe\">\n",
       "  <thead>\n",
       "    <tr style=\"text-align: right;\">\n",
       "      <th></th>\n",
       "      <th>userid</th>\n",
       "      <th>orderid</th>\n",
       "      <th>orderTime</th>\n",
       "      <th>orderType</th>\n",
       "      <th>city</th>\n",
       "      <th>country</th>\n",
       "      <th>continent</th>\n",
       "    </tr>\n",
       "  </thead>\n",
       "  <tbody>\n",
       "    <tr>\n",
       "      <th>0</th>\n",
       "      <td>100000000013</td>\n",
       "      <td>1000015</td>\n",
       "      <td>1481714516</td>\n",
       "      <td>0</td>\n",
       "      <td>柏林</td>\n",
       "      <td>德国</td>\n",
       "      <td>欧洲</td>\n",
       "    </tr>\n",
       "    <tr>\n",
       "      <th>1</th>\n",
       "      <td>100000000013</td>\n",
       "      <td>1000014</td>\n",
       "      <td>1501959643</td>\n",
       "      <td>0</td>\n",
       "      <td>旧金山</td>\n",
       "      <td>美国</td>\n",
       "      <td>北美洲</td>\n",
       "    </tr>\n",
       "    <tr>\n",
       "      <th>2</th>\n",
       "      <td>100000000393</td>\n",
       "      <td>1000033</td>\n",
       "      <td>1499440296</td>\n",
       "      <td>0</td>\n",
       "      <td>巴黎</td>\n",
       "      <td>法国</td>\n",
       "      <td>欧洲</td>\n",
       "    </tr>\n",
       "    <tr>\n",
       "      <th>3</th>\n",
       "      <td>100000000459</td>\n",
       "      <td>1000036</td>\n",
       "      <td>1480601668</td>\n",
       "      <td>0</td>\n",
       "      <td>纽约</td>\n",
       "      <td>美国</td>\n",
       "      <td>北美洲</td>\n",
       "    </tr>\n",
       "    <tr>\n",
       "      <th>4</th>\n",
       "      <td>100000000459</td>\n",
       "      <td>1000034</td>\n",
       "      <td>1479146723</td>\n",
       "      <td>0</td>\n",
       "      <td>巴厘岛</td>\n",
       "      <td>印度尼西亚</td>\n",
       "      <td>亚洲</td>\n",
       "    </tr>\n",
       "  </tbody>\n",
       "</table>\n",
       "</div>"
      ],
      "text/plain": [
       "         userid  orderid   orderTime  orderType city country continent\n",
       "0  100000000013  1000015  1481714516          0   柏林      德国        欧洲\n",
       "1  100000000013  1000014  1501959643          0  旧金山      美国       北美洲\n",
       "2  100000000393  1000033  1499440296          0   巴黎      法国        欧洲\n",
       "3  100000000459  1000036  1480601668          0   纽约      美国       北美洲\n",
       "4  100000000459  1000034  1479146723          0  巴厘岛   印度尼西亚        亚洲"
      ]
     },
     "execution_count": 4,
     "metadata": {},
     "output_type": "execute_result"
    }
   ],
   "source": [
    "df_train_order.head()\n",
    "\n"
   ]
  },
  {
   "cell_type": "code",
   "execution_count": 5,
   "metadata": {
    "collapsed": false
   },
   "outputs": [],
   "source": [
    "def diffInfo(x):\n",
    "    if len(x) == 0:\n",
    "        return x\n",
    "    \n",
    "    # 所有时间的最大值\n",
    "    cur = MAXORDERTIME\n",
    "    \n",
    "    x = list(x)\n",
    "    x.append(cur)\n",
    "#     print(x)\n",
    "    for i in range(len(x)-1):\n",
    "        x[i] = x[i+1] - x[i]\n",
    "    \n",
    "    return np.array(x[:-1])\n",
    "\n"
   ]
  },
  {
   "cell_type": "code",
   "execution_count": 6,
   "metadata": {
    "collapsed": false
   },
   "outputs": [],
   "source": [
    "# [last1OrderTime, last1OrderTimeDiff, hasOrder, orderTypeContain1, \n",
    "#  lastOrderCity, lastOrderCountry, lastOrderContinent]\n",
    "def getOrderTimeFeature(df_train_order):\n",
    "    '''得到order的特征\n",
    "    \n",
    "    '''\n",
    "    column = ['userid','last1OrderTime','last1OrderTimeDiff','OrderCnt','hasOrder','orderTypeContain1',\n",
    "              'lastOrderCity','lastOrderCountry','lastOrderContinent']\n",
    "\n",
    "    df_train_orderTime = pd.DataFrame(columns=column)\n",
    "\n",
    "    userlist = list(set(df_train_order['userid']))\n",
    "    k = 0\n",
    "    for user in userlist:\n",
    "        k+=1\n",
    "        if k%1000 == 0:\n",
    "            print(k)\n",
    "\n",
    "        df_order = df_train_order[df_train_order['userid'] == user]\n",
    "        df_order.sort_values('orderTime',inplace=True)\n",
    "\n",
    "        df_order['orderTimeDiff'] = diffInfo(df_order['orderTime'])\n",
    "\n",
    "        row = [user]\n",
    "\n",
    "        # last1OrderTime\n",
    "        if len(df_order) > 0:\n",
    "            row.append(df_order['orderTime'].values[-1])\n",
    "        else:\n",
    "            row.append(MINOREDETIME)\n",
    "\n",
    "        # last1OrderTimeDiff\n",
    "        if len(df_order) > 0:\n",
    "            row.append(df_order['orderTimeDiff'].values[-1])\n",
    "        else:\n",
    "            row.append(DIFFORDERTIME)\n",
    "        \n",
    "        # orderCnt\n",
    "        row.append(len(df_order))\n",
    "        \n",
    "        # hasOrder\n",
    "        row.append(len(df_order) > 0)\n",
    "\n",
    "        # orderTypeContain1\n",
    "        row.append(len(df_order[df_order['orderType']==1]) > 0)\n",
    "\n",
    "        # 'lastOrderCity','lastOrderCountry','lastOrderContinent'\n",
    "        if len(df_order) > 0:\n",
    "            row.extend(df_order.values[-1][-4:-1])\n",
    "        else:\n",
    "            row.extend([np.nan,np.nan,np.nan])\n",
    "\n",
    "        df_train_orderTime = df_train_orderTime.append(pd.DataFrame([row],columns=column),ignore_index=True)\n",
    "    \n",
    "    return df_train_orderTime\n"
   ]
  },
  {
   "cell_type": "code",
   "execution_count": 7,
   "metadata": {
    "collapsed": false
   },
   "outputs": [
    {
     "name": "stderr",
     "output_type": "stream",
     "text": [
      "/home/xiaoran/Tools/anaconda3/lib/python3.5/site-packages/ipykernel/__main__.py:20: SettingWithCopyWarning: \n",
      "A value is trying to be set on a copy of a slice from a DataFrame\n",
      "\n",
      "See the caveats in the documentation: http://pandas.pydata.org/pandas-docs/stable/indexing.html#indexing-view-versus-copy\n",
      "/home/xiaoran/Tools/anaconda3/lib/python3.5/site-packages/ipykernel/__main__.py:22: SettingWithCopyWarning: \n",
      "A value is trying to be set on a copy of a slice from a DataFrame.\n",
      "Try using .loc[row_indexer,col_indexer] = value instead\n",
      "\n",
      "See the caveats in the documentation: http://pandas.pydata.org/pandas-docs/stable/indexing.html#indexing-view-versus-copy\n"
     ]
    },
    {
     "name": "stdout",
     "output_type": "stream",
     "text": [
      "1000\n",
      "2000\n",
      "3000\n",
      "4000\n",
      "5000\n",
      "6000\n",
      "7000\n",
      "8000\n",
      "9000\n",
      "10000\n",
      "1000\n",
      "2000\n"
     ]
    }
   ],
   "source": [
    "df_train_orderTime = getOrderTimeFeature(df_train_order)\n",
    "df_test_orderTime = getOrderTimeFeature(df_test_order)\n"
   ]
  },
  {
   "cell_type": "code",
   "execution_count": 8,
   "metadata": {
    "collapsed": false
   },
   "outputs": [
    {
     "name": "stdout",
     "output_type": "stream",
     "text": [
      "<class 'pandas.core.frame.DataFrame'>\n",
      "RangeIndex: 10637 entries, 0 to 10636\n",
      "Data columns (total 9 columns):\n",
      "userid                10637 non-null object\n",
      "last1OrderTime        10637 non-null object\n",
      "last1OrderTimeDiff    10637 non-null object\n",
      "OrderCnt              10637 non-null object\n",
      "hasOrder              10637 non-null object\n",
      "orderTypeContain1     10637 non-null object\n",
      "lastOrderCity         10637 non-null object\n",
      "lastOrderCountry      10637 non-null object\n",
      "lastOrderContinent    10637 non-null object\n",
      "dtypes: object(9)\n",
      "memory usage: 748.0+ KB\n",
      "<class 'pandas.core.frame.DataFrame'>\n",
      "RangeIndex: 2686 entries, 0 to 2685\n",
      "Data columns (total 9 columns):\n",
      "userid                2686 non-null object\n",
      "last1OrderTime        2686 non-null object\n",
      "last1OrderTimeDiff    2686 non-null object\n",
      "OrderCnt              2686 non-null object\n",
      "hasOrder              2686 non-null object\n",
      "orderTypeContain1     2686 non-null object\n",
      "lastOrderCity         2686 non-null object\n",
      "lastOrderCountry      2686 non-null object\n",
      "lastOrderContinent    2686 non-null object\n",
      "dtypes: object(9)\n",
      "memory usage: 188.9+ KB\n"
     ]
    }
   ],
   "source": [
    "df_train_orderTime.info()\n",
    "df_test_orderTime.info()\n"
   ]
  },
  {
   "cell_type": "code",
   "execution_count": 9,
   "metadata": {
    "collapsed": true
   },
   "outputs": [],
   "source": [
    "df_train_data = pd.merge(df_train_data,df_train_orderTime,how='left',on='userid')\n",
    "df_test_data = pd.merge(df_test_data,df_test_orderTime,how='left',on='userid')\n",
    "\n"
   ]
  },
  {
   "cell_type": "code",
   "execution_count": 15,
   "metadata": {
    "collapsed": false
   },
   "outputs": [
    {
     "name": "stdout",
     "output_type": "stream",
     "text": [
      "<class 'pandas.core.frame.DataFrame'>\n",
      "Int64Index: 40307 entries, 0 to 40306\n",
      "Data columns (total 9 columns):\n",
      "userid                40307 non-null object\n",
      "last1OrderTime        40307 non-null int64\n",
      "last1OrderTimeDiff    40307 non-null int64\n",
      "OrderCnt              40307 non-null int64\n",
      "hasOrder              40307 non-null bool\n",
      "orderTypeContain1     40307 non-null bool\n",
      "lastOrderCity         40307 non-null int16\n",
      "lastOrderCountry      40307 non-null int8\n",
      "lastOrderContinent    40307 non-null int8\n",
      "dtypes: bool(2), int16(1), int64(3), int8(2), object(1)\n",
      "memory usage: 1.8+ MB\n",
      "<class 'pandas.core.frame.DataFrame'>\n",
      "Int64Index: 10076 entries, 0 to 10075\n",
      "Data columns (total 9 columns):\n",
      "userid                10076 non-null object\n",
      "last1OrderTime        10076 non-null int64\n",
      "last1OrderTimeDiff    10076 non-null int64\n",
      "OrderCnt              10076 non-null int64\n",
      "hasOrder              10076 non-null bool\n",
      "orderTypeContain1     10076 non-null bool\n",
      "lastOrderCity         10076 non-null int16\n",
      "lastOrderCountry      10076 non-null int8\n",
      "lastOrderContinent    10076 non-null int8\n",
      "dtypes: bool(2), int16(1), int64(3), int8(2), object(1)\n",
      "memory usage: 452.6+ KB\n"
     ]
    }
   ],
   "source": [
    "df_train_data.info()\n",
    "df_test_data.info()"
   ]
  },
  {
   "cell_type": "code",
   "execution_count": null,
   "metadata": {
    "collapsed": false,
    "scrolled": true
   },
   "outputs": [],
   "source": []
  },
  {
   "cell_type": "code",
   "execution_count": null,
   "metadata": {
    "collapsed": true
   },
   "outputs": [],
   "source": []
  },
  {
   "cell_type": "code",
   "execution_count": 11,
   "metadata": {
    "collapsed": true
   },
   "outputs": [],
   "source": [
    "## 填充空值\n",
    "df_train_data['last1OrderTime'].fillna(df_train_data['last1OrderTime'].min(),inplace=True)\n",
    "df_train_data['last1OrderTimeDiff'].fillna(DIFFORDERTIME,inplace=True)\n",
    "\n",
    "df_train_data['OrderCnt'].fillna(0,inplace=True)\n",
    "\n",
    "\n",
    "df_train_data['hasOrder'].fillna(False,inplace=True)\n",
    "df_train_data['orderTypeContain1'].fillna(False,inplace=True)\n",
    "\n",
    "df_train_data['lastOrderCity'] = pd.Categorical(df_train_data['lastOrderCity']).codes\n",
    "df_train_data['lastOrderCountry'] = pd.Categorical(df_train_data['lastOrderCountry']).codes\n",
    "df_train_data['lastOrderContinent'] = pd.Categorical(df_train_data['lastOrderContinent']).codes\n"
   ]
  },
  {
   "cell_type": "code",
   "execution_count": 12,
   "metadata": {
    "collapsed": true
   },
   "outputs": [],
   "source": [
    "## 填充空值\n",
    "df_test_data['last1OrderTime'].fillna(df_test_data['last1OrderTime'].min(),inplace=True)\n",
    "df_test_data['last1OrderTimeDiff'].fillna(DIFFORDERTIME,inplace=True)\n",
    "\n",
    "df_test_data['OrderCnt'].fillna(0,inplace=True)\n",
    "\n",
    "\n",
    "df_test_data['hasOrder'].fillna(False,inplace=True)\n",
    "df_test_data['orderTypeContain1'].fillna(False,inplace=True)\n",
    "\n",
    "df_test_data['lastOrderCity'] = pd.Categorical(df_test_data['lastOrderCity']).codes\n",
    "df_test_data['lastOrderCountry'] = pd.Categorical(df_test_data['lastOrderCountry']).codes\n",
    "df_test_data['lastOrderContinent'] = pd.Categorical(df_test_data['lastOrderContinent']).codes\n"
   ]
  },
  {
   "cell_type": "code",
   "execution_count": 13,
   "metadata": {
    "collapsed": false,
    "scrolled": true
   },
   "outputs": [
    {
     "data": {
      "text/plain": [
       "False    38562\n",
       "True      1745\n",
       "Name: orderTypeContain1, dtype: int64"
      ]
     },
     "execution_count": 13,
     "metadata": {},
     "output_type": "execute_result"
    }
   ],
   "source": [
    "df_train_data['orderTypeContain1'].value_counts()"
   ]
  },
  {
   "cell_type": "code",
   "execution_count": 14,
   "metadata": {
    "collapsed": true
   },
   "outputs": [],
   "source": [
    "df_train_data.drop('orderType',axis=1,inplace=True)\n",
    "df_train_data.to_csv('../data/dataSet/df_train_5.csv',index=False,index_label=False)\n",
    "df_test_data.to_csv('../data/dataSet/df_test_5.csv',index=False,index_label=False)\n"
   ]
  },
  {
   "cell_type": "code",
   "execution_count": null,
   "metadata": {
    "collapsed": true
   },
   "outputs": [],
   "source": []
  }
 ],
 "metadata": {
  "anaconda-cloud": {},
  "kernelspec": {
   "display_name": "Python [conda root]",
   "language": "python",
   "name": "conda-root-py"
  },
  "language_info": {
   "codemirror_mode": {
    "name": "ipython",
    "version": 3
   },
   "file_extension": ".py",
   "mimetype": "text/x-python",
   "name": "python",
   "nbconvert_exporter": "python",
   "pygments_lexer": "ipython3",
   "version": "3.5.2"
  }
 },
 "nbformat": 4,
 "nbformat_minor": 1
}
