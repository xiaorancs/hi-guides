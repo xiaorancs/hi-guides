{
 "cells": [
  {
   "cell_type": "code",
   "execution_count": 11,
   "metadata": {
    "collapsed": true
   },
   "outputs": [],
   "source": [
    "import pandas as pd\n",
    "import numpy as np\n",
    "import scipy as sp\n"
   ]
  },
  {
   "cell_type": "markdown",
   "metadata": {},
   "source": [
    "#### 时间有关的特征，actionTime\n",
    "> 最近10次操作的时间，没有的用所有的最远时间进行填充\n",
    "    [last1ActionTime,last2ActionTime,last3ActionTime,last4ActionTime,last5ActionTime,]\n",
    "\n"
   ]
  },
  {
   "cell_type": "code",
   "execution_count": 12,
   "metadata": {
    "collapsed": true
   },
   "outputs": [],
   "source": [
    "MINTIME = 1471119058"
   ]
  },
  {
   "cell_type": "code",
   "execution_count": 13,
   "metadata": {
    "collapsed": true
   },
   "outputs": [],
   "source": [
    "df_train_data = pd.read_csv('../data/train/orderFuture_train.csv')\n",
    "df_test_data = pd.read_csv('../data/test/orderFuture_test.csv')\n",
    "\n",
    "# 首先选择action信息\n",
    "df_train_action = pd.read_csv('../data/train/action_train.csv')\n",
    "df_test_action = pd.read_csv('../data/test/action_test.csv')\n",
    "\n"
   ]
  },
  {
   "cell_type": "code",
   "execution_count": null,
   "metadata": {
    "collapsed": false
   },
   "outputs": [],
   "source": []
  },
  {
   "cell_type": "code",
   "execution_count": 15,
   "metadata": {
    "collapsed": false,
    "scrolled": true
   },
   "outputs": [
    {
     "name": "stdout",
     "output_type": "stream",
     "text": [
      "1000\n",
      "2000\n",
      "3000\n",
      "4000\n",
      "5000\n",
      "6000\n",
      "7000\n",
      "8000\n",
      "9000\n",
      "10000\n",
      "11000\n",
      "12000\n",
      "13000\n",
      "14000\n",
      "15000\n",
      "16000\n",
      "17000\n",
      "18000\n",
      "19000\n",
      "20000\n",
      "21000\n",
      "22000\n",
      "23000\n",
      "24000\n",
      "25000\n",
      "26000\n",
      "27000\n",
      "28000\n",
      "29000\n",
      "30000\n",
      "31000\n",
      "32000\n",
      "33000\n",
      "34000\n",
      "35000\n",
      "36000\n",
      "37000\n",
      "38000\n",
      "39000\n",
      "40000\n"
     ]
    }
   ],
   "source": [
    "# 时间间隔特征，[avg,std,var,skew,kurt,min,max, last1, last2,last3,last4,last5]\n",
    "column = ['userid','last1ActionTime','last2ActionTime','last3ActionTime',\n",
    "          'last4ActionTime','last5ActionTime','last6ActionTime','last7ActionTime',\n",
    "          'last8ActionTime','last9ActionTime','last10ActionTime']\n",
    "\n",
    "df_train_time = pd.DataFrame(columns=column)\n",
    "\n",
    "userlist = list(set(df_train_action['userid']))\n",
    "\n",
    "k = 0\n",
    "for user in userlist:\n",
    "    k+=1\n",
    "    if k%1000 == 0:\n",
    "        print(k)\n",
    "\n",
    "    df_users_t = df_train_action[df_train_action['userid'] == user]\n",
    "    df_users_t = df_users_t.sort_values('actionTime')\n",
    "        \n",
    "    row = [user]\n",
    "    \n",
    "    tmp_time = []\n",
    "    tmp_time.extend(df_users_t['actionTime'].values[-10:])\n",
    "    tmp_time.reverse()\n",
    "    \n",
    "    if len(tmp_time) < 10:\n",
    "        tmp_time.extend([MINTIME for i in range(10-len(tmp_time))])\n",
    "    \n",
    "    row.extend(tmp_time)\n",
    "\n",
    "    df_train_time = df_train_time.append(pd.DataFrame([row],columns=column),ignore_index=True)\n",
    "    \n"
   ]
  },
  {
   "cell_type": "code",
   "execution_count": 16,
   "metadata": {
    "collapsed": false
   },
   "outputs": [
    {
     "name": "stdout",
     "output_type": "stream",
     "text": [
      "<class 'pandas.core.frame.DataFrame'>\n",
      "RangeIndex: 40307 entries, 0 to 40306\n",
      "Data columns (total 11 columns):\n",
      "userid              40307 non-null object\n",
      "last1ActionTime     40307 non-null object\n",
      "last2ActionTime     40307 non-null object\n",
      "last3ActionTime     40307 non-null object\n",
      "last4ActionTime     40307 non-null object\n",
      "last5ActionTime     40307 non-null object\n",
      "last6ActionTime     40307 non-null object\n",
      "last7ActionTime     40307 non-null object\n",
      "last8ActionTime     40307 non-null object\n",
      "last9ActionTime     40307 non-null object\n",
      "last10ActionTime    40307 non-null object\n",
      "dtypes: object(11)\n",
      "memory usage: 3.4+ MB\n"
     ]
    }
   ],
   "source": [
    "df_train_time.info()"
   ]
  },
  {
   "cell_type": "code",
   "execution_count": 17,
   "metadata": {
    "collapsed": false
   },
   "outputs": [
    {
     "name": "stdout",
     "output_type": "stream",
     "text": [
      "1000\n",
      "2000\n",
      "3000\n",
      "4000\n",
      "5000\n",
      "6000\n",
      "7000\n",
      "8000\n",
      "9000\n",
      "10000\n"
     ]
    }
   ],
   "source": [
    "# 时间间隔特征，[avg,std,var,skew,kurt,min,max, last1, last2,last3,last4,last5]\n",
    "column = ['userid','last1ActionTime','last2ActionTime','last3ActionTime',\n",
    "          'last4ActionTime','last5ActionTime','last6ActionTime','last7ActionTime',\n",
    "          'last8ActionTime','last9ActionTime','last10ActionTime']\n",
    "\n",
    "df_test_time = pd.DataFrame(columns=column)\n",
    "\n",
    "userlist = list(set(df_test_action['userid']))\n",
    "\n",
    "k = 0\n",
    "for user in userlist:\n",
    "    k+=1\n",
    "    if k%1000 == 0:\n",
    "        print(k)\n",
    "\n",
    "    df_users_t = df_test_action[df_test_action['userid'] == user]\n",
    "    df_users_t = df_users_t.sort_values('actionTime')\n",
    "        \n",
    "    row = [user]\n",
    "    \n",
    "    tmp_time = []\n",
    "    tmp_time.extend(df_users_t['actionTime'].values[-10:])\n",
    "    tmp_time.reverse()\n",
    "    \n",
    "    if len(tmp_time) < 10:\n",
    "        tmp_time.extend([MINTIME for i in range(10-len(tmp_time))])\n",
    "    \n",
    "    row.extend(tmp_time)\n",
    "\n",
    "    df_test_time = df_test_time.append(pd.DataFrame([row],columns=column),ignore_index=True)\n",
    "    \n"
   ]
  },
  {
   "cell_type": "code",
   "execution_count": 18,
   "metadata": {
    "collapsed": false
   },
   "outputs": [
    {
     "name": "stdout",
     "output_type": "stream",
     "text": [
      "<class 'pandas.core.frame.DataFrame'>\n",
      "RangeIndex: 40307 entries, 0 to 40306\n",
      "Data columns (total 11 columns):\n",
      "userid              40307 non-null object\n",
      "last1ActionTime     40307 non-null object\n",
      "last2ActionTime     40307 non-null object\n",
      "last3ActionTime     40307 non-null object\n",
      "last4ActionTime     40307 non-null object\n",
      "last5ActionTime     40307 non-null object\n",
      "last6ActionTime     40307 non-null object\n",
      "last7ActionTime     40307 non-null object\n",
      "last8ActionTime     40307 non-null object\n",
      "last9ActionTime     40307 non-null object\n",
      "last10ActionTime    40307 non-null object\n",
      "dtypes: object(11)\n",
      "memory usage: 3.4+ MB\n",
      "<class 'pandas.core.frame.DataFrame'>\n",
      "RangeIndex: 10076 entries, 0 to 10075\n",
      "Data columns (total 11 columns):\n",
      "userid              10076 non-null object\n",
      "last1ActionTime     10076 non-null object\n",
      "last2ActionTime     10076 non-null object\n",
      "last3ActionTime     10076 non-null object\n",
      "last4ActionTime     10076 non-null object\n",
      "last5ActionTime     10076 non-null object\n",
      "last6ActionTime     10076 non-null object\n",
      "last7ActionTime     10076 non-null object\n",
      "last8ActionTime     10076 non-null object\n",
      "last9ActionTime     10076 non-null object\n",
      "last10ActionTime    10076 non-null object\n",
      "dtypes: object(11)\n",
      "memory usage: 866.0+ KB\n"
     ]
    }
   ],
   "source": [
    "df_train_time.info()\n",
    "df_test_time.info()"
   ]
  },
  {
   "cell_type": "code",
   "execution_count": 19,
   "metadata": {
    "collapsed": true
   },
   "outputs": [],
   "source": [
    "df_train_data = pd.merge(df_train_data,df_train_time, how='left',on='userid')\n",
    "\n",
    "df_test_data = pd.merge(df_test_data,df_test_time, how='left',on='userid')\n"
   ]
  },
  {
   "cell_type": "code",
   "execution_count": 20,
   "metadata": {
    "collapsed": false,
    "scrolled": true
   },
   "outputs": [
    {
     "name": "stdout",
     "output_type": "stream",
     "text": [
      "<class 'pandas.core.frame.DataFrame'>\n",
      "Int64Index: 40307 entries, 0 to 40306\n",
      "Data columns (total 12 columns):\n",
      "userid              40307 non-null object\n",
      "orderType           40307 non-null int64\n",
      "last1ActionTime     40307 non-null object\n",
      "last2ActionTime     40307 non-null object\n",
      "last3ActionTime     40307 non-null object\n",
      "last4ActionTime     40307 non-null object\n",
      "last5ActionTime     40307 non-null object\n",
      "last6ActionTime     40307 non-null object\n",
      "last7ActionTime     40307 non-null object\n",
      "last8ActionTime     40307 non-null object\n",
      "last9ActionTime     40307 non-null object\n",
      "last10ActionTime    40307 non-null object\n",
      "dtypes: int64(1), object(11)\n",
      "memory usage: 4.0+ MB\n",
      "<class 'pandas.core.frame.DataFrame'>\n",
      "Int64Index: 10076 entries, 0 to 10075\n",
      "Data columns (total 11 columns):\n",
      "userid              10076 non-null object\n",
      "last1ActionTime     10076 non-null object\n",
      "last2ActionTime     10076 non-null object\n",
      "last3ActionTime     10076 non-null object\n",
      "last4ActionTime     10076 non-null object\n",
      "last5ActionTime     10076 non-null object\n",
      "last6ActionTime     10076 non-null object\n",
      "last7ActionTime     10076 non-null object\n",
      "last8ActionTime     10076 non-null object\n",
      "last9ActionTime     10076 non-null object\n",
      "last10ActionTime    10076 non-null object\n",
      "dtypes: object(11)\n",
      "memory usage: 944.6+ KB\n"
     ]
    }
   ],
   "source": [
    "df_train_data.info()\n",
    "df_test_data.info()\n"
   ]
  },
  {
   "cell_type": "code",
   "execution_count": 21,
   "metadata": {
    "collapsed": true
   },
   "outputs": [],
   "source": [
    "df_train_data.drop('orderType',axis=1,inplace=True)\n",
    "df_train_data.to_csv('../data/dataSet/df_train_2.csv',index=False,index_label=False)\n",
    "df_test_data.to_csv('../data/dataSet/df_test_2.csv',index=False,index_label=False)\n",
    "\n"
   ]
  },
  {
   "cell_type": "code",
   "execution_count": null,
   "metadata": {
    "collapsed": true
   },
   "outputs": [],
   "source": []
  }
 ],
 "metadata": {
  "kernelspec": {
   "display_name": "Python [conda root]",
   "language": "python",
   "name": "conda-root-py"
  },
  "language_info": {
   "codemirror_mode": {
    "name": "ipython",
    "version": 3
   },
   "file_extension": ".py",
   "mimetype": "text/x-python",
   "name": "python",
   "nbconvert_exporter": "python",
   "pygments_lexer": "ipython3",
   "version": "3.5.2"
  }
 },
 "nbformat": 4,
 "nbformat_minor": 1
}
