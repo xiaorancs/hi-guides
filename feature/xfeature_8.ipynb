{
 "cells": [
  {
   "cell_type": "code",
   "execution_count": 1,
   "metadata": {
    "collapsed": true
   },
   "outputs": [],
   "source": [
    "import numpy as np\n",
    "import pandas as pd\n",
    "import scipy as sp"
   ]
  },
  {
   "cell_type": "code",
   "execution_count": 2,
   "metadata": {
    "collapsed": true
   },
   "outputs": [],
   "source": [
    "# ## 新的特征第二轮提取,尽量不和第一组重复,主要面向的最近一短时间的特诊,\n",
    "# 1. 最近一天的[1,2,3,4,5,6,7,8,9]的次数.(时间基准,最后一次访问时间前一天[1h,3h,6h,12h,1,3,5,7,10,15]的访问次数,)\n",
    "\n",
    "# 4. 统计所有的评价词语,将词分为正负情感两类,进行表示.\n"
   ]
  },
  {
   "cell_type": "code",
   "execution_count": 3,
   "metadata": {
    "collapsed": true
   },
   "outputs": [],
   "source": [
    "df_train_data = pd.read_csv('../data/train/orderFuture_train.csv')\n",
    "df_test_data = pd.read_csv('../data/test/orderFuture_test.csv')\n",
    "\n",
    "df_train_action = pd.read_csv('../data/train/action_train.csv')\n",
    "df_test_action = pd.read_csv('../data/test/action_test.csv')\n"
   ]
  },
  {
   "cell_type": "code",
   "execution_count": 4,
   "metadata": {
    "collapsed": true
   },
   "outputs": [],
   "source": [
    "# 列名\n",
    "column = ['userid']\n",
    "for i in [0.042,0.125,0.25,0.5,1,3,5,7,15]:    \n",
    "    # 计算[1-9]的各自的个数,\n",
    "    for k in [1,2,3,4,5,6,7,8,9]:\n",
    "        column.append('actionTimeLast'+str(i)+'Days'+str(k)+'Cnt')\n",
    "    \n",
    "    # [2-4]\n",
    "    column.append('actionTimeLast'+str(i)+'Days24Cnt')\n",
    "    \n",
    "    # [5-9]\n",
    "    column.append('actionTimeLast'+str(i)+'Days59Cnt')\n",
    "\n",
    "    # [1-9]总数\n",
    "    column.append('actionTimeLast'+str(i)+'Days19Cnt')\n"
   ]
  },
  {
   "cell_type": "code",
   "execution_count": 5,
   "metadata": {
    "collapsed": false
   },
   "outputs": [
    {
     "data": {
      "text/plain": [
       "109"
      ]
     },
     "execution_count": 5,
     "metadata": {},
     "output_type": "execute_result"
    }
   ],
   "source": [
    "len(column)"
   ]
  },
  {
   "cell_type": "code",
   "execution_count": 6,
   "metadata": {
    "collapsed": false
   },
   "outputs": [
    {
     "name": "stdout",
     "output_type": "stream",
     "text": [
      "3000\n",
      "6000\n",
      "9000\n",
      "12000\n",
      "15000\n",
      "18000\n",
      "21000\n",
      "24000\n",
      "27000\n",
      "30000\n",
      "33000\n",
      "36000\n",
      "39000\n"
     ]
    }
   ],
   "source": [
    "userlist = list(set(df_train_action['userid']))\n",
    "\n",
    "df_train_actionCnt = pd.DataFrame(columns=column)\n",
    "cnt = 0\n",
    "for user in userlist:\n",
    "    cnt+=1\n",
    "    if cnt % 3000 == 0:\n",
    "        print(cnt)\n",
    "    row = [user]\n",
    "    t = df_train_action[df_train_action['userid'] == user]\n",
    "    t = t.sort_values('actionTime')\n",
    "    \n",
    "    # 计算时间的前[1,3,5,7,15,* (60*60*24 = 86400 )]\n",
    "    cur_time = t['actionTime'].values[-1]\n",
    "\n",
    "    for i in [0.042,0.125,0.25,0.5,1,3,5,7,15]:    \n",
    "        tmp = t[t['actionTime'] > cur_time - i * 86400]\n",
    "        \n",
    "        # 计算[1-9]的各自的个数,\n",
    "        for k in [1,2,3,4,5,6,7,8,9]:\n",
    "            row.append((tmp['actionType'] == k).sum())\n",
    "        \n",
    "        # [2-4]\n",
    "        row.append(sum(row[2:5]))\n",
    "        \n",
    "        # [5-9]\n",
    "        row.append(sum(row[5:10]))\n",
    "\n",
    "        # [1-9]统计值\n",
    "        row.append(int(len(tmp)))\n",
    "            \n",
    "    df_train_actionCnt = df_train_actionCnt.append(pd.DataFrame([row],columns=column),ignore_index=True)\n",
    "\n",
    "df_train_data = pd.merge(df_train_data,df_train_actionCnt,how='left',on='userid')\n"
   ]
  },
  {
   "cell_type": "code",
   "execution_count": 7,
   "metadata": {
    "collapsed": false
   },
   "outputs": [
    {
     "name": "stdout",
     "output_type": "stream",
     "text": [
      "3000\n",
      "6000\n",
      "9000\n"
     ]
    }
   ],
   "source": [
    "userlist = list(set(df_test_action['userid']))\n",
    "\n",
    "df_test_actionCnt = pd.DataFrame(columns=column)\n",
    "cnt = 0\n",
    "for user in userlist:\n",
    "    cnt+=1\n",
    "    if cnt % 3000 == 0:\n",
    "        print(cnt)\n",
    "    row = [user]\n",
    "    t = df_test_action[df_test_action['userid'] == user]\n",
    "    t = t.sort_values('actionTime')\n",
    "    \n",
    "    # 计算时间的前[1,3,5,7,15,* (60*60*24 = 86400 )]\n",
    "    cur_time = t['actionTime'].values[-1]\n",
    "\n",
    "    for i in [0.042,0.125,0.25,0.5,1,3,5,7,15]:    \n",
    "        tmp = t[t['actionTime'] > cur_time - i * 86400]\n",
    "        \n",
    "        # 计算[1-9]的各自的个数,\n",
    "        for k in [1,2,3,4,5,6,7,8,9]:\n",
    "            row.append((tmp['actionType'] == k).sum())\n",
    "        \n",
    "        # [2-4]\n",
    "        row.append(sum(row[2:5]))\n",
    "        \n",
    "        # [5-9]\n",
    "        row.append(sum(row[5:10]))\n",
    "\n",
    "        # [1-9]统计值\n",
    "        row.append(int(len(tmp)))\n",
    "            \n",
    "    df_test_actionCnt = df_test_actionCnt.append(pd.DataFrame([row],columns=column),ignore_index=True)\n",
    "\n",
    "df_test_data = pd.merge(df_test_data,df_test_actionCnt,how='left',on='userid')\n"
   ]
  },
  {
   "cell_type": "code",
   "execution_count": 11,
   "metadata": {
    "collapsed": true
   },
   "outputs": [
    {
     "name": "stdout",
     "output_type": "stream",
     "text": [
      "<class 'pandas.core.frame.DataFrame'>\n",
      "Int64Index: 40307 entries, 0 to 40306\n",
      "Data columns (total 55 columns):\n",
      "actionTimeLast1Days6Cnt      40307 non-null object\n",
      "actionTimeLast1Days7Cnt      40307 non-null object\n",
      "actionTimeLast1Days8Cnt      40307 non-null object\n",
      "actionTimeLast1Days9Cnt      40307 non-null object\n",
      "actionTimeLast1Days24Cnt     40307 non-null object\n",
      "actionTimeLast1Days59Cnt     40307 non-null object\n",
      "actionTimeLast1Days19Cnt     40307 non-null object\n",
      "actionTimeLast3Days1Cnt      40307 non-null object\n",
      "actionTimeLast3Days2Cnt      40307 non-null object\n",
      "actionTimeLast3Days3Cnt      40307 non-null object\n",
      "actionTimeLast3Days4Cnt      40307 non-null object\n",
      "actionTimeLast3Days5Cnt      40307 non-null object\n",
      "actionTimeLast3Days6Cnt      40307 non-null object\n",
      "actionTimeLast3Days7Cnt      40307 non-null object\n",
      "actionTimeLast3Days8Cnt      40307 non-null object\n",
      "actionTimeLast3Days9Cnt      40307 non-null object\n",
      "actionTimeLast3Days24Cnt     40307 non-null object\n",
      "actionTimeLast3Days59Cnt     40307 non-null object\n",
      "actionTimeLast3Days19Cnt     40307 non-null object\n",
      "actionTimeLast5Days1Cnt      40307 non-null object\n",
      "actionTimeLast5Days2Cnt      40307 non-null object\n",
      "actionTimeLast5Days3Cnt      40307 non-null object\n",
      "actionTimeLast5Days4Cnt      40307 non-null object\n",
      "actionTimeLast5Days5Cnt      40307 non-null object\n",
      "actionTimeLast5Days6Cnt      40307 non-null object\n",
      "actionTimeLast5Days7Cnt      40307 non-null object\n",
      "actionTimeLast5Days8Cnt      40307 non-null object\n",
      "actionTimeLast5Days9Cnt      40307 non-null object\n",
      "actionTimeLast5Days24Cnt     40307 non-null object\n",
      "actionTimeLast5Days59Cnt     40307 non-null object\n",
      "actionTimeLast5Days19Cnt     40307 non-null object\n",
      "actionTimeLast7Days1Cnt      40307 non-null object\n",
      "actionTimeLast7Days2Cnt      40307 non-null object\n",
      "actionTimeLast7Days3Cnt      40307 non-null object\n",
      "actionTimeLast7Days4Cnt      40307 non-null object\n",
      "actionTimeLast7Days5Cnt      40307 non-null object\n",
      "actionTimeLast7Days6Cnt      40307 non-null object\n",
      "actionTimeLast7Days7Cnt      40307 non-null object\n",
      "actionTimeLast7Days8Cnt      40307 non-null object\n",
      "actionTimeLast7Days9Cnt      40307 non-null object\n",
      "actionTimeLast7Days24Cnt     40307 non-null object\n",
      "actionTimeLast7Days59Cnt     40307 non-null object\n",
      "actionTimeLast7Days19Cnt     40307 non-null object\n",
      "actionTimeLast15Days1Cnt     40307 non-null object\n",
      "actionTimeLast15Days2Cnt     40307 non-null object\n",
      "actionTimeLast15Days3Cnt     40307 non-null object\n",
      "actionTimeLast15Days4Cnt     40307 non-null object\n",
      "actionTimeLast15Days5Cnt     40307 non-null object\n",
      "actionTimeLast15Days6Cnt     40307 non-null object\n",
      "actionTimeLast15Days7Cnt     40307 non-null object\n",
      "actionTimeLast15Days8Cnt     40307 non-null object\n",
      "actionTimeLast15Days9Cnt     40307 non-null object\n",
      "actionTimeLast15Days24Cnt    40307 non-null object\n",
      "actionTimeLast15Days59Cnt    40307 non-null object\n",
      "actionTimeLast15Days19Cnt    40307 non-null object\n",
      "dtypes: object(55)\n",
      "memory usage: 18.5+ MB\n",
      "<class 'pandas.core.frame.DataFrame'>\n",
      "Int64Index: 10076 entries, 0 to 10075\n",
      "Data columns (total 54 columns):\n",
      "actionTimeLast1Days7Cnt      10076 non-null object\n",
      "actionTimeLast1Days8Cnt      10076 non-null object\n",
      "actionTimeLast1Days9Cnt      10076 non-null object\n",
      "actionTimeLast1Days24Cnt     10076 non-null object\n",
      "actionTimeLast1Days59Cnt     10076 non-null object\n",
      "actionTimeLast1Days19Cnt     10076 non-null object\n",
      "actionTimeLast3Days1Cnt      10076 non-null object\n",
      "actionTimeLast3Days2Cnt      10076 non-null object\n",
      "actionTimeLast3Days3Cnt      10076 non-null object\n",
      "actionTimeLast3Days4Cnt      10076 non-null object\n",
      "actionTimeLast3Days5Cnt      10076 non-null object\n",
      "actionTimeLast3Days6Cnt      10076 non-null object\n",
      "actionTimeLast3Days7Cnt      10076 non-null object\n",
      "actionTimeLast3Days8Cnt      10076 non-null object\n",
      "actionTimeLast3Days9Cnt      10076 non-null object\n",
      "actionTimeLast3Days24Cnt     10076 non-null object\n",
      "actionTimeLast3Days59Cnt     10076 non-null object\n",
      "actionTimeLast3Days19Cnt     10076 non-null object\n",
      "actionTimeLast5Days1Cnt      10076 non-null object\n",
      "actionTimeLast5Days2Cnt      10076 non-null object\n",
      "actionTimeLast5Days3Cnt      10076 non-null object\n",
      "actionTimeLast5Days4Cnt      10076 non-null object\n",
      "actionTimeLast5Days5Cnt      10076 non-null object\n",
      "actionTimeLast5Days6Cnt      10076 non-null object\n",
      "actionTimeLast5Days7Cnt      10076 non-null object\n",
      "actionTimeLast5Days8Cnt      10076 non-null object\n",
      "actionTimeLast5Days9Cnt      10076 non-null object\n",
      "actionTimeLast5Days24Cnt     10076 non-null object\n",
      "actionTimeLast5Days59Cnt     10076 non-null object\n",
      "actionTimeLast5Days19Cnt     10076 non-null object\n",
      "actionTimeLast7Days1Cnt      10076 non-null object\n",
      "actionTimeLast7Days2Cnt      10076 non-null object\n",
      "actionTimeLast7Days3Cnt      10076 non-null object\n",
      "actionTimeLast7Days4Cnt      10076 non-null object\n",
      "actionTimeLast7Days5Cnt      10076 non-null object\n",
      "actionTimeLast7Days6Cnt      10076 non-null object\n",
      "actionTimeLast7Days7Cnt      10076 non-null object\n",
      "actionTimeLast7Days8Cnt      10076 non-null object\n",
      "actionTimeLast7Days9Cnt      10076 non-null object\n",
      "actionTimeLast7Days24Cnt     10076 non-null object\n",
      "actionTimeLast7Days59Cnt     10076 non-null object\n",
      "actionTimeLast7Days19Cnt     10076 non-null object\n",
      "actionTimeLast15Days1Cnt     10076 non-null object\n",
      "actionTimeLast15Days2Cnt     10076 non-null object\n",
      "actionTimeLast15Days3Cnt     10076 non-null object\n",
      "actionTimeLast15Days4Cnt     10076 non-null object\n",
      "actionTimeLast15Days5Cnt     10076 non-null object\n",
      "actionTimeLast15Days6Cnt     10076 non-null object\n",
      "actionTimeLast15Days7Cnt     10076 non-null object\n",
      "actionTimeLast15Days8Cnt     10076 non-null object\n",
      "actionTimeLast15Days9Cnt     10076 non-null object\n",
      "actionTimeLast15Days24Cnt    10076 non-null object\n",
      "actionTimeLast15Days59Cnt    10076 non-null object\n",
      "actionTimeLast15Days19Cnt    10076 non-null object\n",
      "dtypes: object(54)\n",
      "memory usage: 4.2+ MB\n"
     ]
    }
   ],
   "source": [
    "df_train_data.info()\n",
    "df_test_data.info()"
   ]
  },
  {
   "cell_type": "code",
   "execution_count": 12,
   "metadata": {
    "collapsed": true
   },
   "outputs": [],
   "source": [
    "df_train_data.drop('orderType',axis=1,inplace=True)\n",
    "df_train_data.to_csv('../data/dataSet/df_train_8.csv',index=False,index_label=False)\n",
    "df_test_data.to_csv('../data/dataSet/df_test_8.csv',index=False,index_label=False)\n"
   ]
  },
  {
   "cell_type": "code",
   "execution_count": null,
   "metadata": {
    "collapsed": true
   },
   "outputs": [],
   "source": []
  }
 ],
 "metadata": {
  "kernelspec": {
   "display_name": "Python [conda root]",
   "language": "python",
   "name": "conda-root-py"
  },
  "language_info": {
   "codemirror_mode": {
    "name": "ipython",
    "version": 3
   },
   "file_extension": ".py",
   "mimetype": "text/x-python",
   "name": "python",
   "nbconvert_exporter": "python",
   "pygments_lexer": "ipython3",
   "version": "3.5.2"
  }
 },
 "nbformat": 4,
 "nbformat_minor": 1
}
