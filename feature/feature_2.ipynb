{
 "cells": [
  {
   "cell_type": "code",
   "execution_count": 1,
   "metadata": {
    "collapsed": true
   },
   "outputs": [],
   "source": [
    "import pandas as pd\n",
    "import numpy as np\n",
    "import scipy as sp\n"
   ]
  },
  {
   "cell_type": "code",
   "execution_count": 2,
   "metadata": {
    "collapsed": true
   },
   "outputs": [],
   "source": [
    "# 时间有关的特征，最有一个操作的时间，time[last1ActionTime,last2ActionTime,last3ActionTime,\n",
    "# last4ActionTime,last5ActionTime,first1ActionTime,first3ActionTime,]"
   ]
  },
  {
   "cell_type": "code",
   "execution_count": 3,
   "metadata": {
    "collapsed": true
   },
   "outputs": [],
   "source": [
    "df_train_data = pd.read_csv('../data/train/orderFuture_train.csv')\n",
    "df_test_data = pd.read_csv('../data/test/orderFuture_test.csv')\n"
   ]
  },
  {
   "cell_type": "code",
   "execution_count": 4,
   "metadata": {
    "collapsed": true
   },
   "outputs": [],
   "source": [
    "# 首先选择action信息\n",
    "df_train_action = pd.read_csv('../data/train/action_train.csv')\n",
    "df_test_action = pd.read_csv('../data/test/action_test.csv')\n"
   ]
  },
  {
   "cell_type": "code",
   "execution_count": null,
   "metadata": {
    "collapsed": false
   },
   "outputs": [
    {
     "name": "stdout",
     "output_type": "stream",
     "text": [
      "1000\n",
      "2000\n",
      "3000\n",
      "4000\n",
      "5000\n",
      "6000\n",
      "7000\n",
      "8000\n",
      "9000\n",
      "10000\n",
      "11000\n",
      "12000\n",
      "13000\n",
      "14000\n",
      "15000\n",
      "16000\n",
      "17000\n",
      "18000\n",
      "19000\n",
      "20000\n",
      "21000\n",
      "22000\n",
      "23000\n"
     ]
    }
   ],
   "source": [
    "# 时间间隔特征，[avg,std,var,skew,kurt,min,max, last1, last2,last3,last4,last5]\n",
    "\n",
    "column = ['userid','actionTimeAvg','actionTimeStd','actionTimeVar','actionTimeSkew','actionTimeKurt',\n",
    "          'last1ActionTime','last2ActionTime','last3ActionTime',\n",
    "          'last4ActionTime','last5ActionTime','first1ActionTime','first2ActionTime']\n",
    "\n",
    "df_train_time = pd.DataFrame(columns=column)\n",
    "\n",
    "userlist = list(set(df_train_action['userid']))\n",
    "\n",
    "k = 0\n",
    "for user in userlist:\n",
    "    k+=1\n",
    "    if k%1000 == 0:\n",
    "        print(k)\n",
    "\n",
    "    df_users_t = df_train_action[df_train_action['userid'] == user]\n",
    "    df_users_t = df_users_t.sort_values('actionTime')\n",
    "        \n",
    "    row = [user]\n",
    "    \n",
    "    row.append(df_users_t['actionTime'].mean())\n",
    "    row.append(df_users_t['actionTime'].std())\n",
    "    row.append(df_users_t['actionTime'].var())\n",
    "    row.append(df_users_t['actionTime'].skew())\n",
    "    row.append(df_users_t['actionTime'].kurt())\n",
    "    \n",
    "    row.extend(df_users_t['actionTime'].values[-5:])\n",
    "\n",
    "    if len(row) < 11:\n",
    "        row.extend([1514736000 for i in range(11-len(row))])\n",
    "    \n",
    "    row.extend(df_users_t['actionTime'].values[:2])\n",
    "\n",
    "    if len(row) < 13:\n",
    "        row.extend([1514736000 for i in range(13-len(row))])\n",
    "    \n",
    "    df_train_time = df_train_time.append(pd.DataFrame([row],columns=column),ignore_index=True)\n",
    "    \n"
   ]
  },
  {
   "cell_type": "code",
   "execution_count": 6,
   "metadata": {
    "collapsed": false
   },
   "outputs": [
    {
     "name": "stdout",
     "output_type": "stream",
     "text": [
      "1000\n",
      "2000\n",
      "3000\n",
      "4000\n",
      "5000\n",
      "6000\n",
      "7000\n",
      "8000\n",
      "9000\n",
      "10000\n"
     ]
    }
   ],
   "source": [
    "# 时间间隔特征，[avg,std,var,skew,kurt,min,max, last1, last2,last3,last4,last5]\n",
    "\n",
    "column = ['userid','actionTimeAvg','actionTimeStd','actionTimeVar','actionTimeSkew','actionTimeKurt',\n",
    "          'last1ActionTime','last2ActionTime','last3ActionTime',\n",
    "          'last4ActionTime','last5ActionTime','first1ActionTime','first2ActionTime']\n",
    "\n",
    "df_test_time = pd.DataFrame(columns=column)\n",
    "\n",
    "userlist = list(set(df_test_action['userid']))\n",
    "\n",
    "k = 0\n",
    "for user in userlist:\n",
    "    k+=1\n",
    "    if k%1000 == 0:\n",
    "        print(k)\n",
    "\n",
    "    df_users_t = df_test_action[df_test_action['userid'] == user]\n",
    "    df_users_t = df_users_t.sort_values('actionTime')\n",
    "        \n",
    "    row = [user]\n",
    "    \n",
    "    row.append(df_users_t['actionTime'].mean())\n",
    "    row.append(df_users_t['actionTime'].std())\n",
    "    row.append(df_users_t['actionTime'].var())\n",
    "    row.append(df_users_t['actionTime'].skew())\n",
    "    row.append(df_users_t['actionTime'].kurt())\n",
    "    \n",
    "    row.extend(df_users_t['actionTime'].values[-5:])\n",
    "\n",
    "    if len(row) < 11:\n",
    "        row.extend([1514736000 for i in range(11-len(row))])\n",
    "    \n",
    "    row.extend(df_users_t['actionTime'].values[:2])\n",
    "\n",
    "    if len(row) < 13:\n",
    "        row.extend([1514736000 for i in range(13-len(row))])\n",
    "    \n",
    "    df_test_time = df_test_time.append(pd.DataFrame([row],columns=column),ignore_index=True)\n",
    "    \n"
   ]
  },
  {
   "cell_type": "code",
   "execution_count": 25,
   "metadata": {
    "collapsed": false
   },
   "outputs": [
    {
     "name": "stdout",
     "output_type": "stream",
     "text": [
      "<class 'pandas.core.frame.DataFrame'>\n",
      "RangeIndex: 10076 entries, 0 to 10075\n",
      "Data columns (total 15 columns):\n",
      "userid              10076 non-null int64\n",
      "actionTimeAvg       10076 non-null float64\n",
      "actionTimeStd       10076 non-null float64\n",
      "actionTimeVar       10076 non-null float64\n",
      "actionTimeSkew      10076 non-null float64\n",
      "actionTimeKurt      10076 non-null float64\n",
      "actionTimeMin       10076 non-null int64\n",
      "actionTimeMax       10076 non-null int64\n",
      "last1ActionTime     10076 non-null int64\n",
      "last2ActionTime     10076 non-null int64\n",
      "last3ActionTime     10076 non-null int64\n",
      "last4ActionTime     10076 non-null int64\n",
      "last5ActionTime     10076 non-null int64\n",
      "first1ActionTime    10076 non-null int64\n",
      "first2ActionTime    10076 non-null int64\n",
      "dtypes: float64(5), int64(10)\n",
      "memory usage: 1.2 MB\n",
      "<class 'pandas.core.frame.DataFrame'>\n",
      "RangeIndex: 40307 entries, 0 to 40306\n",
      "Data columns (total 15 columns):\n",
      "userid              40307 non-null int64\n",
      "actionTimeAvg       40307 non-null float64\n",
      "actionTimeStd       40307 non-null float64\n",
      "actionTimeVar       40307 non-null float64\n",
      "actionTimeSkew      40307 non-null float64\n",
      "actionTimeKurt      40307 non-null float64\n",
      "actionTimeMin       40307 non-null int64\n",
      "actionTimeMax       40307 non-null int64\n",
      "last1ActionTime     40307 non-null int64\n",
      "last2ActionTime     40307 non-null int64\n",
      "last3ActionTime     40307 non-null int64\n",
      "last4ActionTime     40307 non-null int64\n",
      "last5ActionTime     40307 non-null int64\n",
      "first1ActionTime    40307 non-null int64\n",
      "first2ActionTime    40307 non-null int64\n",
      "dtypes: float64(5), int64(10)\n",
      "memory usage: 4.6 MB\n"
     ]
    }
   ],
   "source": [
    "df_train_time.fillna(-1,inplace=True)\n",
    "df_test_time.fillna(-1,inplace=True)\n",
    "\n",
    "df_test_time.info()\n",
    "df_train_time.info()"
   ]
  },
  {
   "cell_type": "code",
   "execution_count": 14,
   "metadata": {
    "collapsed": false
   },
   "outputs": [
    {
     "data": {
      "text/plain": [
       "Index(['userid', 'actionTimeAvg', 'actionTimeStd', 'actionTimeVar',\n",
       "       'actionTimeSkew', 'actionTimeKurt', 'actionTimeMin', 'actionTimeMax',\n",
       "       'last1ActionTime', 'last2ActionTime', 'last3ActionTime',\n",
       "       'last4ActionTime', 'last5ActionTime', 'first1ActionTime',\n",
       "       'first2ActionTime'],\n",
       "      dtype='object')"
      ]
     },
     "execution_count": 14,
     "metadata": {},
     "output_type": "execute_result"
    }
   ],
   "source": [
    "df_test_time.columns"
   ]
  },
  {
   "cell_type": "code",
   "execution_count": 19,
   "metadata": {
    "collapsed": true
   },
   "outputs": [],
   "source": [
    "df_train_data = pd.merge(df_train_data,df_train_time, how='left',on='userid')\n",
    "\n",
    "df_test_data = pd.merge(df_test_data,df_test_time, how='left',on='userid')\n"
   ]
  },
  {
   "cell_type": "code",
   "execution_count": null,
   "metadata": {
    "collapsed": true
   },
   "outputs": [],
   "source": []
  },
  {
   "cell_type": "code",
   "execution_count": 20,
   "metadata": {
    "collapsed": false
   },
   "outputs": [
    {
     "name": "stdout",
     "output_type": "stream",
     "text": [
      "<class 'pandas.core.frame.DataFrame'>\n",
      "Int64Index: 40307 entries, 0 to 40306\n",
      "Data columns (total 16 columns):\n",
      "userid              40307 non-null int64\n",
      "orderType           40307 non-null int64\n",
      "actionTimeAvg       40307 non-null float64\n",
      "actionTimeStd       40307 non-null float64\n",
      "actionTimeVar       40307 non-null float64\n",
      "actionTimeSkew      40307 non-null float64\n",
      "actionTimeKurt      40307 non-null float64\n",
      "actionTimeMin       40307 non-null int64\n",
      "actionTimeMax       40307 non-null int64\n",
      "last1ActionTime     40307 non-null int64\n",
      "last2ActionTime     40307 non-null int64\n",
      "last3ActionTime     40307 non-null int64\n",
      "last4ActionTime     40307 non-null int64\n",
      "last5ActionTime     40307 non-null int64\n",
      "first1ActionTime    40307 non-null int64\n",
      "first2ActionTime    40307 non-null int64\n",
      "dtypes: float64(5), int64(11)\n",
      "memory usage: 5.2 MB\n",
      "<class 'pandas.core.frame.DataFrame'>\n",
      "Int64Index: 10076 entries, 0 to 10075\n",
      "Data columns (total 15 columns):\n",
      "userid              10076 non-null int64\n",
      "actionTimeAvg       10076 non-null float64\n",
      "actionTimeStd       10076 non-null float64\n",
      "actionTimeVar       10076 non-null float64\n",
      "actionTimeSkew      10076 non-null float64\n",
      "actionTimeKurt      10076 non-null float64\n",
      "actionTimeMin       10076 non-null int64\n",
      "actionTimeMax       10076 non-null int64\n",
      "last1ActionTime     10076 non-null int64\n",
      "last2ActionTime     10076 non-null int64\n",
      "last3ActionTime     10076 non-null int64\n",
      "last4ActionTime     10076 non-null int64\n",
      "last5ActionTime     10076 non-null int64\n",
      "first1ActionTime    10076 non-null int64\n",
      "first2ActionTime    10076 non-null int64\n",
      "dtypes: float64(5), int64(10)\n",
      "memory usage: 1.2 MB\n"
     ]
    }
   ],
   "source": [
    "df_train_data.info()\n",
    "df_test_data.info()\n"
   ]
  },
  {
   "cell_type": "code",
   "execution_count": 23,
   "metadata": {
    "collapsed": true
   },
   "outputs": [],
   "source": [
    "df_train_data.drop('orderType',axis=1,inplace=True)\n"
   ]
  },
  {
   "cell_type": "code",
   "execution_count": 24,
   "metadata": {
    "collapsed": true
   },
   "outputs": [],
   "source": [
    "\n",
    "df_train_data.to_csv('../data/df_train_2.csv',index=False,index_label=False)\n",
    "df_test_data.to_csv('../data/df_test_2.csv',index=False,index_label=False)\n",
    "\n"
   ]
  },
  {
   "cell_type": "code",
   "execution_count": null,
   "metadata": {
    "collapsed": true
   },
   "outputs": [],
   "source": []
  }
 ],
 "metadata": {
  "anaconda-cloud": {},
  "kernelspec": {
   "display_name": "Python [conda root]",
   "language": "python",
   "name": "conda-root-py"
  },
  "language_info": {
   "codemirror_mode": {
    "name": "ipython",
    "version": 3
   },
   "file_extension": ".py",
   "mimetype": "text/x-python",
   "name": "python",
   "nbconvert_exporter": "python",
   "pygments_lexer": "ipython3",
   "version": "3.5.2"
  }
 },
 "nbformat": 4,
 "nbformat_minor": 1
}
