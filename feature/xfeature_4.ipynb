{
 "cells": [
  {
   "cell_type": "code",
   "execution_count": 1,
   "metadata": {
    "collapsed": true
   },
   "outputs": [],
   "source": [
    "import pandas as pd\n",
    "import numpy as np\n",
    "import scipy as sp\n"
   ]
  },
  {
   "cell_type": "code",
   "execution_count": 2,
   "metadata": {
    "collapsed": true
   },
   "outputs": [],
   "source": [
    "MINTIME = 1471119058"
   ]
  },
  {
   "cell_type": "markdown",
   "metadata": {},
   "source": [
    "### actionTime最后几次的时间\n",
    "+ types = [[1],[2,3,4],[5,6,7,8,9]]\n",
    "\n"
   ]
  },
  {
   "cell_type": "code",
   "execution_count": 3,
   "metadata": {
    "collapsed": true
   },
   "outputs": [],
   "source": [
    "df_train_data = pd.read_csv('../data/train/orderFuture_train.csv')\n",
    "df_test_data = pd.read_csv('../data/test/orderFuture_test.csv')\n",
    "\n",
    "# 首先选择action信息\n",
    "df_train_action = pd.read_csv('../data/train/action_train.csv')\n",
    "df_test_action = pd.read_csv('../data/test/action_test.csv')\n"
   ]
  },
  {
   "cell_type": "code",
   "execution_count": 4,
   "metadata": {
    "collapsed": true
   },
   "outputs": [],
   "source": [
    "# 时间间隔特征，[avg,std,var,skew,kurt,min,max, last1, last2,last3,last4,last5]\n",
    "def getTypeKLast3Diff(df_train_action, Types):\n",
    "    '''参数：\n",
    "        df_train_action: 应用数据，可以是train和test\n",
    "        Type: actionType的值\n",
    "    \n",
    "    '''\n",
    "    Type = \"\"\n",
    "    for i in Types:\n",
    "        Type += str(i)\n",
    "    \n",
    "    print(Type)\n",
    "    column = ['userid',\n",
    "              'type'+Type+'Last1Time','type'+Type+'Last2Time','type'+Type+'Last3Time',\n",
    "              'type'+Type+'Last4Time','type'+Type+'Last5Time',]\n",
    "\n",
    "    df_train_diffTime = pd.DataFrame(columns=column)\n",
    "\n",
    "    userlist = list(set(df_train_action['userid']))\n",
    "\n",
    "    k = 0\n",
    "    for user in userlist:\n",
    "        k+=1\n",
    "        if k%5000 == 0:\n",
    "            print(k)\n",
    "\n",
    "        df_users_t = df_train_action[df_train_action['userid'] == user]\n",
    "\n",
    "        # 选择type k 对应的数据\n",
    "        df_users_t = df_users_t[df_users_t['actionType'].isin(Types)]\n",
    "\n",
    "        df_users_t = df_users_t.sort_values('actionTime')\n",
    "\n",
    "        row = [user]\n",
    "\n",
    "        # 注意要时间进行发转，统计的时候是到这统计的。\n",
    "        tmp_time = []\n",
    "        tmp_time.extend(df_users_t['actionTime'].values[-5:])\n",
    "        tmp_time.reverse()\n",
    "\n",
    "        # 用差值的平均数填充\n",
    "        if len(tmp_time) < 5:\n",
    "            tmp_time.extend([MINTIME for i in range(5-len(tmp_time))])\n",
    "\n",
    "        row.extend(tmp_time)\n",
    "\n",
    "        df_train_diffTime = df_train_diffTime.append(pd.DataFrame([row],columns=column),ignore_index=True)\n",
    "\n",
    "        \n",
    "    return df_train_diffTime\n",
    "\n"
   ]
  },
  {
   "cell_type": "code",
   "execution_count": 5,
   "metadata": {
    "collapsed": false
   },
   "outputs": [
    {
     "name": "stdout",
     "output_type": "stream",
     "text": [
      "[1]\n",
      "1\n",
      "5000\n",
      "10000\n",
      "15000\n",
      "20000\n",
      "25000\n",
      "30000\n",
      "35000\n",
      "40000\n",
      "[2, 3, 4]\n",
      "234\n",
      "5000\n",
      "10000\n",
      "15000\n",
      "20000\n",
      "25000\n",
      "30000\n",
      "35000\n",
      "40000\n",
      "[5, 6, 7, 8, 9]\n",
      "56789\n",
      "5000\n",
      "10000\n",
      "15000\n",
      "20000\n",
      "25000\n",
      "30000\n",
      "35000\n",
      "40000\n"
     ]
    }
   ],
   "source": [
    "## train\n",
    "for Types in [[1],[2,3,4],[5,6,7,8,9]]:\n",
    "    print(Types)\n",
    "    df_train_diffTime = getTypeKLast3Diff(df_train_action,Types)\n",
    "    df_train_data = pd.merge(df_train_data,df_train_diffTime, how='left',on='userid')\n"
   ]
  },
  {
   "cell_type": "code",
   "execution_count": 6,
   "metadata": {
    "collapsed": false
   },
   "outputs": [
    {
     "name": "stdout",
     "output_type": "stream",
     "text": [
      "[1]\n",
      "1\n",
      "5000\n",
      "10000\n",
      "[2, 3, 4]\n",
      "234\n",
      "5000\n",
      "10000\n",
      "[5, 6, 7, 8, 9]\n",
      "56789\n",
      "5000\n",
      "10000\n"
     ]
    }
   ],
   "source": [
    "## test\n",
    "for Types in [[1],[2,3,4],[5,6,7,8,9]]:\n",
    "    print(Types)\n",
    "    df_test_diffTime = getTypeKLast3Diff(df_test_action,Types)\n",
    "    df_test_data = pd.merge(df_test_data,df_test_diffTime, how='left',on='userid')\n"
   ]
  },
  {
   "cell_type": "code",
   "execution_count": 7,
   "metadata": {
    "collapsed": false
   },
   "outputs": [
    {
     "name": "stdout",
     "output_type": "stream",
     "text": [
      "<class 'pandas.core.frame.DataFrame'>\n",
      "Int64Index: 40307 entries, 0 to 40306\n",
      "Data columns (total 17 columns):\n",
      "userid                40307 non-null object\n",
      "orderType             40307 non-null int64\n",
      "type1Last1Time        40307 non-null object\n",
      "type1Last2Time        40307 non-null object\n",
      "type1Last3Time        40307 non-null object\n",
      "type1Last4Time        40307 non-null object\n",
      "type1Last5Time        40307 non-null object\n",
      "type234Last1Time      40307 non-null object\n",
      "type234Last2Time      40307 non-null object\n",
      "type234Last3Time      40307 non-null object\n",
      "type234Last4Time      40307 non-null object\n",
      "type234Last5Time      40307 non-null object\n",
      "type56789Last1Time    40307 non-null object\n",
      "type56789Last2Time    40307 non-null object\n",
      "type56789Last3Time    40307 non-null object\n",
      "type56789Last4Time    40307 non-null object\n",
      "type56789Last5Time    40307 non-null object\n",
      "dtypes: int64(1), object(16)\n",
      "memory usage: 5.5+ MB\n",
      "<class 'pandas.core.frame.DataFrame'>\n",
      "Int64Index: 10076 entries, 0 to 10075\n",
      "Data columns (total 16 columns):\n",
      "userid                10076 non-null object\n",
      "type1Last1Time        10076 non-null object\n",
      "type1Last2Time        10076 non-null object\n",
      "type1Last3Time        10076 non-null object\n",
      "type1Last4Time        10076 non-null object\n",
      "type1Last5Time        10076 non-null object\n",
      "type234Last1Time      10076 non-null object\n",
      "type234Last2Time      10076 non-null object\n",
      "type234Last3Time      10076 non-null object\n",
      "type234Last4Time      10076 non-null object\n",
      "type234Last5Time      10076 non-null object\n",
      "type56789Last1Time    10076 non-null object\n",
      "type56789Last2Time    10076 non-null object\n",
      "type56789Last3Time    10076 non-null object\n",
      "type56789Last4Time    10076 non-null object\n",
      "type56789Last5Time    10076 non-null object\n",
      "dtypes: object(16)\n",
      "memory usage: 1.3+ MB\n"
     ]
    }
   ],
   "source": [
    "df_train_data.info()\n",
    "df_test_data.info()\n"
   ]
  },
  {
   "cell_type": "code",
   "execution_count": 8,
   "metadata": {
    "collapsed": true
   },
   "outputs": [],
   "source": [
    "df_train_data.drop('orderType',axis=1,inplace=True)\n",
    "df_train_data.to_csv('../data/dataSet/df_train_4.csv',index=False,index_label=False)\n",
    "df_test_data.to_csv('../data/dataSet/df_test_4.csv',index=False,index_label=False)\n"
   ]
  },
  {
   "cell_type": "code",
   "execution_count": null,
   "metadata": {
    "collapsed": true
   },
   "outputs": [],
   "source": []
  }
 ],
 "metadata": {
  "anaconda-cloud": {},
  "kernelspec": {
   "display_name": "Python [conda root]",
   "language": "python",
   "name": "conda-root-py"
  },
  "language_info": {
   "codemirror_mode": {
    "name": "ipython",
    "version": 3
   },
   "file_extension": ".py",
   "mimetype": "text/x-python",
   "name": "python",
   "nbconvert_exporter": "python",
   "pygments_lexer": "ipython3",
   "version": "3.5.2"
  }
 },
 "nbformat": 4,
 "nbformat_minor": 1
}
