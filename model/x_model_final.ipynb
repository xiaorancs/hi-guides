{
 "cells": [
  {
   "cell_type": "code",
   "execution_count": 1,
   "metadata": {
    "collapsed": false
   },
   "outputs": [
    {
     "name": "stderr",
     "output_type": "stream",
     "text": [
      "/home/xiaoran/Tools/anaconda3/lib/python3.5/site-packages/sklearn/cross_validation.py:44: DeprecationWarning: This module was deprecated in version 0.18 in favor of the model_selection module into which all the refactored classes and functions are moved. Also note that the interface of the new CV iterators are different from that of this module. This module will be removed in 0.20.\n",
      "  \"This module will be removed in 0.20.\", DeprecationWarning)\n",
      "/home/xiaoran/Tools/anaconda3/lib/python3.5/site-packages/sklearn/grid_search.py:43: DeprecationWarning: This module was deprecated in version 0.18 in favor of the model_selection module into which all the refactored classes and functions are moved. This module will be removed in 0.20.\n",
      "  DeprecationWarning)\n"
     ]
    }
   ],
   "source": [
    "import pandas as pd\n",
    "import numpy as np\n",
    "import xgboost as xgb\n",
    "from xgboost.sklearn import XGBClassifier\n",
    "from sklearn import cross_validation, metrics   #Additional scklearn functions\n",
    "from sklearn.grid_search import GridSearchCV   #Perforing grid search\n",
    "\n",
    "import featureGet\n",
    "\n",
    "import matplotlib.pylab as plt\n",
    "%matplotlib inline\n",
    "from matplotlib.pylab import rcParams\n",
    "rcParams['figure.figsize'] = 12, 4\n",
    "\n"
   ]
  },
  {
   "cell_type": "code",
   "execution_count": 2,
   "metadata": {
    "collapsed": true
   },
   "outputs": [],
   "source": [
    "def modelfit(alg, dtrain, features, label, useTrainCV=True, cv_folds=5, early_stopping_rounds=50):\n",
    "    \n",
    "    if useTrainCV:\n",
    "        xgb_param = alg.get_xgb_params()\n",
    "        xgtrain = xgb.DMatrix(dtrain[features].values, label=dtrain[label].values)\n",
    "        cvresult = xgb.cv(xgb_param, xgtrain, num_boost_round=alg.get_params()['n_estimators'], nfold=cv_folds,\n",
    "            metrics='auc', early_stopping_rounds=early_stopping_rounds,verbose_eval=50)\n",
    "        alg.set_params(n_estimators=cvresult.shape[0])\n",
    "    \n",
    "    #Fit the algorithm on the data\n",
    "    alg.fit(dtrain[features], dtrain[label],eval_metric='auc')\n",
    "        \n",
    "    #Predict 验证集:\n",
    "    dtrain_predictions = alg.predict(dtrain[features])\n",
    "    dtrain_predprob = alg.predict_proba(dtrain[features])[:,1]\n",
    "    \n",
    "    #Predict training set:\n",
    "    dtrain_predictions = alg.predict(dtrain[features])\n",
    "    dtrain_predprob = alg.predict_proba(dtrain[features])[:,1]\n",
    "    \n",
    "    \n",
    "    #Print model report:\n",
    "    print(\"\\nModel Report\")\n",
    "    print(\"Accuracy : %.4g\" % metrics.accuracy_score(dtrain[label].values, dtrain_predictions))\n",
    "    print(\"AUC Score (Train): %f\" % metrics.roc_auc_score(dtrain[label], dtrain_predprob))\n",
    "    \n",
    "    feat_imp = pd.Series(alg.booster().get_fscore()).sort_values(ascending=False)\n",
    "    feat_imp.head(30).plot(kind='bar', title='Feature Importances')\n",
    "    plt.ylabel('Feature Importance Score')"
   ]
  },
  {
   "cell_type": "code",
   "execution_count": 3,
   "metadata": {
    "collapsed": true
   },
   "outputs": [],
   "source": [
    "def runmodel(df_train,df_test, features, label, outfile):\n",
    "    '''运行模型\n",
    "    \n",
    "    '''\n",
    "    xgb1 = XGBClassifier(\n",
    "         learning_rate =0.1,\n",
    "         n_estimators=1000,\n",
    "         max_depth=5,\n",
    "         min_child_weight=1,\n",
    "         gamma=0,\n",
    "         subsample=0.8,\n",
    "         colsample_bytree=0.8,\n",
    "         objective= 'binary:logistic',\n",
    "         scale_pos_weight=4,\n",
    "         seed=27)\n",
    "\n",
    "    modelfit(xgb1, df_train, features, label)\n",
    "    \n",
    "    proba_test = pd.DataFrame()\n",
    "    proba_test['userid'] = df_test['userid']\n",
    "    proba_test['orderType'] = [0 for i in range(len(df_test))]\n",
    "    proba_test['orderType'] = xgb1.predict_proba(df_test[features])[:,1]\n",
    "\n",
    "    # 写入结果文件\n",
    "    proba_test.to_csv(outfile,index=False,index_label=False)\n",
    "    \n",
    "    return proba_test\n",
    "    "
   ]
  },
  {
   "cell_type": "code",
   "execution_count": null,
   "metadata": {
    "collapsed": false
   },
   "outputs": [],
   "source": [
    "def Main():\n",
    "    \n",
    "    sub = []\n",
    "    \n",
    "    print(\"model 1-------------------->\")\n",
    "    # 第1个模型\n",
    "    df_train,df_test,features,label = featureGet.getDataSet1()\n",
    "    outfile1 = '../result/sub_1.csv'\n",
    "    sub.append(runmodel(df_train, df_test, features, label, outfile1))\n",
    "    \n",
    "    # 第2个模型\n",
    "    print(\"model 2-------------------->\")\n",
    "    df_train,df_test,features,label = featureGet.getDataSet2()\n",
    "    outfile1 = '../result/sub_2.csv'\n",
    "    sub.append(runmodel(df_train, df_test, features, label, outfile1))\n",
    "    \n",
    "    # 第3个模型\n",
    "    print(\"model 3-------------------->\")\n",
    "    df_train,df_test,features,label = featureGet.getDataSet3()\n",
    "    outfile1 = '../result/sub_3.csv'\n",
    "    sub.append(runmodel(df_train, df_test, features, label, outfile1))\n",
    "    \n",
    "    # 第4个模型\n",
    "    print(\"model 4-------------------->\")\n",
    "    df_train,df_test,features,label = featureGet.getDataSet4()\n",
    "    outfile1 = '../result/sub_4.csv'\n",
    "    sub.append(runmodel(df_train, df_test, features, label, outfile1))\n",
    "    \n",
    "    # 第5个模型\n",
    "    print(\"model 5-------------------->\")\n",
    "    df_train,df_test,features,label = featureGet.getDataSet5()\n",
    "    outfile1 = '../result/sub_5.csv'\n",
    "    sub.append(runmodel(df_train, df_test, features, label, outfile1))\n",
    "    \n",
    "    # 第6个模型\n",
    "    print(\"model 6-------------------->\")\n",
    "    df_train,df_test,features,label = featureGet.getDataSet6()\n",
    "    outfile1 = '../result/sub_6.csv'\n",
    "    sub.append(runmodel(df_train, df_test, features, label, outfile1))\n",
    "    \n",
    "    subAvg = sub[0]\n",
    "    \n",
    "    for i in range(1,len(sub)):\n",
    "        subAvg['orderType'] = subAvg['orderType'] + sub[i]['orderType']\n",
    "    \n",
    "    subAvg['orderType'] = subAvg['orderType'] / len(sub)\n",
    "    \n",
    "    subAvg.to_csv('../result/subAvg.csv',index=False)\n",
    "    "
   ]
  },
  {
   "cell_type": "code",
   "execution_count": null,
   "metadata": {
    "collapsed": false
   },
   "outputs": [
    {
     "name": "stdout",
     "output_type": "stream",
     "text": [
      "model 1-------------------->\n",
      "[50]\ttrain-auc:0.967128+0.000301504\ttest-auc:0.953143+0.00245969\n",
      "[100]\ttrain-auc:0.981838+0.000431403\ttest-auc:0.96057+0.00217339\n",
      "[150]\ttrain-auc:0.988553+0.000230105\ttest-auc:0.962627+0.00182349\n",
      "[200]\ttrain-auc:0.992785+0.000149901\ttest-auc:0.963197+0.00162011\n",
      "[250]\ttrain-auc:0.995432+0.000257322\ttest-auc:0.963451+0.00149301\n",
      "[300]\ttrain-auc:0.997168+0.000167175\ttest-auc:0.963533+0.00149098\n",
      "[350]\ttrain-auc:0.998241+9.89586e-05\ttest-auc:0.963661+0.00131318\n",
      "[400]\ttrain-auc:0.998947+7.06269e-05\ttest-auc:0.96375+0.0013985\n",
      "[450]\ttrain-auc:0.999399+5.41827e-05\ttest-auc:0.96363+0.0014256\n",
      "\n",
      "Model Report\n",
      "Accuracy : 0.9785\n",
      "AUC Score (Train): 0.998058\n",
      "model 2-------------------->\n",
      "[0]\ttrain-auc:0.89567+0.00619449\ttest-auc:0.889666+0.00966594\n",
      "[50]\ttrain-auc:0.966967+0.000516996\ttest-auc:0.952699+0.00257619\n",
      "[100]\ttrain-auc:0.981646+0.000470743\ttest-auc:0.960606+0.00192165\n",
      "[150]\ttrain-auc:0.988686+0.000206531\ttest-auc:0.962489+0.00176285\n",
      "[200]\ttrain-auc:0.992722+0.000112754\ttest-auc:0.963161+0.00192142\n",
      "[250]\ttrain-auc:0.995406+6.65745e-05\ttest-auc:0.963658+0.00155379\n",
      "[300]\ttrain-auc:0.997188+7.11742e-05\ttest-auc:0.96375+0.00151322\n",
      "\n",
      "Model Report\n",
      "Accuracy : 0.9673\n",
      "AUC Score (Train): 0.995216\n",
      "model 3-------------------->\n",
      "[0]\ttrain-auc:0.923103+0.00187366\ttest-auc:0.917494+0.00297282\n",
      "[50]\ttrain-auc:0.971245+0.000240121\ttest-auc:0.958519+0.00150873\n",
      "[100]\ttrain-auc:0.983657+0.000287661\ttest-auc:0.963806+0.00130566\n",
      "[150]\ttrain-auc:0.989795+0.000426578\ttest-auc:0.965424+0.00125689\n",
      "[200]\ttrain-auc:0.993726+0.000309315\ttest-auc:0.966226+0.00117479\n",
      "[250]\ttrain-auc:0.996155+0.000254735\ttest-auc:0.966407+0.00136195\n",
      "[300]\ttrain-auc:0.99763+0.000197716\ttest-auc:0.966572+0.00126183\n",
      "\n",
      "Model Report\n",
      "Accuracy : 0.9703\n",
      "AUC Score (Train): 0.996228\n",
      "model 4-------------------->\n",
      "[0]\ttrain-auc:0.855705+0.0133033\ttest-auc:0.848784+0.0134452\n",
      "[50]\ttrain-auc:0.964767+0.000537403\ttest-auc:0.950989+0.00290533\n",
      "[100]\ttrain-auc:0.97859+0.000564124\ttest-auc:0.95771+0.00207551\n",
      "[150]\ttrain-auc:0.9864+0.000517267\ttest-auc:0.959893+0.00199624\n",
      "[200]\ttrain-auc:0.991102+0.00040166\ttest-auc:0.96096+0.00186828\n",
      "[250]\ttrain-auc:0.994194+0.000251279\ttest-auc:0.96109+0.0017874\n",
      "[300]\ttrain-auc:0.996277+0.00016053\ttest-auc:0.961304+0.00169249\n",
      "\n",
      "Model Report\n",
      "Accuracy : 0.9617\n",
      "AUC Score (Train): 0.993308\n",
      "model 5-------------------->\n",
      "[0]\ttrain-auc:0.923644+0.00100555\ttest-auc:0.917172+0.00347772\n",
      "[50]\ttrain-auc:0.969846+0.000785199\ttest-auc:0.958332+0.00154217\n",
      "[100]\ttrain-auc:0.981987+0.000408976\ttest-auc:0.963713+0.00101286\n",
      "[150]\ttrain-auc:0.988836+0.000108949\ttest-auc:0.965557+0.00101118\n",
      "[200]\ttrain-auc:0.992978+0.000175778\ttest-auc:0.966335+0.00109019\n",
      "[250]\ttrain-auc:0.995546+0.000180156\ttest-auc:0.966537+0.000973931\n",
      "[300]\ttrain-auc:0.997323+0.000106344\ttest-auc:0.966811+0.00130406\n",
      "[350]\ttrain-auc:0.998398+7.36397e-05\ttest-auc:0.96683+0.00134155\n",
      "[400]\ttrain-auc:0.999077+5.27689e-05\ttest-auc:0.966757+0.00135084\n",
      "\n",
      "Model Report\n",
      "Accuracy : 0.9748\n",
      "AUC Score (Train): 0.997482\n",
      "model 6-------------------->\n",
      "[0]\ttrain-auc:0.926344+0.00148178\ttest-auc:0.920795+0.00265395\n",
      "[50]\ttrain-auc:0.971086+0.000539617\ttest-auc:0.958535+0.00123158\n",
      "[100]\ttrain-auc:0.983834+0.000442273\ttest-auc:0.964265+0.00119689\n",
      "[150]\ttrain-auc:0.990076+0.000149344\ttest-auc:0.965768+0.00111577\n",
      "[200]\ttrain-auc:0.993824+0.000199801\ttest-auc:0.966295+0.00111804\n",
      "[250]\ttrain-auc:0.996137+0.000263248\ttest-auc:0.966571+0.00115785\n",
      "[300]\ttrain-auc:0.997634+0.000171216\ttest-auc:0.966589+0.00134185\n",
      "\n",
      "Model Report\n",
      "Accuracy : 0.9667\n",
      "AUC Score (Train): 0.995384\n"
     ]
    },
    {
     "data": {
      "image/png": "[encoded data removed]",
      "text/plain": [
       "<matplotlib.figure.Figure at 0x7f7591253e48>"
      ]
     },
     "metadata": {},
     "output_type": "display_data"
    }
   ],
   "source": [
    "Main()"
   ]
  },
  {
   "cell_type": "code",
   "execution_count": null,
   "metadata": {
    "collapsed": true
   },
   "outputs": [],
   "source": []
  },
  {
   "cell_type": "code",
   "execution_count": null,
   "metadata": {
    "collapsed": true
   },
   "outputs": [],
   "source": []
  }
 ],
 "metadata": {
  "anaconda-cloud": {},
  "kernelspec": {
   "display_name": "Python [conda root]",
   "language": "python",
   "name": "conda-root-py"
  },
  "language_info": {
   "codemirror_mode": {
    "name": "ipython",
    "version": 3
   },
   "file_extension": ".py",
   "mimetype": "text/x-python",
   "name": "python",
   "nbconvert_exporter": "python",
   "pygments_lexer": "ipython3",
   "version": "3.5.2"
  }
 },
 "nbformat": 4,
 "nbformat_minor": 1
}
