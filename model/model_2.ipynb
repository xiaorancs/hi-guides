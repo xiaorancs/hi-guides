{
 "cells": [
  {
   "cell_type": "code",
   "execution_count": 1,
   "metadata": {
    "collapsed": false
   },
   "outputs": [],
   "source": [
    "import pandas as pd\n",
    "import numpy as np\n",
    "from sklearn.model_selection import KFold\n",
    "from sklearn.model_selection import train_test_split\n",
    "\n",
    "import lightgbm as lgb"
   ]
  },
  {
   "cell_type": "code",
   "execution_count": 2,
   "metadata": {
    "collapsed": true
   },
   "outputs": [],
   "source": [
    "seed = 71\n",
    "\n",
    "np.random.seed(seed)\n",
    "valid_size = 0.2\n",
    "LOOP = 1\n",
    "ESR = 40\n",
    "#nround = 10\n",
    "\n",
    "params = {\n",
    "        'objective': 'binary',\n",
    "        'boosting': 'gbdt',\n",
    "        'learning_rate': 0.2 ,\n",
    "        'verbose': 5,\n",
    "        'num_leaves': 108,\n",
    "        'bagging_fraction': 0.95,\n",
    "        'bagging_freq': 1,\n",
    "        'bagging_seed': 1,\n",
    "        'feature_fraction': 0.9,\n",
    "        'feature_fraction_seed': 1,\n",
    "        'max_bin': 256,\n",
    "        'num_rounds': 300,\n",
    "        'metric' : 'auc'\n",
    "    }"
   ]
  },
  {
   "cell_type": "code",
   "execution_count": 3,
   "metadata": {
    "collapsed": true
   },
   "outputs": [],
   "source": [
    "df_train = pd.read_csv('../data/train/orderFuture_train.csv')\n",
    "df_test = pd.read_csv('../data/test/orderFuture_test.csv')\n",
    "\n",
    "df_train_1 = pd.read_csv('../data/dataSet/df_train_1.csv')\n",
    "df_test_1 = pd.read_csv('../data/dataSet/df_test_1.csv')\n",
    "df_train = pd.merge(df_train,df_train_1,how='left',on='userid')\n",
    "df_test = pd.merge(df_test,df_test_1,how='left',on='userid')\n",
    "\n",
    "\n",
    "df_train_2 = pd.read_csv('../data/dataSet/df_train_2.csv')\n",
    "df_test_2 = pd.read_csv('../data/dataSet/df_test_2.csv')\n",
    "df_train = pd.merge(df_train,df_train_2,how='left',on='userid')\n",
    "df_test = pd.merge(df_test,df_test_2,how='left',on='userid')\n",
    "\n",
    "\n",
    "df_train_3 = pd.read_csv('../data/dataSet/df_train_3.csv')\n",
    "df_test_3 = pd.read_csv('../data/dataSet/df_test_3.csv')\n",
    "df_train = pd.merge(df_train,df_train_3,how='left',on='userid')\n",
    "df_test = pd.merge(df_test,df_test_3,how='left',on='userid')\n",
    "\n",
    "\n",
    "df_train_4 = pd.read_csv('../data/dataSet/df_train_4.csv')\n",
    "df_test_4 = pd.read_csv('../data/dataSet/df_test_4.csv')\n",
    "df_train = pd.merge(df_train,df_train_4,how='left',on='userid')\n",
    "df_test = pd.merge(df_test,df_test_4,how='left',on='userid')\n",
    "\n",
    "df_train_5 = pd.read_csv('../data/dataSet/df_train_5.csv')\n",
    "df_test_5 = pd.read_csv('../data/dataSet/df_test_5.csv')\n",
    "df_train = pd.merge(df_train,df_train_5,how='left',on='userid')\n",
    "df_test = pd.merge(df_test,df_test_5,how='left',on='userid')\n",
    "\n",
    "df_train_6 = pd.read_csv('../data/dataSet/df_train_6.csv')\n",
    "df_test_6 = pd.read_csv('../data/dataSet/df_test_6.csv')\n",
    "df_train = pd.merge(df_train,df_train_6,how='left',on='userid')\n",
    "df_test = pd.merge(df_test,df_test_6,how='left',on='userid')\n",
    "\n",
    "df_train_7 = pd.read_csv('../data/dataSet/df_train_7.csv')\n",
    "df_test_7 = pd.read_csv('../data/dataSet/df_test_7.csv')\n",
    "df_train = pd.merge(df_train,df_train_7,how='left',on='userid')\n",
    "df_test = pd.merge(df_test,df_test_7,how='left',on='userid')\n",
    "\n",
    "\n",
    "df_train_8 = pd.read_csv('../data/dataSet/df_train_8.csv')\n",
    "df_test_8 = pd.read_csv('../data/dataSet/df_test_8.csv')\n",
    "df_train = pd.merge(df_train,df_train_8,how='left',on='userid')\n",
    "df_test = pd.merge(df_test,df_test_8,how='left',on='userid')\n",
    "\n",
    "df_train_9 = pd.read_csv('../data/dataSet/df_train_9.csv')\n",
    "df_test_9 = pd.read_csv('../data/dataSet/df_test_9.csv')\n",
    "df_train = pd.merge(df_train,df_train_9,how='left',on='userid')\n",
    "df_test = pd.merge(df_test,df_test_9,how='left',on='userid')\n",
    "\n",
    "\n",
    "df_train_10 = pd.read_csv('../data/dataSet/df_train_10.csv')\n",
    "df_test_10 = pd.read_csv('../data/dataSet/df_test_10.csv')\n",
    "df_train = pd.merge(df_train,df_train_10,how='left',on='userid')\n",
    "df_test = pd.merge(df_test,df_test_10,how='left',on='userid')\n",
    "\n",
    "df_train_11 = pd.read_csv('../data/dataSet/df_train_11.csv')\n",
    "df_test_11 = pd.read_csv('../data/dataSet/df_test_11.csv')\n",
    "df_train = pd.merge(df_train,df_train_11,how='left',on='userid')\n",
    "df_test = pd.merge(df_test,df_test_11,how='left',on='userid')\n",
    "\n",
    "df_train_12 = pd.read_csv('../data/dataSet/df_train_12_top100.csv')\n",
    "df_test_12 = pd.read_csv('../data/dataSet/df_test_12_top100.csv')\n",
    "df_train = pd.merge(df_train,df_train_11,how='left',on='userid')\n",
    "df_test = pd.merge(df_test,df_test_11,how='left',on='userid')\n",
    "\n"
   ]
  },
  {
   "cell_type": "code",
   "execution_count": 4,
   "metadata": {
    "collapsed": false
   },
   "outputs": [
    {
     "data": {
      "text/plain": [
       "1137"
      ]
     },
     "execution_count": 4,
     "metadata": {},
     "output_type": "execute_result"
    }
   ],
   "source": [
    "# 设置特征数据，去除id数据，不能进行预测\n",
    "features = df_test.columns[1:]\n",
    "\n",
    "label = 'orderType'\n",
    "\n",
    "len(features)\n"
   ]
  },
  {
   "cell_type": "code",
   "execution_count": 5,
   "metadata": {
    "collapsed": true
   },
   "outputs": [
    {
     "name": "stdout",
     "output_type": "stream",
     "text": [
      "LOOP 0\n"
     ]
    },
    {
     "name": "stderr",
     "output_type": "stream",
     "text": [
      "/home/xiaoran/Tools/anaconda3/lib/python3.5/site-packages/lightgbm/engine.py:100: UserWarning: Found `num_rounds` in params. Will use it instead of argument\n",
      "  warnings.warn(\"Found `{}` in params. Will use it instead of argument\".format(alias))\n"
     ]
    },
    {
     "name": "stdout",
     "output_type": "stream",
     "text": [
      "Training until validation scores don't improve for 40 rounds.\n",
      "[5]\tvalid_0's auc: 0.937452\n",
      "[10]\tvalid_0's auc: 0.949805\n",
      "[15]\tvalid_0's auc: 0.95411\n",
      "[20]\tvalid_0's auc: 0.957917\n",
      "[25]\tvalid_0's auc: 0.958776\n",
      "[30]\tvalid_0's auc: 0.959047\n",
      "[35]\tvalid_0's auc: 0.960752\n",
      "[40]\tvalid_0's auc: 0.960986\n",
      "[45]\tvalid_0's auc: 0.961014\n",
      "[50]\tvalid_0's auc: 0.961912\n",
      "[55]\tvalid_0's auc: 0.962029\n",
      "[60]\tvalid_0's auc: 0.961981\n",
      "[65]\tvalid_0's auc: 0.962385\n",
      "[70]\tvalid_0's auc: 0.962435\n",
      "[75]\tvalid_0's auc: 0.9629\n",
      "[80]\tvalid_0's auc: 0.963088\n",
      "[85]\tvalid_0's auc: 0.963447\n",
      "[90]\tvalid_0's auc: 0.96395\n",
      "[95]\tvalid_0's auc: 0.963493\n",
      "[100]\tvalid_0's auc: 0.963694\n",
      "[105]\tvalid_0's auc: 0.963754\n",
      "[110]\tvalid_0's auc: 0.963444\n",
      "[115]\tvalid_0's auc: 0.963571\n",
      "[120]\tvalid_0's auc: 0.963622\n",
      "[125]\tvalid_0's auc: 0.963694\n",
      "Early stopping, best iteration is:\n",
      "[87]\tvalid_0's auc: 0.96405\n"
     ]
    }
   ],
   "source": [
    "def split_train_valid(df_train,test_size=0.2):\n",
    "    '''\n",
    "    k-fold交叉验证,默认k=10\n",
    "    df_train:训练数据\n",
    "    '''\n",
    "    X_train, X_vali, y_train, y_vali = train_test_split(df_train[features], df_train[label], test_size=test_size, random_state=40000)\n",
    "    #added some parameters\n",
    "    \n",
    "    lgb_train = lgb.Dataset(X_train, y_train)\n",
    "    lgb_val = lgb.Dataset(X_vali, y_vali)\n",
    "\n",
    "    return lgb_train, lgb_val\n",
    "\n",
    "\n",
    "# In[31]:\n",
    "\n",
    "models = []\n",
    "iteration = []\n",
    "for i in range(LOOP):\n",
    "    print('LOOP',i)\n",
    "#     dbuild, dvalid, watchlist = split_build_valid(df_train)\n",
    "    lgb_train, lgb_val = split_train_valid(df_train,test_size=0.15)\n",
    "        \n",
    "    model = lgb.train(params, train_set = lgb_train, valid_sets = lgb_val, verbose_eval=5,early_stopping_rounds=ESR)\n",
    "    \n",
    "    models.append(model)\n",
    "    iteration.append(model.best_iteration)\n",
    "\n",
    "    del lgb_train, lgb_val\n",
    "\n",
    "\n",
    "# In[32]:\n",
    "\n",
    "dtest  = df_test[features]\n",
    "proba_test = pd.DataFrame()\n",
    "proba_test['userid'] = df_test['userid']\n",
    "proba_test['orderType'] = [0 for i in range(len(df_test))]\n",
    "proba_test['PROB'] = [0 for i in range(len(df_test))]\n",
    "for model in models:\n",
    "    proba_test['PROB'] += model.predict(dtest)\n",
    "proba_test['PROB'] /= LOOP\n",
    "\n"
   ]
  },
  {
   "cell_type": "code",
   "execution_count": 14,
   "metadata": {
    "collapsed": true
   },
   "outputs": [],
   "source": []
  },
  {
   "cell_type": "code",
   "execution_count": null,
   "metadata": {
    "collapsed": true
   },
   "outputs": [],
   "source": []
  },
  {
   "cell_type": "code",
   "execution_count": 6,
   "metadata": {
    "collapsed": false
   },
   "outputs": [
    {
     "name": "stdout",
     "output_type": "stream",
     "text": [
      "预测的1的个数： 0\n",
      "预测的0的个数： 10076\n"
     ]
    }
   ],
   "source": [
    "# In[30]:\n",
    "print('预测的1的个数：',len(proba_test[proba_test['orderType']==1]))\n",
    "print('预测的0的个数：',len(proba_test[proba_test['orderType']==0]))\n"
   ]
  },
  {
   "cell_type": "code",
   "execution_count": 16,
   "metadata": {
    "collapsed": false
   },
   "outputs": [
    {
     "name": "stdout",
     "output_type": "stream",
     "text": [
      "5.084075471698113\n",
      "6.120848056537103\n"
     ]
    }
   ],
   "source": [
    "print(33682 / 6625)\n",
    "print(8661 / 1415)"
   ]
  },
  {
   "cell_type": "code",
   "execution_count": 7,
   "metadata": {
    "collapsed": true
   },
   "outputs": [],
   "source": [
    "\n",
    "dtest  = df_test[features]\n",
    "proba_test = pd.DataFrame()\n",
    "proba_test['userid'] = df_test['userid']\n",
    "proba_test['orderType'] = [0 for i in range(len(df_test))]\n",
    "for model in models:\n",
    "    proba_test['orderType'] += model.predict(dtest)\n",
    "proba_test['orderType'] /= LOOP\n",
    "\n"
   ]
  },
  {
   "cell_type": "code",
   "execution_count": 8,
   "metadata": {
    "collapsed": false
   },
   "outputs": [
    {
     "data": {
      "text/html": [
       "<div>\n",
       "<style>\n",
       "    .dataframe thead tr:only-child th {\n",
       "        text-align: right;\n",
       "    }\n",
       "\n",
       "    .dataframe thead th {\n",
       "        text-align: left;\n",
       "    }\n",
       "\n",
       "    .dataframe tbody tr th {\n",
       "        vertical-align: top;\n",
       "    }\n",
       "</style>\n",
       "<table border=\"1\" class=\"dataframe\">\n",
       "  <thead>\n",
       "    <tr style=\"text-align: right;\">\n",
       "      <th></th>\n",
       "      <th>userid</th>\n",
       "      <th>orderType</th>\n",
       "    </tr>\n",
       "  </thead>\n",
       "  <tbody>\n",
       "    <tr>\n",
       "      <th>0</th>\n",
       "      <td>100000000371</td>\n",
       "      <td>0.000380</td>\n",
       "    </tr>\n",
       "    <tr>\n",
       "      <th>1</th>\n",
       "      <td>100000001215</td>\n",
       "      <td>0.000177</td>\n",
       "    </tr>\n",
       "    <tr>\n",
       "      <th>2</th>\n",
       "      <td>100000001445</td>\n",
       "      <td>0.000435</td>\n",
       "    </tr>\n",
       "    <tr>\n",
       "      <th>3</th>\n",
       "      <td>100000001575</td>\n",
       "      <td>0.999454</td>\n",
       "    </tr>\n",
       "    <tr>\n",
       "      <th>4</th>\n",
       "      <td>100000001601</td>\n",
       "      <td>0.000399</td>\n",
       "    </tr>\n",
       "  </tbody>\n",
       "</table>\n",
       "</div>"
      ],
      "text/plain": [
       "         userid  orderType\n",
       "0  100000000371   0.000380\n",
       "1  100000001215   0.000177\n",
       "2  100000001445   0.000435\n",
       "3  100000001575   0.999454\n",
       "4  100000001601   0.000399"
      ]
     },
     "execution_count": 8,
     "metadata": {},
     "output_type": "execute_result"
    }
   ],
   "source": [
    "proba_test.head()"
   ]
  },
  {
   "cell_type": "code",
   "execution_count": 9,
   "metadata": {
    "collapsed": true
   },
   "outputs": [],
   "source": [
    "# 写入结果文件\n",
    "proba_test.to_csv('../result/xlsubmussion1.csv',index=False,index_label=False)\n"
   ]
  },
  {
   "cell_type": "code",
   "execution_count": null,
   "metadata": {
    "collapsed": true
   },
   "outputs": [],
   "source": []
  }
 ],
 "metadata": {
  "anaconda-cloud": {},
  "kernelspec": {
   "display_name": "Python [conda root]",
   "language": "python",
   "name": "conda-root-py"
  },
  "language_info": {
   "codemirror_mode": {
    "name": "ipython",
    "version": 3
   },
   "file_extension": ".py",
   "mimetype": "text/x-python",
   "name": "python",
   "nbconvert_exporter": "python",
   "pygments_lexer": "ipython3",
   "version": "3.5.2"
  }
 },
 "nbformat": 4,
 "nbformat_minor": 1
}
