{
 "cells": [
  {
   "cell_type": "code",
   "execution_count": 1,
   "metadata": {
    "collapsed": false
   },
   "outputs": [
    {
     "name": "stderr",
     "output_type": "stream",
     "text": [
      "/home/xiaoran/Tools/anaconda3/lib/python3.5/site-packages/sklearn/cross_validation.py:44: DeprecationWarning: This module was deprecated in version 0.18 in favor of the model_selection module into which all the refactored classes and functions are moved. Also note that the interface of the new CV iterators are different from that of this module. This module will be removed in 0.20.\n",
      "  \"This module will be removed in 0.20.\", DeprecationWarning)\n"
     ]
    }
   ],
   "source": [
    "import xgboost as xgb\n",
    "import pandas as pd\n",
    "import numpy as np\n",
    "from sklearn.model_selection import KFold\n",
    "from sklearn.model_selection import train_test_split\n"
   ]
  },
  {
   "cell_type": "code",
   "execution_count": 16,
   "metadata": {
    "collapsed": true
   },
   "outputs": [],
   "source": [
    "seed = 71\n",
    "\n",
    "np.random.seed(seed)\n",
    "valid_size = 0.2\n",
    "LOOP = 1\n",
    "ESR = 40\n",
    "# XGB param\n",
    "nround = 1500\n",
    "#nround = 10\n",
    "\n",
    "param = {'max_depth':5, # 基准是5 \n",
    "         'eta':0.05,\n",
    "         'gamma ':0.1,\n",
    "         'colsample_bytree':0.8, # old 0.8\n",
    "         'subsample':0.8,\n",
    "         'silent':1,\n",
    "         'eval_metric':'auc',\n",
    "         'objective':'binary:logistic',\n",
    "#          'scale_pos_weight':6\n",
    "        }\n"
   ]
  },
  {
   "cell_type": "code",
   "execution_count": null,
   "metadata": {
    "collapsed": false
   },
   "outputs": [],
   "source": []
  },
  {
   "cell_type": "code",
   "execution_count": null,
   "metadata": {
    "collapsed": false,
    "scrolled": true
   },
   "outputs": [],
   "source": []
  },
  {
   "cell_type": "code",
   "execution_count": null,
   "metadata": {
    "collapsed": false
   },
   "outputs": [],
   "source": []
  },
  {
   "cell_type": "code",
   "execution_count": 17,
   "metadata": {
    "collapsed": false
   },
   "outputs": [],
   "source": [
    "df_train = pd.read_csv('../data/train/orderFuture_train.csv')\n",
    "df_test = pd.read_csv('../data/test/orderFuture_test.csv')\n",
    "\n",
    "df_train_1 = pd.read_csv('../data/df_train_1.csv')\n",
    "df_test_1 = pd.read_csv('../data/df_test_1.csv')\n",
    "\n",
    "df_train_2 = pd.read_csv('../data/df_train_2.csv')\n",
    "df_test_2 = pd.read_csv('../data/df_test_2.csv')\n",
    "\n",
    "\n",
    "df_train_3 = pd.read_csv('../data/df_train_3.csv')\n",
    "df_test_3 = pd.read_csv('../data/df_test_3.csv')\n",
    "\n",
    "\n",
    "df_train = pd.merge(df_train,df_train_3,how='left',on='userid')\n",
    "df_test = pd.merge(df_test,df_test_3,how='left',on='userid')\n",
    "\n",
    "df_train = pd.merge(df_train,df_train_2,how='left',on='userid')\n",
    "df_test = pd.merge(df_test,df_test_2,how='left',on='userid')\n",
    "\n",
    "df_train = pd.merge(df_train,df_train_1,how='left',on='userid')\n",
    "df_test = pd.merge(df_test,df_test_1,how='left',on='userid')\n",
    "\n",
    "\n"
   ]
  },
  {
   "cell_type": "code",
   "execution_count": 23,
   "metadata": {
    "collapsed": false
   },
   "outputs": [],
   "source": [
    "goodfeature = ['diffTimeAvg', 'diffTimeStd','diffTimeSkew', 'diffTimeKurt', 'diffTimeMin', 'diffTimeMax',\n",
    "               'last1DiffTime', 'last2DiffTime', 'last3DiffTime','last4DiffTime','last5DiffTime',]\n"
   ]
  },
  {
   "cell_type": "code",
   "execution_count": 24,
   "metadata": {
    "collapsed": true
   },
   "outputs": [],
   "source": [
    "peedingfeatures = ['last5IncludeType5', 'last5IncludeType6', 'last5IncludeType7',\n",
    "                   'last5IncludeType56', 'last5IncludeType57', 'last5IncludeType67','actionTimeAvg',\n",
    "        'actionTimeStd', 'actionTimeVar','actionTimeSkew', 'actionTimeKurt', \n",
    "        'actionTimeMin', 'actionTimeMax', 'last3ActionTime',\n",
    "       'last4ActionTime', 'last5ActionTime', 'first1ActionTime','first2ActionTime','last5IncludeType567',\n",
    "        'last13DiffTimeAvg','last15DiffTimeAvg', 'last17DiffTimeAvg', 'last110DiffTimeAvg', 'first2Type',\n",
    "                  'first1Type','diffTimeVar',]"
   ]
  },
  {
   "cell_type": "code",
   "execution_count": 25,
   "metadata": {
    "collapsed": false
   },
   "outputs": [
    {
     "data": {
      "text/plain": [
       "11"
      ]
     },
     "execution_count": 25,
     "metadata": {},
     "output_type": "execute_result"
    }
   ],
   "source": [
    "# 设置特征数据，去除id数据，不能进行预测\n",
    "features = goodfeature\n",
    "\n",
    "label = 'orderType'\n",
    "\n",
    "len(features)\n"
   ]
  },
  {
   "cell_type": "code",
   "execution_count": 26,
   "metadata": {
    "collapsed": true
   },
   "outputs": [],
   "source": [
    "def split_train_valid(df_train,test_size=0.2):\n",
    "    '''\n",
    "    k-fold交叉验证,默认k=10\n",
    "    df_train:训练数据\n",
    "    '''\n",
    "    X_train, X_vali, y_train, y_vali = train_test_split(df_train[features], df_train[label], test_size=test_size, random_state=40000)\n",
    "    #added some parameters\n",
    "    \n",
    "#     dtrain = df_train.iloc[train_list]\n",
    "#     dvali =  df_train.iloc[vali_list]\n",
    "    \n",
    "    dtrain = xgb.DMatrix(X_train,label=y_train)\n",
    "    dvalid = xgb.DMatrix(X_vali,label=y_vali)\n",
    "    watchlist = [(dtrain, 'train'),(dvalid, 'valid')]\n",
    "    \n",
    "    return dtrain, dvalid, watchlist"
   ]
  },
  {
   "cell_type": "code",
   "execution_count": 27,
   "metadata": {
    "collapsed": false,
    "scrolled": true
   },
   "outputs": [
    {
     "name": "stdout",
     "output_type": "stream",
     "text": [
      "LOOP 0\n",
      "[0]\ttrain-auc:0.671811\tvalid-auc:0.642903\n",
      "Multiple eval metrics have been passed: 'valid-auc' will be used for early stopping.\n",
      "\n",
      "Will train until valid-auc hasn't improved in 40 rounds.\n",
      "[5]\ttrain-auc:0.728287\tvalid-auc:0.70688\n",
      "[10]\ttrain-auc:0.734358\tvalid-auc:0.712304\n",
      "[15]\ttrain-auc:0.739715\tvalid-auc:0.716564\n",
      "[20]\ttrain-auc:0.742867\tvalid-auc:0.721099\n",
      "[25]\ttrain-auc:0.746336\tvalid-auc:0.723298\n",
      "[30]\ttrain-auc:0.749602\tvalid-auc:0.726092\n",
      "[35]\ttrain-auc:0.752957\tvalid-auc:0.728297\n",
      "[40]\ttrain-auc:0.756084\tvalid-auc:0.730872\n",
      "[45]\ttrain-auc:0.758719\tvalid-auc:0.73252\n",
      "[50]\ttrain-auc:0.761495\tvalid-auc:0.734262\n",
      "[55]\ttrain-auc:0.763688\tvalid-auc:0.736068\n",
      "[60]\ttrain-auc:0.765505\tvalid-auc:0.73699\n",
      "[65]\ttrain-auc:0.768071\tvalid-auc:0.738184\n",
      "[70]\ttrain-auc:0.770878\tvalid-auc:0.739846\n",
      "[75]\ttrain-auc:0.773724\tvalid-auc:0.741049\n",
      "[80]\ttrain-auc:0.775855\tvalid-auc:0.742341\n",
      "[85]\ttrain-auc:0.77736\tvalid-auc:0.74299\n",
      "[90]\ttrain-auc:0.779821\tvalid-auc:0.744051\n",
      "[95]\ttrain-auc:0.78232\tvalid-auc:0.745277\n",
      "[100]\ttrain-auc:0.784605\tvalid-auc:0.745603\n",
      "[105]\ttrain-auc:0.78654\tvalid-auc:0.746274\n",
      "[110]\ttrain-auc:0.788449\tvalid-auc:0.747276\n",
      "[115]\ttrain-auc:0.790742\tvalid-auc:0.747798\n",
      "[120]\ttrain-auc:0.792232\tvalid-auc:0.748315\n",
      "[125]\ttrain-auc:0.794375\tvalid-auc:0.748986\n",
      "[130]\ttrain-auc:0.796209\tvalid-auc:0.749318\n",
      "[135]\ttrain-auc:0.797922\tvalid-auc:0.749225\n",
      "[140]\ttrain-auc:0.799155\tvalid-auc:0.749286\n",
      "[145]\ttrain-auc:0.800525\tvalid-auc:0.749422\n",
      "[150]\ttrain-auc:0.801796\tvalid-auc:0.749635\n",
      "[155]\ttrain-auc:0.803158\tvalid-auc:0.749855\n",
      "[160]\ttrain-auc:0.804296\tvalid-auc:0.750259\n",
      "[165]\ttrain-auc:0.805904\tvalid-auc:0.750649\n",
      "[170]\ttrain-auc:0.807427\tvalid-auc:0.7512\n",
      "[175]\ttrain-auc:0.808429\tvalid-auc:0.751255\n",
      "[180]\ttrain-auc:0.810563\tvalid-auc:0.751771\n",
      "[185]\ttrain-auc:0.812421\tvalid-auc:0.752229\n",
      "[190]\ttrain-auc:0.813841\tvalid-auc:0.752047\n",
      "[195]\ttrain-auc:0.814819\tvalid-auc:0.752393\n",
      "[200]\ttrain-auc:0.815706\tvalid-auc:0.752213\n",
      "[205]\ttrain-auc:0.816784\tvalid-auc:0.752242\n",
      "[210]\ttrain-auc:0.818098\tvalid-auc:0.752218\n",
      "[215]\ttrain-auc:0.81937\tvalid-auc:0.752425\n",
      "[220]\ttrain-auc:0.820894\tvalid-auc:0.752663\n",
      "[225]\ttrain-auc:0.822568\tvalid-auc:0.753099\n",
      "[230]\ttrain-auc:0.823861\tvalid-auc:0.753246\n",
      "[235]\ttrain-auc:0.825247\tvalid-auc:0.753203\n",
      "[240]\ttrain-auc:0.826762\tvalid-auc:0.753244\n",
      "[245]\ttrain-auc:0.827964\tvalid-auc:0.753433\n",
      "[250]\ttrain-auc:0.829386\tvalid-auc:0.753531\n",
      "[255]\ttrain-auc:0.831024\tvalid-auc:0.753508\n",
      "[260]\ttrain-auc:0.832576\tvalid-auc:0.753627\n",
      "[265]\ttrain-auc:0.833733\tvalid-auc:0.753631\n",
      "[270]\ttrain-auc:0.834908\tvalid-auc:0.753747\n",
      "[275]\ttrain-auc:0.836173\tvalid-auc:0.753499\n",
      "[280]\ttrain-auc:0.837327\tvalid-auc:0.753383\n",
      "[285]\ttrain-auc:0.8381\tvalid-auc:0.753216\n",
      "[290]\ttrain-auc:0.839365\tvalid-auc:0.753291\n",
      "[295]\ttrain-auc:0.840829\tvalid-auc:0.75358\n",
      "[300]\ttrain-auc:0.841619\tvalid-auc:0.753418\n",
      "[305]\ttrain-auc:0.842532\tvalid-auc:0.753299\n",
      "[310]\ttrain-auc:0.843223\tvalid-auc:0.753312\n",
      "Stopping. Best iteration:\n",
      "[272]\ttrain-auc:0.83566\tvalid-auc:0.753765\n",
      "\n",
      "Valid Mean:----------------------> 0.164254\n"
     ]
    }
   ],
   "source": [
    "models = []\n",
    "for i in range(LOOP):\n",
    "    print('LOOP',i)\n",
    "#     dbuild, dvalid, watchlist = split_build_valid(df_train)\n",
    "    dbuild, dvalid, watchlist = split_train_valid(df_train,test_size=0.2)\n",
    "        \n",
    "    model = xgb.train(param, dbuild, nround, watchlist,early_stopping_rounds=ESR,verbose_eval=5)\n",
    "    models.append(model)\n",
    "    # VALID\n",
    "    valid_yhat = model.predict(dvalid,ntree_limit=model.best_iteration)\n",
    "    print('Valid Mean:---------------------->', np.mean(valid_yhat))\n",
    "    del dbuild, dvalid, watchlist\n",
    "\n",
    "dtest  = xgb.DMatrix(df_test[features])\n",
    "proba_test = pd.DataFrame()\n",
    "proba_test['userid'] = df_test['userid']\n",
    "proba_test['orderType'] = [0 for i in range(len(df_test))]\n",
    "for model in models:\n",
    "    proba_test['orderType'] += model.predict(dtest)\n",
    "proba_test['orderType'] /= LOOP\n"
   ]
  },
  {
   "cell_type": "code",
   "execution_count": 15,
   "metadata": {
    "collapsed": false,
    "scrolled": false
   },
   "outputs": [
    {
     "data": {
      "text/plain": [
       "[('diffTimeMax', 2088),\n",
       " ('last2DiffTime', 1590),\n",
       " ('last1DiffTime', 1528),\n",
       " ('last3DiffTime', 1456),\n",
       " ('last6DiffTime', 1397),\n",
       " ('last10DiffTime', 1375),\n",
       " ('last8DiffTime', 1367),\n",
       " ('last9DiffTime', 1364),\n",
       " ('last5DiffTime', 1296),\n",
       " ('diffTimeAvg', 1286),\n",
       " ('last4DiffTime', 1284),\n",
       " ('last7DiffTime', 1237),\n",
       " ('diffTimeStd', 1235),\n",
       " ('diffTimeSkew', 1062),\n",
       " ('diffTimeMin', 975),\n",
       " ('diffTimeKurt', 704)]"
      ]
     },
     "execution_count": 15,
     "metadata": {},
     "output_type": "execute_result"
    }
   ],
   "source": [
    "# 计算特征重要程度\n",
    "import operator\n",
    "importance = model.get_fscore()\n",
    "importance = sorted(importance.items(), key=operator.itemgetter(1),reverse=True)\n",
    "importance"
   ]
  },
  {
   "cell_type": "code",
   "execution_count": 108,
   "metadata": {
    "collapsed": false
   },
   "outputs": [
    {
     "name": "stdout",
     "output_type": "stream",
     "text": [
      "LOOP 0\n",
      "[0]\ttrain-auc:0.814569\tvalid-auc:0.820944\n",
      "[5]\ttrain-auc:0.893653\tvalid-auc:0.900847\n",
      "[10]\ttrain-auc:0.907764\tvalid-auc:0.915887\n",
      "[15]\ttrain-auc:0.916174\tvalid-auc:0.923767\n",
      "[20]\ttrain-auc:0.92289\tvalid-auc:0.929225\n",
      "[25]\ttrain-auc:0.926149\tvalid-auc:0.931079\n",
      "[30]\ttrain-auc:0.929994\tvalid-auc:0.934725\n",
      "[35]\ttrain-auc:0.934661\tvalid-auc:0.938686\n",
      "[40]\ttrain-auc:0.937729\tvalid-auc:0.941656\n",
      "[45]\ttrain-auc:0.939822\tvalid-auc:0.944069\n",
      "[50]\ttrain-auc:0.942317\tvalid-auc:0.946281\n",
      "[55]\ttrain-auc:0.944284\tvalid-auc:0.948333\n",
      "[60]\ttrain-auc:0.946066\tvalid-auc:0.950175\n",
      "[65]\ttrain-auc:0.947622\tvalid-auc:0.950879\n",
      "[70]\ttrain-auc:0.949439\tvalid-auc:0.95239\n",
      "[75]\ttrain-auc:0.950667\tvalid-auc:0.953629\n",
      "[80]\ttrain-auc:0.952366\tvalid-auc:0.955191\n",
      "[85]\ttrain-auc:0.95411\tvalid-auc:0.956676\n",
      "[90]\ttrain-auc:0.955908\tvalid-auc:0.958158\n",
      "[95]\ttrain-auc:0.957378\tvalid-auc:0.959736\n",
      "[100]\ttrain-auc:0.958761\tvalid-auc:0.961375\n",
      "[105]\ttrain-auc:0.959873\tvalid-auc:0.962325\n",
      "[110]\ttrain-auc:0.961404\tvalid-auc:0.963831\n",
      "[115]\ttrain-auc:0.962653\tvalid-auc:0.965102\n",
      "[120]\ttrain-auc:0.963384\tvalid-auc:0.965652\n",
      "[125]\ttrain-auc:0.964734\tvalid-auc:0.966961\n",
      "[130]\ttrain-auc:0.965611\tvalid-auc:0.967666\n",
      "[135]\ttrain-auc:0.967343\tvalid-auc:0.969154\n",
      "[140]\ttrain-auc:0.968557\tvalid-auc:0.970194\n",
      "[145]\ttrain-auc:0.969594\tvalid-auc:0.971059\n",
      "[150]\ttrain-auc:0.970613\tvalid-auc:0.972083\n",
      "[155]\ttrain-auc:0.971422\tvalid-auc:0.9729\n",
      "[160]\ttrain-auc:0.972408\tvalid-auc:0.973996\n",
      "[165]\ttrain-auc:0.973042\tvalid-auc:0.974479\n",
      "[170]\ttrain-auc:0.973956\tvalid-auc:0.975324\n",
      "[175]\ttrain-auc:0.974781\tvalid-auc:0.975981\n",
      "[180]\ttrain-auc:0.975732\tvalid-auc:0.976762\n",
      "[185]\ttrain-auc:0.976294\tvalid-auc:0.977302\n",
      "[190]\ttrain-auc:0.97662\tvalid-auc:0.977631\n",
      "[195]\ttrain-auc:0.977409\tvalid-auc:0.978221\n",
      "[200]\ttrain-auc:0.977936\tvalid-auc:0.978678\n",
      "[205]\ttrain-auc:0.978848\tvalid-auc:0.979583\n",
      "[210]\ttrain-auc:0.979487\tvalid-auc:0.980034\n",
      "[215]\ttrain-auc:0.980141\tvalid-auc:0.980705\n",
      "[220]\ttrain-auc:0.980647\tvalid-auc:0.981239\n",
      "[225]\ttrain-auc:0.981174\tvalid-auc:0.981863\n",
      "[230]\ttrain-auc:0.981726\tvalid-auc:0.982256\n",
      "[235]\ttrain-auc:0.982408\tvalid-auc:0.982842\n",
      "[240]\ttrain-auc:0.9828\tvalid-auc:0.983317\n",
      "[245]\ttrain-auc:0.9833\tvalid-auc:0.983839\n",
      "[250]\ttrain-auc:0.983788\tvalid-auc:0.984319\n",
      "[255]\ttrain-auc:0.98426\tvalid-auc:0.984761\n",
      "[260]\ttrain-auc:0.984636\tvalid-auc:0.985142\n",
      "[265]\ttrain-auc:0.985136\tvalid-auc:0.985648\n",
      "[270]\ttrain-auc:0.985467\tvalid-auc:0.985933\n",
      "[275]\ttrain-auc:0.985802\tvalid-auc:0.986319\n",
      "[280]\ttrain-auc:0.986109\tvalid-auc:0.986599\n",
      "[285]\ttrain-auc:0.986423\tvalid-auc:0.986995\n",
      "[290]\ttrain-auc:0.986823\tvalid-auc:0.987284\n",
      "[295]\ttrain-auc:0.987303\tvalid-auc:0.987787\n",
      "Valid Mean:----------------------> 0.160141\n",
      "test\n"
     ]
    }
   ],
   "source": [
    "models = []\n",
    "for i in range(LOOP):\n",
    "    print('LOOP',i)\n",
    "    dbuild, dvalid, watchlist = split_train_valid(df_train,test_size=0.2)\n",
    "    dtrain = xgb.DMatrix(df_train[features],label=df_train[label])\n",
    "    \n",
    "    nround = 300 # 在验证的基础上加上20轮左右\n",
    "    model = xgb.train(param, dtrain,nround,watchlist,verbose_eval=5)\n",
    "    models.append(model)\n",
    "    # VALID\n",
    "    valid_yhat = model.predict(dvalid,ntree_limit=model.best_iteration)\n",
    "    print('Valid Mean:---------------------->', np.mean(valid_yhat))\n",
    "    del dbuild, dvalid, watchlist\n",
    "\n",
    "#==============================================================================\n",
    "print('test')\n",
    "#==============================================================================\n",
    "\n",
    "dtest  = xgb.DMatrix(df_test[features])\n",
    "proba_test = pd.DataFrame()\n",
    "proba_test['userid'] = df_test['userid']\n",
    "proba_test['orderType'] = [0 for i in range(len(df_test))]\n",
    "for model in models:\n",
    "    proba_test['orderType'] += model.predict(dtest)\n",
    "proba_test['orderType'] /= LOOP\n"
   ]
  },
  {
   "cell_type": "code",
   "execution_count": 109,
   "metadata": {
    "collapsed": false
   },
   "outputs": [
    {
     "name": "stdout",
     "output_type": "stream",
     "text": [
      "<class 'pandas.core.frame.DataFrame'>\n",
      "Int64Index: 10076 entries, 0 to 10075\n",
      "Data columns (total 2 columns):\n",
      "userid       10076 non-null int64\n",
      "orderType    10076 non-null float32\n",
      "dtypes: float32(1), int64(1)\n",
      "memory usage: 196.8 KB\n"
     ]
    }
   ],
   "source": [
    "proba_test.info()"
   ]
  },
  {
   "cell_type": "code",
   "execution_count": 110,
   "metadata": {
    "collapsed": true
   },
   "outputs": [],
   "source": [
    "# 写入结果文件\n",
    "proba_test.to_csv('../result/submussion7.csv',index=False,index_label=False)\n"
   ]
  },
  {
   "cell_type": "code",
   "execution_count": null,
   "metadata": {
    "collapsed": true
   },
   "outputs": [],
   "source": []
  }
 ],
 "metadata": {
  "anaconda-cloud": {},
  "kernelspec": {
   "display_name": "Python [conda root]",
   "language": "python",
   "name": "conda-root-py"
  },
  "language_info": {
   "codemirror_mode": {
    "name": "ipython",
    "version": 3
   },
   "file_extension": ".py",
   "mimetype": "text/x-python",
   "name": "python",
   "nbconvert_exporter": "python",
   "pygments_lexer": "ipython3",
   "version": "3.5.2"
  }
 },
 "nbformat": 4,
 "nbformat_minor": 1
}
