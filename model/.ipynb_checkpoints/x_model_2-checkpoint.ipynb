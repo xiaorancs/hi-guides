{
 "cells": [
  {
   "cell_type": "code",
   "execution_count": 1,
   "metadata": {
    "collapsed": false
   },
   "outputs": [
    {
     "name": "stderr",
     "output_type": "stream",
     "text": [
      "/home/xiaoran/Tools/anaconda3/lib/python3.5/site-packages/sklearn/cross_validation.py:44: DeprecationWarning: This module was deprecated in version 0.18 in favor of the model_selection module into which all the refactored classes and functions are moved. Also note that the interface of the new CV iterators are different from that of this module. This module will be removed in 0.20.\n",
      "  \"This module will be removed in 0.20.\", DeprecationWarning)\n",
      "/home/xiaoran/Tools/anaconda3/lib/python3.5/site-packages/sklearn/grid_search.py:43: DeprecationWarning: This module was deprecated in version 0.18 in favor of the model_selection module into which all the refactored classes and functions are moved. This module will be removed in 0.20.\n",
      "  DeprecationWarning)\n"
     ]
    }
   ],
   "source": [
    "import pandas as pd\n",
    "import numpy as np\n",
    "import xgboost as xgb\n",
    "from xgboost.sklearn import XGBClassifier\n",
    "from sklearn import cross_validation, metrics   #Additional scklearn functions\n",
    "from sklearn.grid_search import GridSearchCV   #Perforing grid search\n",
    "\n",
    "\n",
    "import matplotlib.pylab as plt\n",
    "%matplotlib inline\n",
    "from matplotlib.pylab import rcParams\n",
    "rcParams['figure.figsize'] = 12, 4\n",
    "\n",
    "target = 'Disbursed'\n"
   ]
  },
  {
   "cell_type": "code",
   "execution_count": 2,
   "metadata": {
    "collapsed": false
   },
   "outputs": [],
   "source": [
    "def modelfit(alg, dtrain, features, label, useTrainCV=True, cv_folds=5, early_stopping_rounds=50):\n",
    "    \n",
    "    if useTrainCV:\n",
    "        xgb_param = alg.get_xgb_params()\n",
    "        xgtrain = xgb.DMatrix(dtrain[features].values, label=dtrain[label].values)\n",
    "        cvresult = xgb.cv(xgb_param, xgtrain, num_boost_round=alg.get_params()['n_estimators'], nfold=cv_folds,\n",
    "            metrics='auc', early_stopping_rounds=early_stopping_rounds,verbose_eval=5)\n",
    "        alg.set_params(n_estimators=cvresult.shape[0])\n",
    "    \n",
    "    #Fit the algorithm on the data\n",
    "    alg.fit(dtrain[features], dtrain[label],eval_metric='auc')\n",
    "        \n",
    "    #Predict 验证集:\n",
    "    dtrain_predictions = alg.predict(dtrain[features])\n",
    "    dtrain_predprob = alg.predict_proba(dtrain[features])[:,1]\n",
    "    \n",
    "    #Predict training set:\n",
    "    dtrain_predictions = alg.predict(dtrain[features])\n",
    "    dtrain_predprob = alg.predict_proba(dtrain[features])[:,1]\n",
    "    \n",
    "    \n",
    "    #Print model report:\n",
    "    print(\"\\nModel Report\")\n",
    "    print(\"Accuracy : %.4g\" % metrics.accuracy_score(dtrain[label].values, dtrain_predictions))\n",
    "    print(\"AUC Score (Train): %f\" % metrics.roc_auc_score(dtrain[label], dtrain_predprob))\n",
    "    \n",
    "    feat_imp = pd.Series(alg.booster().get_fscore()).sort_values(ascending=False)\n",
    "    feat_imp.head(30).plot(kind='bar', title='Feature Importances')\n",
    "    plt.ylabel('Feature Importance Score')"
   ]
  },
  {
   "cell_type": "code",
   "execution_count": null,
   "metadata": {
    "collapsed": true
   },
   "outputs": [],
   "source": []
  },
  {
   "cell_type": "code",
   "execution_count": 3,
   "metadata": {
    "collapsed": true
   },
   "outputs": [],
   "source": [
    "df_train = pd.read_csv('../data/train/orderFuture_train.csv')\n",
    "df_test = pd.read_csv('../data/test/orderFuture_test.csv')\n",
    "\n",
    "df_train_1 = pd.read_csv('../data/dataSet/df_train_1.csv')\n",
    "df_test_1 = pd.read_csv('../data/dataSet/df_test_1.csv')\n",
    "df_train = pd.merge(df_train,df_train_1,how='left',on='userid')\n",
    "df_test = pd.merge(df_test,df_test_1,how='left',on='userid')\n",
    "\n",
    "\n",
    "df_train_2 = pd.read_csv('../data/dataSet/df_train_2.csv')\n",
    "df_test_2 = pd.read_csv('../data/dataSet/df_test_2.csv')\n",
    "df_train = pd.merge(df_train,df_train_2,how='left',on='userid')\n",
    "df_test = pd.merge(df_test,df_test_2,how='left',on='userid')\n",
    "\n",
    "\n",
    "df_train_3 = pd.read_csv('../data/dataSet/df_train_3.csv')\n",
    "df_test_3 = pd.read_csv('../data/dataSet/df_test_3.csv')\n",
    "df_train = pd.merge(df_train,df_train_3,how='left',on='userid')\n",
    "df_test = pd.merge(df_test,df_test_3,how='left',on='userid')\n",
    "\n",
    "\n",
    "df_train_4 = pd.read_csv('../data/dataSet/df_train_4.csv')\n",
    "df_test_4 = pd.read_csv('../data/dataSet/df_test_4.csv')\n",
    "df_train = pd.merge(df_train,df_train_4,how='left',on='userid')\n",
    "df_test = pd.merge(df_test,df_test_4,how='left',on='userid')\n",
    "\n",
    "df_train_5 = pd.read_csv('../data/dataSet/df_train_5.csv')\n",
    "df_test_5 = pd.read_csv('../data/dataSet/df_test_5.csv')\n",
    "df_train = pd.merge(df_train,df_train_5,how='left',on='userid')\n",
    "df_test = pd.merge(df_test,df_test_5,how='left',on='userid')\n",
    "\n",
    "df_train_6 = pd.read_csv('../data/dataSet/df_train_6.csv')\n",
    "df_test_6 = pd.read_csv('../data/dataSet/df_test_6.csv')\n",
    "df_train = pd.merge(df_train,df_train_6,how='left',on='userid')\n",
    "df_test = pd.merge(df_test,df_test_6,how='left',on='userid')\n",
    "\n",
    "df_train_7 = pd.read_csv('../data/dataSet/df_train_7.csv')\n",
    "df_test_7 = pd.read_csv('../data/dataSet/df_test_7.csv')\n",
    "df_train = pd.merge(df_train,df_train_7,how='left',on='userid')\n",
    "df_test = pd.merge(df_test,df_test_7,how='left',on='userid')\n",
    "\n",
    "\n",
    "df_train_8 = pd.read_csv('../data/dataSet/df_train_8.csv')\n",
    "df_test_8 = pd.read_csv('../data/dataSet/df_test_8.csv')\n",
    "df_train = pd.merge(df_train,df_train_8,how='left',on='userid')\n",
    "df_test = pd.merge(df_test,df_test_8,how='left',on='userid')\n",
    "\n",
    "df_train_9 = pd.read_csv('../data/dataSet/df_train_9.csv')\n",
    "df_test_9 = pd.read_csv('../data/dataSet/df_test_9.csv')\n",
    "df_train = pd.merge(df_train,df_train_9,how='left',on='userid')\n",
    "df_test = pd.merge(df_test,df_test_9,how='left',on='userid')\n",
    "\n",
    "df_train_10 = pd.read_csv('../data/dataSet/df_train_10.csv')\n",
    "df_test_10 = pd.read_csv('../data/dataSet/df_test_10.csv')\n",
    "df_train = pd.merge(df_train,df_train_10,how='left',on='userid')\n",
    "df_test = pd.merge(df_test,df_test_10,how='left',on='userid')\n",
    "\n",
    "df_train_11 = pd.read_csv('../data/dataSet/df_train_11.csv')\n",
    "df_test_11 = pd.read_csv('../data/dataSet/df_test_11.csv')\n",
    "df_train = pd.merge(df_train,df_train_11,how='left',on='userid')\n",
    "df_test = pd.merge(df_test,df_test_11,how='left',on='userid')\n",
    "\n"
   ]
  },
  {
   "cell_type": "code",
   "execution_count": null,
   "metadata": {
    "collapsed": false
   },
   "outputs": [],
   "source": []
  },
  {
   "cell_type": "code",
   "execution_count": null,
   "metadata": {
    "collapsed": false
   },
   "outputs": [],
   "source": []
  },
  {
   "cell_type": "code",
   "execution_count": 4,
   "metadata": {
    "collapsed": true
   },
   "outputs": [],
   "source": [
    "stopfeatures = ['hasOrder','actionTypeIn24Avg','actionTypeIn14Avg',\n",
    "                'actionTime24CurLastDiff','actionTime59CurLastDiff','actionTimeLast0.042Days8Cnt',\n",
    "                'actionTimeLast0.042Days9Cnt','actionTimeLast0.125Days8Cnt','actionTimeLast0.125Days9Cnt',\n",
    "                'actionTimeLast0.25Days8Cnt','actionTimeLast0.25Days9Cnt','actionTimeLast0.5Days24Cnt',\n",
    "                'actionTimeLast0.5Days59Cnt','actionTimeLast0.5Days9Cnt','actionTimeLast15Days24Cnt',\n",
    "                'actionTimeLast15Days59Cnt','actionTimeLast1Days24Cnt','actionTimeLast1Days59Cnt',\n",
    "                'actionTimeLast1Days9Cnt','actionTimeLast3Days24Cnt','actionTimeLast3Days59Cnt',\n",
    "                'actionTimeLast3Days9Cnt','actionTimeLast5Days24Cnt','actionTimeLast5Days59Cnt',\n",
    "                'actionTimeLast7Days24Cnt','actionTimeLast7Days59Cnt','actionTimeLast5Days9Cnt',\n",
    "                 # df_xtrain_6\n",
    "                'actionTime24LastFirstDiffRate','actionType8Cnt','actionTypeIn14Cnt','actionTime24CurFirstDiff',\n",
    "                'actionType3Cnt_actionCnt_rate','actionTypeIn24Cnt','actionTime24LastFirstDiff',\n",
    "                'actionTypeIn29Cnt','actionTypeCnt','actionType4Cnt','actionType2Cnt',\n",
    "                'actionType3Cnt','actionTypeIn29Cnt_actionCnt_rate','actionTypeIn14Cnt_actionCnt_rate',\n",
    "                'actionType9Cnt','actionTypeIn14Avg','actionTypeIn59Avg','actionTypeIn29Avg','actionTypeIn24Avg',\n",
    "                # df_xtrain_7\n",
    "                'type4DiffTimeAvg','typeDiff8TimeMaxSubAvg','type4Last3DiffTime','type2Last2DiffTime',\n",
    "                'type9DiffTimeAvg','typeDiff2TimeMaxSubAvg','type7Last2DiffTime','typeDiff4TimeAvgSubMin',\n",
    "                'type8Last2DiffTime','type4Last2DiffTime','typeDiff7TimeMaxSubMin','typeDiff8TimeAvgSubMin',\n",
    "                'type3DiffTimeMax','type2DiffTimeAvg','type3Last2DiffTime','type2DiffTimeMin',\n",
    "                'typeDiff2TimeAvgSubMin','type8Last1DiffTime','type8DiffTimeAvg','type8DiffTimeMin',\n",
    "                'type3DiffTimeAvg','type2DiffTimeMax','type4DiffTimeMax','typeDiff3TimeMaxSubMin',\n",
    "                'typeDiff8TimeMaxSubMin','type8Last3DiffTime','typeDiff2TimeMaxSubMin','type7Last3DiffTime',\n",
    "                'typeDiff4TimeMaxSubMin','typeDiff7TimeAvgSubMin','type2Last3DiffTime','typeDiff3TimeAvgSubMin',\n",
    "                'type9DiffTimeMax','type2Last1DiffTime','type4Last1DiffTime','typeDiff9TimeAvgSubMin',\n",
    "                'type3DiffTimeMin','type3Last1DiffTime','type9Last2DiffTime','type3Last3DiffTime',\n",
    "                'type4DiffTimeMin','type9Last3DiffTime','type9DiffTimeMin','typeDiff9TimeMaxSubAvg',\n",
    "                'type9Last1DiffTime','typeDiff9TimeMaxSubMin',\n",
    "                # df_xtrain_8\n",
    "                'actionTimeLast0.042Days1Cnt','actionTimeLast15Days2Cnt','actionTimeLast15Days8Cnt',\n",
    "                'actionTimeLast0.5Days6Cnt','actionTimeLast0.25Days5Cnt','actionTimeLast0.25Days6Cnt',\n",
    "                 'actionTimeLast0.125Days1Cnt','actionTimeLast0.5Days1Cnt','actionTimeLast0.125Days59Cnt',\n",
    "                 'actionTimeLast15Days9Cnt','actionTimeLast5Days2Cnt','actionTimeLast7Days8Cnt',\n",
    "                 'actionTimeLast7Days7Cnt','actionTimeLast7Days3Cnt','actionTimeLast7Days4Cnt',\n",
    "                 'actionTimeLast5Days4Cnt','actionTimeLast3Days4Cnt','actionTimeLast7Days2Cnt',\n",
    "                 'actionTimeLast1Days8Cnt','actionTimeLast0.5Days7Cnt','actionTimeLast3Days3Cnt',\n",
    "                 'actionTimeLast3Days2Cnt','actionTimeLast1Days3Cnt','actionTimeLast0.125Days4Cnt',\n",
    "                 'actionTimeLast0.125Days7Cnt','actionTimeLast5Days8Cnt','actionTimeLast1Days4Cnt',\n",
    "                 'actionTimeLast0.042Days4Cnt','actionTimeLast0.25Days7Cnt','actionTimeLast3Days8Cnt',\n",
    "                 'actionTimeLast0.042Days3Cnt','actionTimeLast3Days7Cnt','actionTimeLast0.5Days8Cnt',\n",
    "                 'actionTimeLast5Days3Cnt','actionTimeLast0.125Days3Cnt','actionTimeLast1Days7Cnt',\n",
    "                 'actionTimeLast0.5Days3Cnt','actionTimeLast0.125Days24Cnt','actionTimeLast1Days2Cnt',\n",
    "                 'actionTimeLast0.125Days2Cnt','actionTimeLast0.25Days3Cnt','actionTimeLast5Days7Cnt',\n",
    "                 'actionTimeLast0.042Days2Cnt','actionTimeLast0.5Days4Cnt','actionTimeLast7Days9Cnt',\n",
    "                 'actionTimeLast0.5Days2Cnt','actionTimeLast5Days9Cnt','actionTimeLast0.25Days4Cnt',\n",
    "                 'actionTimeLast0.25Days2Cnt','actionTimeLast3Days9Cnt','actionTimeLast1Days9Cnt',\n",
    "                 'actionTimeLast0.25Days24Cnt','actionTimeLast0.125Days8Cnt','actionTimeLast0.125Days9Cnt',\n",
    "                 'actionTimeLast0.25Days59Cnt','actionTimeLast0.5Days59Cnt','actionTimeLast0.042Days9Cnt',\n",
    "                 'actionTimeLast0.042Days8Cnt','actionTimeLast0.25Days8Cnt','actionTimeLast1Days59Cnt',\n",
    "                # df_xtrain_10\n",
    "                'type7Last2Time','type2Last2Time','type9Last1Time','type8Last2Time','type2Last3Time',\n",
    "                'type7Last3Time','type3Last3Time','type4Last2Time','type4Last3Time','type3Last2Time',\n",
    "                'type8Last3Time','type9Last2Time','type9Last3Time']\n",
    "\n",
    "               "
   ]
  },
  {
   "cell_type": "code",
   "execution_count": 5,
   "metadata": {
    "collapsed": false
   },
   "outputs": [
    {
     "data": {
      "text/plain": [
       "408"
      ]
     },
     "execution_count": 5,
     "metadata": {},
     "output_type": "execute_result"
    }
   ],
   "source": [
    "goodfeature = list(df_test.columns[1:])\n",
    "\n",
    "for f in stopfeatures:\n",
    "    if f in goodfeature:\n",
    "        goodfeature.remove(f)\n",
    "\n",
    "# 设置特征数据，去除id数据，不能进行预测\n",
    "features = goodfeature\n",
    "\n",
    "label = 'orderType'\n",
    "\n",
    "len(features)\n"
   ]
  },
  {
   "cell_type": "code",
   "execution_count": 6,
   "metadata": {
    "collapsed": false,
    "scrolled": true
   },
   "outputs": [
    {
     "name": "stdout",
     "output_type": "stream",
     "text": [
      "[0]\ttrain-auc:0.891062+0.00593647\ttest-auc:0.887548+0.00518239\n",
      "[5]\ttrain-auc:0.92943+0.00210338\ttest-auc:0.922633+0.00356183\n",
      "[10]\ttrain-auc:0.937842+0.00244148\ttest-auc:0.93044+0.00287702\n",
      "[15]\ttrain-auc:0.943417+0.0014962\ttest-auc:0.935015+0.00317242\n",
      "[20]\ttrain-auc:0.947938+0.00100146\ttest-auc:0.938626+0.00301995\n",
      "[25]\ttrain-auc:0.951723+0.00108112\ttest-auc:0.941808+0.00284177\n",
      "[30]\ttrain-auc:0.954281+0.000808814\ttest-auc:0.943805+0.00248077\n",
      "[35]\ttrain-auc:0.957314+0.000640547\ttest-auc:0.946225+0.00273097\n",
      "[40]\ttrain-auc:0.960387+0.000486144\ttest-auc:0.948379+0.0030201\n",
      "[45]\ttrain-auc:0.963123+0.000726208\ttest-auc:0.950042+0.00298771\n",
      "[50]\ttrain-auc:0.965384+0.000532276\ttest-auc:0.951572+0.00247891\n",
      "[55]\ttrain-auc:0.967789+0.000461079\ttest-auc:0.953243+0.0024159\n",
      "[60]\ttrain-auc:0.970041+0.00060414\ttest-auc:0.954524+0.00228654\n",
      "[65]\ttrain-auc:0.971856+0.000493214\ttest-auc:0.955419+0.00217246\n",
      "[70]\ttrain-auc:0.973446+0.000368725\ttest-auc:0.956292+0.00209176\n",
      "[75]\ttrain-auc:0.974889+0.00027374\ttest-auc:0.957086+0.00211891\n",
      "[80]\ttrain-auc:0.976124+0.000339786\ttest-auc:0.957587+0.0021259\n",
      "[85]\ttrain-auc:0.977317+0.000294842\ttest-auc:0.958117+0.00209632\n",
      "[90]\ttrain-auc:0.978471+0.000310291\ttest-auc:0.958641+0.00195862\n",
      "[95]\ttrain-auc:0.979645+0.000377795\ttest-auc:0.959283+0.00184054\n",
      "[100]\ttrain-auc:0.980565+0.000384198\ttest-auc:0.959698+0.0017222\n",
      "[105]\ttrain-auc:0.98157+0.000379521\ttest-auc:0.960072+0.0017204\n",
      "[110]\ttrain-auc:0.982336+0.000349472\ttest-auc:0.96044+0.00170337\n",
      "[115]\ttrain-auc:0.983055+0.000363089\ttest-auc:0.960689+0.00179379\n",
      "[120]\ttrain-auc:0.983783+0.00035902\ttest-auc:0.960996+0.00182993\n",
      "[125]\ttrain-auc:0.984481+0.000318555\ttest-auc:0.961297+0.00200364\n",
      "[130]\ttrain-auc:0.985238+0.000324019\ttest-auc:0.961577+0.00208306\n",
      "[135]\ttrain-auc:0.985848+0.000365883\ttest-auc:0.96182+0.00182283\n",
      "[140]\ttrain-auc:0.986391+0.00033114\ttest-auc:0.96184+0.0018134\n",
      "[145]\ttrain-auc:0.986975+0.000291012\ttest-auc:0.961917+0.00179754\n",
      "[150]\ttrain-auc:0.987457+0.000285816\ttest-auc:0.962066+0.00179735\n",
      "[155]\ttrain-auc:0.987959+0.000273792\ttest-auc:0.962198+0.00181269\n",
      "[160]\ttrain-auc:0.988504+0.000270818\ttest-auc:0.962253+0.00178283\n",
      "[165]\ttrain-auc:0.988955+0.000189497\ttest-auc:0.962371+0.00187324\n",
      "[170]\ttrain-auc:0.989439+0.000178782\ttest-auc:0.962477+0.00190333\n",
      "[175]\ttrain-auc:0.989883+0.00020489\ttest-auc:0.962541+0.00195063\n",
      "[180]\ttrain-auc:0.990249+0.000227889\ttest-auc:0.962619+0.00197968\n",
      "[185]\ttrain-auc:0.990634+0.000187586\ttest-auc:0.962756+0.00203369\n",
      "[190]\ttrain-auc:0.991025+0.000215774\ttest-auc:0.962873+0.00200912\n",
      "[195]\ttrain-auc:0.991373+0.000213358\ttest-auc:0.962949+0.00194026\n",
      "[200]\ttrain-auc:0.991761+0.000189007\ttest-auc:0.963045+0.00189007\n",
      "[205]\ttrain-auc:0.992061+0.000193372\ttest-auc:0.96311+0.00184819\n",
      "[210]\ttrain-auc:0.992339+0.000241164\ttest-auc:0.963145+0.00179992\n",
      "[215]\ttrain-auc:0.992653+0.000227671\ttest-auc:0.963209+0.0016874\n",
      "[220]\ttrain-auc:0.992879+0.000227479\ttest-auc:0.963157+0.00167415\n",
      "[225]\ttrain-auc:0.993153+0.000234047\ttest-auc:0.963195+0.00173249\n",
      "[230]\ttrain-auc:0.993411+0.000245323\ttest-auc:0.963142+0.00162519\n",
      "[235]\ttrain-auc:0.993656+0.000207604\ttest-auc:0.963106+0.00157445\n",
      "[240]\ttrain-auc:0.99392+0.000181942\ttest-auc:0.96314+0.00161029\n",
      "[245]\ttrain-auc:0.994147+0.000209606\ttest-auc:0.963183+0.00153536\n",
      "[250]\ttrain-auc:0.994376+0.000231131\ttest-auc:0.963209+0.0015708\n",
      "[255]\ttrain-auc:0.994594+0.000238255\ttest-auc:0.963225+0.00158465\n",
      "[260]\ttrain-auc:0.994828+0.000261499\ttest-auc:0.963229+0.0016204\n",
      "[265]\ttrain-auc:0.995054+0.000257184\ttest-auc:0.963235+0.0015979\n",
      "[270]\ttrain-auc:0.995255+0.000238564\ttest-auc:0.963211+0.00167424\n",
      "[275]\ttrain-auc:0.995439+0.000219895\ttest-auc:0.963223+0.00166136\n",
      "[280]\ttrain-auc:0.995622+0.000226855\ttest-auc:0.963265+0.00161911\n",
      "[285]\ttrain-auc:0.995812+0.000231392\ttest-auc:0.963299+0.00159017\n",
      "[290]\ttrain-auc:0.995978+0.000234214\ttest-auc:0.963323+0.00160554\n",
      "[295]\ttrain-auc:0.996153+0.00023423\ttest-auc:0.963399+0.00156924\n",
      "[300]\ttrain-auc:0.996326+0.00020915\ttest-auc:0.963447+0.00161797\n",
      "[305]\ttrain-auc:0.996483+0.000204365\ttest-auc:0.963391+0.00159252\n",
      "[310]\ttrain-auc:0.996634+0.000204037\ttest-auc:0.963366+0.00151954\n",
      "[315]\ttrain-auc:0.99678+0.000175616\ttest-auc:0.963308+0.00143939\n",
      "[320]\ttrain-auc:0.996913+0.000186313\ttest-auc:0.963284+0.00134145\n",
      "[325]\ttrain-auc:0.997038+0.000168678\ttest-auc:0.963302+0.00135994\n",
      "[330]\ttrain-auc:0.997147+0.000153161\ttest-auc:0.96327+0.00136812\n",
      "[335]\ttrain-auc:0.997263+0.000160496\ttest-auc:0.963289+0.00133057\n",
      "[340]\ttrain-auc:0.997368+0.000154348\ttest-auc:0.963352+0.00125811\n",
      "[345]\ttrain-auc:0.997477+0.000137405\ttest-auc:0.963349+0.00123516\n",
      "\n",
      "Model Report\n",
      "Accuracy : 0.9656\n",
      "AUC Score (Train): 0.994874\n"
     ]
    },
    {
     "data": {
      "image/png": "[encoded data removed]",
      "text/plain": [
       "<matplotlib.figure.Figure at 0x7f9944a9c5f8>"
      ]
     },
     "metadata": {},
     "output_type": "display_data"
    }
   ],
   "source": [
    "xgb1 = XGBClassifier(\n",
    "     learning_rate =0.1,\n",
    "     n_estimators=1000,\n",
    "     max_depth=5,\n",
    "     min_child_weight=1,\n",
    "     gamma=0,\n",
    "     subsample=0.8,\n",
    "     colsample_bytree=0.8,\n",
    "     objective= 'binary:logistic',\n",
    "     scale_pos_weight=4,\n",
    "     seed=27)\n",
    "\n",
    "modelfit(xgb1, df_train, features, label)"
   ]
  },
  {
   "cell_type": "code",
   "execution_count": 7,
   "metadata": {
    "collapsed": false
   },
   "outputs": [],
   "source": [
    "proba_test = pd.DataFrame()\n",
    "proba_test['userid'] = df_test['userid']\n",
    "proba_test['orderType'] = [0 for i in range(len(df_test))]\n",
    "proba_test['orderType'] = xgb1.predict_proba(df_test[features])[:,1]"
   ]
  },
  {
   "cell_type": "code",
   "execution_count": 8,
   "metadata": {
    "collapsed": true
   },
   "outputs": [],
   "source": [
    "# 写入结果文件\n",
    "proba_test.to_csv('../result/submussion_2.csv',index=False,index_label=False)\n"
   ]
  },
  {
   "cell_type": "code",
   "execution_count": null,
   "metadata": {
    "collapsed": true
   },
   "outputs": [],
   "source": []
  }
 ],
 "metadata": {
  "anaconda-cloud": {},
  "kernelspec": {
   "display_name": "Python [conda root]",
   "language": "python",
   "name": "conda-root-py"
  },
  "language_info": {
   "codemirror_mode": {
    "name": "ipython",
    "version": 3
   },
   "file_extension": ".py",
   "mimetype": "text/x-python",
   "name": "python",
   "nbconvert_exporter": "python",
   "pygments_lexer": "ipython3",
   "version": "3.5.2"
  }
 },
 "nbformat": 4,
 "nbformat_minor": 1
}
