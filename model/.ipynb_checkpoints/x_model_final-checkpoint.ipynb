{
 "cells": [
  {
   "cell_type": "code",
   "execution_count": 1,
   "metadata": {
    "collapsed": false
   },
   "outputs": [
    {
     "name": "stderr",
     "output_type": "stream",
     "text": [
      "/home/xiaoran/Tools/anaconda3/lib/python3.5/site-packages/sklearn/cross_validation.py:44: DeprecationWarning: This module was deprecated in version 0.18 in favor of the model_selection module into which all the refactored classes and functions are moved. Also note that the interface of the new CV iterators are different from that of this module. This module will be removed in 0.20.\n",
      "  \"This module will be removed in 0.20.\", DeprecationWarning)\n",
      "/home/xiaoran/Tools/anaconda3/lib/python3.5/site-packages/sklearn/grid_search.py:43: DeprecationWarning: This module was deprecated in version 0.18 in favor of the model_selection module into which all the refactored classes and functions are moved. This module will be removed in 0.20.\n",
      "  DeprecationWarning)\n"
     ]
    }
   ],
   "source": [
    "import pandas as pd\n",
    "import numpy as np\n",
    "import xgboost as xgb\n",
    "from xgboost.sklearn import XGBClassifier\n",
    "from sklearn import cross_validation, metrics   #Additional scklearn functions\n",
    "from sklearn.grid_search import GridSearchCV   #Perforing grid search\n",
    "\n",
    "import featureGet\n",
    "\n",
    "import matplotlib.pylab as plt\n",
    "%matplotlib inline\n",
    "from matplotlib.pylab import rcParams\n",
    "rcParams['figure.figsize'] = 12, 4\n",
    "\n"
   ]
  },
  {
   "cell_type": "code",
   "execution_count": 2,
   "metadata": {
    "collapsed": true
   },
   "outputs": [],
   "source": [
    "def modelfit(alg, dtrain, features, label, useTrainCV=True, cv_folds=5, early_stopping_rounds=50):\n",
    "    \n",
    "    if useTrainCV:\n",
    "        xgb_param = alg.get_xgb_params()\n",
    "        xgtrain = xgb.DMatrix(dtrain[features].values, label=dtrain[label].values)\n",
    "        cvresult = xgb.cv(xgb_param, xgtrain, num_boost_round=alg.get_params()['n_estimators'], nfold=cv_folds,\n",
    "            metrics='auc', early_stopping_rounds=early_stopping_rounds,verbose_eval=50)\n",
    "        alg.set_params(n_estimators=cvresult.shape[0])\n",
    "    \n",
    "    #Fit the algorithm on the data\n",
    "    alg.fit(dtrain[features], dtrain[label],eval_metric='auc')\n",
    "        \n",
    "    #Predict 验证集:\n",
    "    dtrain_predictions = alg.predict(dtrain[features])\n",
    "    dtrain_predprob = alg.predict_proba(dtrain[features])[:,1]\n",
    "    \n",
    "    #Predict training set:\n",
    "    dtrain_predictions = alg.predict(dtrain[features])\n",
    "    dtrain_predprob = alg.predict_proba(dtrain[features])[:,1]\n",
    "    \n",
    "    \n",
    "    #Print model report:\n",
    "    print(\"\\nModel Report\")\n",
    "    print(\"Accuracy : %.4g\" % metrics.accuracy_score(dtrain[label].values, dtrain_predictions))\n",
    "    print(\"AUC Score (Train): %f\" % metrics.roc_auc_score(dtrain[label], dtrain_predprob))\n",
    "    \n",
    "    feat_imp = pd.Series(alg.booster().get_fscore()).sort_values(ascending=False)\n",
    "    feat_imp.head(30).plot(kind='bar', title='Feature Importances')\n",
    "    plt.ylabel('Feature Importance Score')"
   ]
  },
  {
   "cell_type": "code",
   "execution_count": 3,
   "metadata": {
    "collapsed": true
   },
   "outputs": [],
   "source": [
    "def runmodel(df_train,df_test, features, label, outfile):\n",
    "    '''运行模型\n",
    "    \n",
    "    '''\n",
    "    xgb1 = XGBClassifier(\n",
    "         learning_rate =0.1,\n",
    "         n_estimators=1000,\n",
    "         max_depth=5,\n",
    "         min_child_weight=1,\n",
    "         gamma=0,\n",
    "         subsample=0.8,\n",
    "         colsample_bytree=0.8,\n",
    "         objective= 'binary:logistic',\n",
    "         scale_pos_weight=4,\n",
    "         seed=27)\n",
    "\n",
    "    modelfit(xgb1, df_train, features, label)\n",
    "    \n",
    "    proba_test = pd.DataFrame()\n",
    "    proba_test['userid'] = df_test['userid']\n",
    "    proba_test['orderType'] = [0 for i in range(len(df_test))]\n",
    "    proba_test['orderType'] = xgb1.predict_proba(df_test[features])[:,1]\n",
    "\n",
    "    # 写入结果文件\n",
    "    proba_test.to_csv(outfile,index=False,index_label=False)\n",
    "    \n",
    "    return proba_test\n",
    "    "
   ]
  },
  {
   "cell_type": "code",
   "execution_count": 5,
   "metadata": {
    "collapsed": false
   },
   "outputs": [],
   "source": [
    "def Main():\n",
    "    \n",
    "    sub = []\n",
    "    \n",
    "    print(\"model 1-------------------->\")\n",
    "    # 第1个模型\n",
    "    df_train,df_test,features,label = featureGet.getDataSet1()\n",
    "    outfile1 = '../result/sub_1.csv'\n",
    "    sub.append(runmodel(df_train, df_test, features, label, outfile1))\n",
    "    \n",
    "    # 第2个模型\n",
    "    print(\"model 2-------------------->\")\n",
    "    df_train,df_test,features,label = featureGet.getDataSet2()\n",
    "    outfile1 = '../result/sub_2.csv'\n",
    "    sub.append(runmodel(df_train, df_test, features, label, outfile1))\n",
    "    \n",
    "    # 第3个模型\n",
    "    print(\"model 3-------------------->\")\n",
    "    df_train,df_test,features,label = featureGet.getDataSet3()\n",
    "    outfile1 = '../result/sub_3.csv'\n",
    "    sub.append(runmodel(df_train, df_test, features, label, outfile1))\n",
    "    \n",
    "    # 第4个模型\n",
    "    print(\"model 4-------------------->\")\n",
    "    df_train,df_test,features,label = featureGet.getDataSet4()\n",
    "    outfile1 = '../result/sub_4.csv'\n",
    "    sub.append(runmodel(df_train, df_test, features, label, outfile1))\n",
    "    \n",
    "    # 第5个模型\n",
    "    print(\"model 5-------------------->\")\n",
    "    df_train,df_test,features,label = featureGet.getDataSet5()\n",
    "    outfile1 = '../result/sub_5.csv'\n",
    "    sub.append(runmodel(df_train, df_test, features, label, outfile1))\n",
    "    \n",
    "    # 第6个模型\n",
    "    print(\"model 6-------------------->\")\n",
    "    df_train,df_test,features,label = featureGet.getDataSet6()\n",
    "    outfile1 = '../result/sub_6.csv'\n",
    "    sub.append(runmodel(df_train, df_test, features, label, outfile1))\n",
    "    \n",
    "    subAvg = sub[0]\n",
    "    \n",
    "    for i in range(1,len(sub)):\n",
    "        subAvg['orderType'] = subAvg['orderType'] + sub[i]['orderType']\n",
    "    \n",
    "    subAvg['orderType'] = subAvg['orderType'] / len(sub)\n",
    "    \n",
    "    subAvg.to_csv('../result/subAvg.csv',index=False)\n",
    "    "
   ]
  },
  {
   "cell_type": "code",
   "execution_count": 6,
   "metadata": {
    "collapsed": false
   },
   "outputs": [
    {
     "name": "stdout",
     "output_type": "stream",
     "text": [
      "model 1-------------------->\n"
     ]
    },
    {
     "ename": "UnboundLocalError",
     "evalue": "local variable 'features' referenced before assignment",
     "output_type": "error",
     "traceback": [
      "\u001b[0;31m---------------------------------------------------------------------------\u001b[0m",
      "\u001b[0;31mUnboundLocalError\u001b[0m                         Traceback (most recent call last)",
      "\u001b[0;32m<ipython-input-6-c4b5bf336bb6>\u001b[0m in \u001b[0;36m<module>\u001b[0;34m()\u001b[0m\n\u001b[0;32m----> 1\u001b[0;31m \u001b[0mMain\u001b[0m\u001b[0;34m(\u001b[0m\u001b[0;34m)\u001b[0m\u001b[0;34m\u001b[0m\u001b[0m\n\u001b[0m",
      "\u001b[0;32m<ipython-input-5-942546907c28>\u001b[0m in \u001b[0;36mMain\u001b[0;34m()\u001b[0m\n\u001b[1;32m      5\u001b[0m     \u001b[0mprint\u001b[0m\u001b[0;34m(\u001b[0m\u001b[0;34m\"model 1-------------------->\"\u001b[0m\u001b[0;34m)\u001b[0m\u001b[0;34m\u001b[0m\u001b[0m\n\u001b[1;32m      6\u001b[0m     \u001b[0;31m# 第1个模型\u001b[0m\u001b[0;34m\u001b[0m\u001b[0;34m\u001b[0m\u001b[0m\n\u001b[0;32m----> 7\u001b[0;31m     \u001b[0mdf_train\u001b[0m\u001b[0;34m,\u001b[0m\u001b[0mdf_test\u001b[0m\u001b[0;34m,\u001b[0m\u001b[0mfeatures\u001b[0m\u001b[0;34m,\u001b[0m\u001b[0mlabel\u001b[0m \u001b[0;34m=\u001b[0m \u001b[0mfeatures\u001b[0m\u001b[0;34m.\u001b[0m\u001b[0mgetDataSet1\u001b[0m\u001b[0;34m(\u001b[0m\u001b[0;34m)\u001b[0m\u001b[0;34m\u001b[0m\u001b[0m\n\u001b[0m\u001b[1;32m      8\u001b[0m     \u001b[0moutfile1\u001b[0m \u001b[0;34m=\u001b[0m \u001b[0;34m'../result/sub_1.csv'\u001b[0m\u001b[0;34m\u001b[0m\u001b[0m\n\u001b[1;32m      9\u001b[0m     \u001b[0msub\u001b[0m\u001b[0;34m.\u001b[0m\u001b[0mappend\u001b[0m\u001b[0;34m(\u001b[0m\u001b[0mrunmodel\u001b[0m\u001b[0;34m(\u001b[0m\u001b[0mdf_train\u001b[0m\u001b[0;34m,\u001b[0m \u001b[0mdf_test\u001b[0m\u001b[0;34m,\u001b[0m \u001b[0mfeatures\u001b[0m\u001b[0;34m,\u001b[0m \u001b[0mlabel\u001b[0m\u001b[0;34m,\u001b[0m \u001b[0moutfile1\u001b[0m\u001b[0;34m)\u001b[0m\u001b[0;34m)\u001b[0m\u001b[0;34m\u001b[0m\u001b[0m\n",
      "\u001b[0;31mUnboundLocalError\u001b[0m: local variable 'features' referenced before assignment"
     ]
    }
   ],
   "source": [
    "Main()"
   ]
  },
  {
   "cell_type": "code",
   "execution_count": null,
   "metadata": {
    "collapsed": true
   },
   "outputs": [],
   "source": []
  }
 ],
 "metadata": {
  "anaconda-cloud": {},
  "kernelspec": {
   "display_name": "Python [conda root]",
   "language": "python",
   "name": "conda-root-py"
  },
  "language_info": {
   "codemirror_mode": {
    "name": "ipython",
    "version": 3
   },
   "file_extension": ".py",
   "mimetype": "text/x-python",
   "name": "python",
   "nbconvert_exporter": "python",
   "pygments_lexer": "ipython3",
   "version": "3.5.2"
  }
 },
 "nbformat": 4,
 "nbformat_minor": 1
}
